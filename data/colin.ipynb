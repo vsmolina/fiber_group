{
 "cells": [
  {
   "cell_type": "code",
   "execution_count": 84,
   "metadata": {},
   "outputs": [],
   "source": [
    "# initial imports\n",
    "import os\n",
    "\n",
    "import panel as pn\n",
    "pn.extension('plotly')\n",
    "import plotly.express as px\n",
    "import pandas as pd\n",
    "import hvplot.pandas\n",
    "#import geopandas\n",
    "import matplotlib.pyplot as plt\n",
    "from pathlib import Path\n",
    "from dotenv import load_dotenv\n",
    "\n",
    "%matplotlib inline"
   ]
  },
  {
   "cell_type": "code",
   "execution_count": 85,
   "metadata": {},
   "outputs": [],
   "source": [
    "# Read the Mapbox API key\n",
    "load_dotenv()\n",
    "mapbox_token = os.getenv(\"MAPBOX_API_KEY\")"
   ]
  },
  {
   "cell_type": "code",
   "execution_count": 120,
   "metadata": {},
   "outputs": [
    {
     "output_type": "execute_result",
     "data": {
      "text/plain": [
       "                              Plan   City State      County          ISP  \\\n",
       "Zip_code                                                                   \n",
       "83406     Ammon, Century Link, 100  Ammon    ID  Bonneville  CenturyLink   \n",
       "83406      Ammon, Century Link, 60  Ammon    ID  Bonneville  CenturyLink   \n",
       "83406      Ammon, Century Link, 80  Ammon    ID  Bonneville  CenturyLink   \n",
       "83406       Ammon, CenturyLink, 12  Ammon    ID  Bonneville  CenturyLink   \n",
       "83406       Ammon, CenturyLink, 20  Ammon    ID  Bonneville  CenturyLink   \n",
       "\n",
       "         Network_ tech Municipal_network  Download_speed_Mbps  \\\n",
       "Zip_code                                                        \n",
       "83406             ADSL                No                100.0   \n",
       "83406             ADSL                No                 60.0   \n",
       "83406             ADSL                No                 80.0   \n",
       "83406             ADSL                No                 12.0   \n",
       "83406             ADSL                No                 20.0   \n",
       "\n",
       "          Upload_speed_Mbps  Cost_per_download Mbps  ...  Self_install_ fee  \\\n",
       "Zip_code                                             ...                      \n",
       "83406                12.000                    0.65  ...                NaN   \n",
       "83406                30.000                    0.92  ...                NaN   \n",
       "83406                40.000                    0.69  ...                NaN   \n",
       "83406                 0.896                    3.75  ...                 50   \n",
       "83406                 0.896                    2.50  ...                 50   \n",
       "\n",
       "         Router_rental_monthly  Modem_rental_monthly Ttl_rental_costs  \\\n",
       "Zip_code                                                                \n",
       "83406                        5                    15               20   \n",
       "83406                        5                    15               20   \n",
       "83406                        5                    15               20   \n",
       "83406                        5                    15               20   \n",
       "83406                        5                    15               20   \n",
       "\n",
       "          router_purchase_cost  Modem_purchase_cost Ttl_purch_costs  \\\n",
       "Zip_code                                                              \n",
       "83406                      NaN                  150             150   \n",
       "83406                      NaN                  150             150   \n",
       "83406                      NaN                  150             150   \n",
       "83406                      NaN                  150             150   \n",
       "83406                      NaN                  150             150   \n",
       "\n",
       "         requirement_months Termination_fee   Address_used  \n",
       "Zip_code                                                    \n",
       "83406                   1.0             NaN    3039 S 25 E  \n",
       "83406                   1.0             NaN    3039 S 25 E  \n",
       "83406                   1.0             NaN    3039 S 25 E  \n",
       "83406                   1.0             NaN  1815 Sabin Dr  \n",
       "83406                   1.0             NaN  1815 Sabin Dr  \n",
       "\n",
       "[5 rows x 27 columns]"
      ],
      "text/html": "<div>\n<style scoped>\n    .dataframe tbody tr th:only-of-type {\n        vertical-align: middle;\n    }\n\n    .dataframe tbody tr th {\n        vertical-align: top;\n    }\n\n    .dataframe thead th {\n        text-align: right;\n    }\n</style>\n<table border=\"1\" class=\"dataframe\">\n  <thead>\n    <tr style=\"text-align: right;\">\n      <th></th>\n      <th>Plan</th>\n      <th>City</th>\n      <th>State</th>\n      <th>County</th>\n      <th>ISP</th>\n      <th>Network_ tech</th>\n      <th>Municipal_network</th>\n      <th>Download_speed_Mbps</th>\n      <th>Upload_speed_Mbps</th>\n      <th>Cost_per_download Mbps</th>\n      <th>...</th>\n      <th>Self_install_ fee</th>\n      <th>Router_rental_monthly</th>\n      <th>Modem_rental_monthly</th>\n      <th>Ttl_rental_costs</th>\n      <th>router_purchase_cost</th>\n      <th>Modem_purchase_cost</th>\n      <th>Ttl_purch_costs</th>\n      <th>requirement_months</th>\n      <th>Termination_fee</th>\n      <th>Address_used</th>\n    </tr>\n    <tr>\n      <th>Zip_code</th>\n      <th></th>\n      <th></th>\n      <th></th>\n      <th></th>\n      <th></th>\n      <th></th>\n      <th></th>\n      <th></th>\n      <th></th>\n      <th></th>\n      <th></th>\n      <th></th>\n      <th></th>\n      <th></th>\n      <th></th>\n      <th></th>\n      <th></th>\n      <th></th>\n      <th></th>\n      <th></th>\n      <th></th>\n    </tr>\n  </thead>\n  <tbody>\n    <tr>\n      <th>83406</th>\n      <td>Ammon, Century Link, 100</td>\n      <td>Ammon</td>\n      <td>ID</td>\n      <td>Bonneville</td>\n      <td>CenturyLink</td>\n      <td>ADSL</td>\n      <td>No</td>\n      <td>100.0</td>\n      <td>12.000</td>\n      <td>0.65</td>\n      <td>...</td>\n      <td>NaN</td>\n      <td>5</td>\n      <td>15</td>\n      <td>20</td>\n      <td>NaN</td>\n      <td>150</td>\n      <td>150</td>\n      <td>1.0</td>\n      <td>NaN</td>\n      <td>3039 S 25 E</td>\n    </tr>\n    <tr>\n      <th>83406</th>\n      <td>Ammon, Century Link, 60</td>\n      <td>Ammon</td>\n      <td>ID</td>\n      <td>Bonneville</td>\n      <td>CenturyLink</td>\n      <td>ADSL</td>\n      <td>No</td>\n      <td>60.0</td>\n      <td>30.000</td>\n      <td>0.92</td>\n      <td>...</td>\n      <td>NaN</td>\n      <td>5</td>\n      <td>15</td>\n      <td>20</td>\n      <td>NaN</td>\n      <td>150</td>\n      <td>150</td>\n      <td>1.0</td>\n      <td>NaN</td>\n      <td>3039 S 25 E</td>\n    </tr>\n    <tr>\n      <th>83406</th>\n      <td>Ammon, Century Link, 80</td>\n      <td>Ammon</td>\n      <td>ID</td>\n      <td>Bonneville</td>\n      <td>CenturyLink</td>\n      <td>ADSL</td>\n      <td>No</td>\n      <td>80.0</td>\n      <td>40.000</td>\n      <td>0.69</td>\n      <td>...</td>\n      <td>NaN</td>\n      <td>5</td>\n      <td>15</td>\n      <td>20</td>\n      <td>NaN</td>\n      <td>150</td>\n      <td>150</td>\n      <td>1.0</td>\n      <td>NaN</td>\n      <td>3039 S 25 E</td>\n    </tr>\n    <tr>\n      <th>83406</th>\n      <td>Ammon, CenturyLink, 12</td>\n      <td>Ammon</td>\n      <td>ID</td>\n      <td>Bonneville</td>\n      <td>CenturyLink</td>\n      <td>ADSL</td>\n      <td>No</td>\n      <td>12.0</td>\n      <td>0.896</td>\n      <td>3.75</td>\n      <td>...</td>\n      <td>50</td>\n      <td>5</td>\n      <td>15</td>\n      <td>20</td>\n      <td>NaN</td>\n      <td>150</td>\n      <td>150</td>\n      <td>1.0</td>\n      <td>NaN</td>\n      <td>1815 Sabin Dr</td>\n    </tr>\n    <tr>\n      <th>83406</th>\n      <td>Ammon, CenturyLink, 20</td>\n      <td>Ammon</td>\n      <td>ID</td>\n      <td>Bonneville</td>\n      <td>CenturyLink</td>\n      <td>ADSL</td>\n      <td>No</td>\n      <td>20.0</td>\n      <td>0.896</td>\n      <td>2.50</td>\n      <td>...</td>\n      <td>50</td>\n      <td>5</td>\n      <td>15</td>\n      <td>20</td>\n      <td>NaN</td>\n      <td>150</td>\n      <td>150</td>\n      <td>1.0</td>\n      <td>NaN</td>\n      <td>1815 Sabin Dr</td>\n    </tr>\n  </tbody>\n</table>\n<p>5 rows × 27 columns</p>\n</div>"
     },
     "metadata": {},
     "execution_count": 120
    }
   ],
   "source": [
    "# Read the intennet plans data into a Pandas DataFrame\n",
    "plan_data = pd.read_csv(\"us_internet_plans.csv\")\n",
    "plan_data[\"Zip_code\"] = plan_data[\"Zip_code\"].astype('Int64')\n",
    "plan_data=plan_data.set_index(\"Zip_code\")\n",
    "#plan_data = pd.read_csv(file_path, index_col=\"Plan\")\n",
    "\n",
    "plan_data.head()"
   ]
  },
  {
   "cell_type": "code",
   "execution_count": 87,
   "metadata": {},
   "outputs": [
    {
     "output_type": "execute_result",
     "data": {
      "text/plain": [
       "   Zip_code  Download_speed_Mbps  Upload_speed_Mbps  Cost_per_download Mbps  \\\n",
       "0   10027.0           513.333333          21.666667                  0.2300   \n",
       "1   10034.0            30.000000           4.000000                  0.5000   \n",
       "2   10110.0           100.000000          10.000000                  0.4500   \n",
       "3   11201.0           476.250000         476.250000                  0.1125   \n",
       "4   11205.0           450.000000         450.000000                  0.3950   \n",
       "\n",
       "   Data_cap_GB       Price  Autopay_/_paperless_discount  Activation_fee  \\\n",
       "0          NaN   94.323333                           NaN             NaN   \n",
       "1          NaN   14.990000                           NaN             NaN   \n",
       "2          NaN   44.990000                           NaN             NaN   \n",
       "3          NaN   37.490000                           NaN            9.99   \n",
       "4          NaN  122.490000                          10.0             NaN   \n",
       "\n",
       "   router_purchase_cost  requirement_months  \n",
       "0                   NaN                1.00  \n",
       "1                   NaN                1.00  \n",
       "2                   NaN                1.00  \n",
       "3                   NaN                1.00  \n",
       "4                   NaN               18.25  "
      ],
      "text/html": "<div>\n<style scoped>\n    .dataframe tbody tr th:only-of-type {\n        vertical-align: middle;\n    }\n\n    .dataframe tbody tr th {\n        vertical-align: top;\n    }\n\n    .dataframe thead th {\n        text-align: right;\n    }\n</style>\n<table border=\"1\" class=\"dataframe\">\n  <thead>\n    <tr style=\"text-align: right;\">\n      <th></th>\n      <th>Zip_code</th>\n      <th>Download_speed_Mbps</th>\n      <th>Upload_speed_Mbps</th>\n      <th>Cost_per_download Mbps</th>\n      <th>Data_cap_GB</th>\n      <th>Price</th>\n      <th>Autopay_/_paperless_discount</th>\n      <th>Activation_fee</th>\n      <th>router_purchase_cost</th>\n      <th>requirement_months</th>\n    </tr>\n  </thead>\n  <tbody>\n    <tr>\n      <th>0</th>\n      <td>10027.0</td>\n      <td>513.333333</td>\n      <td>21.666667</td>\n      <td>0.2300</td>\n      <td>NaN</td>\n      <td>94.323333</td>\n      <td>NaN</td>\n      <td>NaN</td>\n      <td>NaN</td>\n      <td>1.00</td>\n    </tr>\n    <tr>\n      <th>1</th>\n      <td>10034.0</td>\n      <td>30.000000</td>\n      <td>4.000000</td>\n      <td>0.5000</td>\n      <td>NaN</td>\n      <td>14.990000</td>\n      <td>NaN</td>\n      <td>NaN</td>\n      <td>NaN</td>\n      <td>1.00</td>\n    </tr>\n    <tr>\n      <th>2</th>\n      <td>10110.0</td>\n      <td>100.000000</td>\n      <td>10.000000</td>\n      <td>0.4500</td>\n      <td>NaN</td>\n      <td>44.990000</td>\n      <td>NaN</td>\n      <td>NaN</td>\n      <td>NaN</td>\n      <td>1.00</td>\n    </tr>\n    <tr>\n      <th>3</th>\n      <td>11201.0</td>\n      <td>476.250000</td>\n      <td>476.250000</td>\n      <td>0.1125</td>\n      <td>NaN</td>\n      <td>37.490000</td>\n      <td>NaN</td>\n      <td>9.99</td>\n      <td>NaN</td>\n      <td>1.00</td>\n    </tr>\n    <tr>\n      <th>4</th>\n      <td>11205.0</td>\n      <td>450.000000</td>\n      <td>450.000000</td>\n      <td>0.3950</td>\n      <td>NaN</td>\n      <td>122.490000</td>\n      <td>10.0</td>\n      <td>NaN</td>\n      <td>NaN</td>\n      <td>18.25</td>\n    </tr>\n  </tbody>\n</table>\n</div>"
     },
     "metadata": {},
     "execution_count": 87
    }
   ],
   "source": [
    "#Groupby avg (all columns) by Zip code\n",
    "plangroupby=plan_data.groupby('Zip_code').mean().reset_index()\n",
    "plangroupby.head()\n",
    "\n"
   ]
  },
  {
   "cell_type": "code",
   "execution_count": 88,
   "metadata": {},
   "outputs": [],
   "source": [
    "plan_data[\"Zip_code\"]=plan_data[\"Zip_code\"].astype(\"str\")"
   ]
  },
  {
   "cell_type": "code",
   "execution_count": 89,
   "metadata": {},
   "outputs": [
    {
     "output_type": "display_data",
     "data": {},
     "metadata": {}
    },
    {
     "output_type": "execute_result",
     "data": {
      "text/html": "<div id='3771'>\n\n\n\n\n\n  <div class=\"bk-root\" id=\"515b6257-bae7-4a96-b244-93e0e1233070\" data-root-id=\"3771\"></div>\n</div>\n<script type=\"application/javascript\">(function(root) {\n  function embed_document(root) {\n  var docs_json = {\"e20467ed-e3b8-49d5-8d80-6ae72dc3b088\":{\"roots\":{\"references\":[{\"attributes\":{},\"id\":\"3814\",\"type\":\"CategoricalTickFormatter\"},{\"attributes\":{},\"id\":\"3796\",\"type\":\"ResetTool\"},{\"attributes\":{\"fill_alpha\":{\"value\":0.2},\"fill_color\":{\"value\":\"#1f77b3\"},\"line_alpha\":{\"value\":0.2},\"top\":{\"field\":\"Price\"},\"width\":{\"value\":0.8},\"x\":{\"field\":\"Zip_code\"}},\"id\":\"3810\",\"type\":\"VBar\"},{\"attributes\":{\"callback\":null,\"renderers\":[{\"id\":\"3811\"}],\"tags\":[\"hv_created\"],\"tooltips\":[[\"Zip_code\",\"@{Zip_code}\"],[\"Price\",\"@{Price}\"]]},\"id\":\"3775\",\"type\":\"HoverTool\"},{\"attributes\":{\"data\":{\"Price\":{\"__ndarray__\":\"AAAAAABAUEAAAAAAAIBLQAAAAAAAgEtAAAAAAACARkAAAAAAAABJQAAAAAAAgEZAAAAAAACAS0AAAAAAAEBfQAAAAAAAAD5AAAAAAABAUEAAAAAAAABUQA==\",\"dtype\":\"float64\",\"order\":\"little\",\"shape\":[11]},\"Zip_code\":[\"83406.0\",\"83406.0\",\"83406.0\",\"83406.0\",\"83406.0\",\"83406.0\",\"83406.0\",\"83406.0\",\"83406.0\",\"83406.0\",\"83406.0\"]},\"selected\":{\"id\":\"3806\"},\"selection_policy\":{\"id\":\"3827\"}},\"id\":\"3805\",\"type\":\"ColumnDataSource\"},{\"attributes\":{},\"id\":\"3781\",\"type\":\"CategoricalScale\"},{\"attributes\":{\"axis_label\":\"Price\",\"bounds\":\"auto\",\"formatter\":{\"id\":\"3816\"},\"major_label_orientation\":\"horizontal\",\"ticker\":{\"id\":\"3789\"}},\"id\":\"3788\",\"type\":\"LinearAxis\"},{\"attributes\":{\"margin\":[5,5,5,5],\"name\":\"HSpacer05921\",\"sizing_mode\":\"stretch_width\"},\"id\":\"3772\",\"type\":\"Spacer\"},{\"attributes\":{},\"id\":\"3793\",\"type\":\"PanTool\"},{\"attributes\":{\"source\":{\"id\":\"3805\"}},\"id\":\"3812\",\"type\":\"CDSView\"},{\"attributes\":{},\"id\":\"3827\",\"type\":\"UnionRenderers\"},{\"attributes\":{\"align\":null,\"below\":[{\"id\":\"3785\"}],\"center\":[{\"id\":\"3787\"},{\"id\":\"3791\"}],\"left\":[{\"id\":\"3788\"}],\"margin\":null,\"min_border_bottom\":10,\"min_border_left\":10,\"min_border_right\":10,\"min_border_top\":10,\"plot_height\":400,\"plot_width\":250,\"renderers\":[{\"id\":\"3811\"}],\"sizing_mode\":\"fixed\",\"title\":{\"id\":\"3777\"},\"toolbar\":{\"id\":\"3798\"},\"x_range\":{\"id\":\"3773\"},\"x_scale\":{\"id\":\"3781\"},\"y_range\":{\"id\":\"3774\"},\"y_scale\":{\"id\":\"3783\"}},\"id\":\"3776\",\"subtype\":\"Figure\",\"type\":\"Plot\"},{\"attributes\":{},\"id\":\"3806\",\"type\":\"Selection\"},{\"attributes\":{},\"id\":\"3789\",\"type\":\"BasicTicker\"},{\"attributes\":{\"fill_color\":{\"value\":\"#1f77b3\"},\"top\":{\"field\":\"Price\"},\"width\":{\"value\":0.8},\"x\":{\"field\":\"Zip_code\"}},\"id\":\"3808\",\"type\":\"VBar\"},{\"attributes\":{},\"id\":\"3786\",\"type\":\"CategoricalTicker\"},{\"attributes\":{\"bottom_units\":\"screen\",\"fill_alpha\":0.5,\"fill_color\":\"lightgrey\",\"left_units\":\"screen\",\"level\":\"overlay\",\"line_alpha\":1.0,\"line_color\":\"black\",\"line_dash\":[4,4],\"line_width\":2,\"right_units\":\"screen\",\"top_units\":\"screen\"},\"id\":\"3797\",\"type\":\"BoxAnnotation\"},{\"attributes\":{\"children\":[{\"id\":\"3839\"},{\"id\":\"3840\"},{\"id\":\"3842\"}],\"margin\":[0,0,0,0],\"name\":\"Column05920\"},\"id\":\"3838\",\"type\":\"Column\"},{\"attributes\":{\"axis\":{\"id\":\"3785\"},\"grid_line_color\":null,\"ticker\":null},\"id\":\"3787\",\"type\":\"Grid\"},{\"attributes\":{\"factors\":[\"83406.0\"],\"tags\":[[[\"Zip_code\",\"Zip_code\",null]]]},\"id\":\"3773\",\"type\":\"FactorRange\"},{\"attributes\":{},\"id\":\"3816\",\"type\":\"BasicTickFormatter\"},{\"attributes\":{\"active_drag\":\"auto\",\"active_inspect\":\"auto\",\"active_multi\":null,\"active_scroll\":\"auto\",\"active_tap\":\"auto\",\"tools\":[{\"id\":\"3775\"},{\"id\":\"3792\"},{\"id\":\"3793\"},{\"id\":\"3794\"},{\"id\":\"3795\"},{\"id\":\"3796\"}]},\"id\":\"3798\",\"type\":\"Toolbar\"},{\"attributes\":{\"margin\":[20,20,20,20],\"min_width\":250,\"options\":[\"83406.0\",\"nan\",\"30314.0\",\"30312.0\",\"30308.0\",\"34703.0\",\"34708.0\",\"44111.0\",\"44102.0\",\"44113.0\",\"44114.0\",\"80525.0\",\"80526.0\",\"66104.0\",\"66102.0\",\"66112.0\",\"66109.0\",\"64111.0\",\"64108.0\",\"64106.0\",\"64114.0\",\"64126.0\",\"70503.0\",\"70501.0\",\"90047.0\",\"90062.0\",\"90011.0\",\"11226.0\",\"11205.0\",\"11201.0\",\"10110.0\",\"10027.0\",\"10034.0\",\"94121.0\",\"94110.0\",\"94109.0\",\"98126.0\",\"98102.0\",\"98116.0\",\"98122.0\",\"98121.0\",\"98109.0\",\"20009.0\",\"20017.0\",\"27893.0\",\"77002.0\",\"77090.0\"],\"title\":\"Zip_code\",\"value\":\"83406.0\",\"width\":250},\"id\":\"3841\",\"type\":\"Select\"},{\"attributes\":{},\"id\":\"3783\",\"type\":\"LinearScale\"},{\"attributes\":{\"margin\":[5,5,5,5],\"name\":\"VSpacer05918\",\"sizing_mode\":\"stretch_height\"},\"id\":\"3839\",\"type\":\"Spacer\"},{\"attributes\":{},\"id\":\"3792\",\"type\":\"SaveTool\"},{\"attributes\":{\"axis\":{\"id\":\"3788\"},\"dimension\":1,\"grid_line_color\":null,\"ticker\":null},\"id\":\"3791\",\"type\":\"Grid\"},{\"attributes\":{\"axis_label\":\"Zip_code\",\"bounds\":\"auto\",\"formatter\":{\"id\":\"3814\"},\"major_label_orientation\":\"horizontal\",\"ticker\":{\"id\":\"3786\"}},\"id\":\"3785\",\"type\":\"CategoricalAxis\"},{\"attributes\":{\"margin\":[5,5,5,5],\"name\":\"HSpacer05922\",\"sizing_mode\":\"stretch_width\"},\"id\":\"3837\",\"type\":\"Spacer\"},{\"attributes\":{},\"id\":\"3794\",\"type\":\"WheelZoomTool\"},{\"attributes\":{\"children\":[{\"id\":\"3772\"},{\"id\":\"3776\"},{\"id\":\"3837\"},{\"id\":\"3838\"}],\"margin\":[0,0,0,0],\"name\":\"Row05912\"},\"id\":\"3771\",\"type\":\"Row\"},{\"attributes\":{\"fill_alpha\":{\"value\":0.1},\"fill_color\":{\"value\":\"#1f77b3\"},\"line_alpha\":{\"value\":0.1},\"top\":{\"field\":\"Price\"},\"width\":{\"value\":0.8},\"x\":{\"field\":\"Zip_code\"}},\"id\":\"3809\",\"type\":\"VBar\"},{\"attributes\":{\"text\":\"Zip_code: 83406.0\",\"text_color\":{\"value\":\"black\"},\"text_font_size\":{\"value\":\"12pt\"}},\"id\":\"3777\",\"type\":\"Title\"},{\"attributes\":{\"overlay\":{\"id\":\"3797\"}},\"id\":\"3795\",\"type\":\"BoxZoomTool\"},{\"attributes\":{\"children\":[{\"id\":\"3841\"}],\"css_classes\":[\"panel-widget-box\"],\"margin\":[5,5,5,5],\"name\":\"WidgetBox05913\"},\"id\":\"3840\",\"type\":\"Column\"},{\"attributes\":{\"end\":134.5,\"reset_end\":134.5,\"reset_start\":0.0,\"tags\":[[[\"Price\",\"Price\",null]]]},\"id\":\"3774\",\"type\":\"Range1d\"},{\"attributes\":{\"data_source\":{\"id\":\"3805\"},\"glyph\":{\"id\":\"3808\"},\"hover_glyph\":null,\"muted_glyph\":{\"id\":\"3810\"},\"nonselection_glyph\":{\"id\":\"3809\"},\"selection_glyph\":null,\"view\":{\"id\":\"3812\"}},\"id\":\"3811\",\"type\":\"GlyphRenderer\"},{\"attributes\":{\"client_comm_id\":\"6bfca49345504158b736d022e244fc2c\",\"comm_id\":\"941d16743bf943b3a7ec01d61bde4997\",\"plot_id\":\"3771\"},\"id\":\"3867\",\"type\":\"panel.models.comm_manager.CommManager\"},{\"attributes\":{\"margin\":[5,5,5,5],\"name\":\"VSpacer05919\",\"sizing_mode\":\"stretch_height\"},\"id\":\"3842\",\"type\":\"Spacer\"}],\"root_ids\":[\"3771\",\"3867\"]},\"title\":\"Bokeh Application\",\"version\":\"2.1.1\"}};\n  var render_items = [{\"docid\":\"e20467ed-e3b8-49d5-8d80-6ae72dc3b088\",\"root_ids\":[\"3771\"],\"roots\":{\"3771\":\"515b6257-bae7-4a96-b244-93e0e1233070\"}}];\n  root.Bokeh.embed.embed_items_notebook(docs_json, render_items);\n  }\nif (root.Bokeh !== undefined) {\n    embed_document(root);\n  } else {\n    var attempts = 0;\n    var timer = setInterval(function(root) {\n      if (root.Bokeh !== undefined) {\n        clearInterval(timer);\n        embed_document(root);\n      } else if (document.readyState == \"complete\") {\n        attempts++;\n        if (attempts > 100) {\n          clearInterval(timer);\n          console.log(\"Bokeh: ERROR: Unable to run BokehJS code because BokehJS library is missing\");\n        }\n      }\n    }, 10, root)\n  }\n})(window);</script>",
      "application/vnd.holoviews_exec.v0+json": "",
      "text/plain": [
       ":DynamicMap   [Zip_code]\n",
       "   :Bars   [Zip_code]   (Price)"
      ]
     },
     "metadata": {
      "application/vnd.holoviews_exec.v0+json": {
       "id": "3771"
      }
     },
     "execution_count": 89
    }
   ],
   "source": [
    "# plot price by Zip code\n",
    "plan_data.hvplot.bar('Zip_code', 'Price', xlabel =\"Zip_code\", ylabel= \"Price\", width=250, height=400, groupby=\"Zip_code\")\n"
   ]
  },
  {
   "cell_type": "code",
   "execution_count": 90,
   "metadata": {},
   "outputs": [
    {
     "output_type": "display_data",
     "data": {},
     "metadata": {}
    },
    {
     "output_type": "execute_result",
     "data": {
      "text/html": "<div id='3908'>\n\n\n\n\n\n  <div class=\"bk-root\" id=\"161c0b0e-bf24-4c5d-9fd7-fef647642c1d\" data-root-id=\"3908\"></div>\n</div>\n<script type=\"application/javascript\">(function(root) {\n  function embed_document(root) {\n  var docs_json = {\"9ef4fcc9-fa67-464c-8081-7893ef98e88f\":{\"roots\":{\"references\":[{\"attributes\":{\"axis\":{\"id\":\"3925\"},\"dimension\":1,\"grid_line_color\":null,\"ticker\":null},\"id\":\"3928\",\"type\":\"Grid\"},{\"attributes\":{\"fill_color\":{\"value\":\"#1f77b3\"},\"top\":{\"field\":\"Price\"},\"width\":{\"value\":0.8},\"x\":{\"field\":\"Zip_code\"}},\"id\":\"3945\",\"type\":\"VBar\"},{\"attributes\":{\"overlay\":{\"id\":\"3934\"}},\"id\":\"3932\",\"type\":\"BoxZoomTool\"},{\"attributes\":{\"axis_label\":\"Price\",\"bounds\":\"auto\",\"formatter\":{\"id\":\"3953\"},\"major_label_orientation\":\"horizontal\",\"ticker\":{\"id\":\"3926\"}},\"id\":\"3925\",\"type\":\"LinearAxis\"},{\"attributes\":{},\"id\":\"3933\",\"type\":\"ResetTool\"},{\"attributes\":{\"end\":1098.712,\"reset_end\":1098.712,\"reset_start\":0.0,\"tags\":[[[\"Price\",\"Price\",null]]]},\"id\":\"3911\",\"type\":\"Range1d\"},{\"attributes\":{\"data_source\":{\"id\":\"3942\"},\"glyph\":{\"id\":\"3945\"},\"hover_glyph\":null,\"muted_glyph\":{\"id\":\"3947\"},\"nonselection_glyph\":{\"id\":\"3946\"},\"selection_glyph\":null,\"view\":{\"id\":\"3949\"}},\"id\":\"3948\",\"type\":\"GlyphRenderer\"},{\"attributes\":{\"fill_alpha\":{\"value\":0.1},\"fill_color\":{\"value\":\"#1f77b3\"},\"line_alpha\":{\"value\":0.1},\"top\":{\"field\":\"Price\"},\"width\":{\"value\":0.8},\"x\":{\"field\":\"Zip_code\"}},\"id\":\"3946\",\"type\":\"VBar\"},{\"attributes\":{},\"id\":\"3929\",\"type\":\"SaveTool\"},{\"attributes\":{},\"id\":\"3943\",\"type\":\"Selection\"},{\"attributes\":{\"align\":null,\"below\":[{\"id\":\"3922\"}],\"center\":[{\"id\":\"3924\"},{\"id\":\"3928\"}],\"left\":[{\"id\":\"3925\"}],\"margin\":null,\"min_border_bottom\":10,\"min_border_left\":10,\"min_border_right\":10,\"min_border_top\":10,\"plot_height\":400,\"plot_width\":3500,\"renderers\":[{\"id\":\"3948\"}],\"sizing_mode\":\"fixed\",\"title\":{\"id\":\"3914\"},\"toolbar\":{\"id\":\"3935\"},\"x_range\":{\"id\":\"3910\"},\"x_scale\":{\"id\":\"3918\"},\"y_range\":{\"id\":\"3911\"},\"y_scale\":{\"id\":\"3920\"}},\"id\":\"3913\",\"subtype\":\"Figure\",\"type\":\"Plot\"},{\"attributes\":{\"axis_label\":\"Zip_code\",\"bounds\":\"auto\",\"formatter\":{\"id\":\"3951\"},\"major_label_orientation\":\"horizontal\",\"ticker\":{\"id\":\"3923\"}},\"id\":\"3922\",\"type\":\"CategoricalAxis\"},{\"attributes\":{},\"id\":\"3920\",\"type\":\"LinearScale\"},{\"attributes\":{\"children\":[{\"id\":\"3909\"},{\"id\":\"3913\"},{\"id\":\"3970\"}],\"margin\":[0,0,0,0],\"name\":\"Row06206\",\"tags\":[\"embedded\"]},\"id\":\"3908\",\"type\":\"Row\"},{\"attributes\":{\"source\":{\"id\":\"3942\"}},\"id\":\"3949\",\"type\":\"CDSView\"},{\"attributes\":{},\"id\":\"3918\",\"type\":\"CategoricalScale\"},{\"attributes\":{},\"id\":\"3923\",\"type\":\"CategoricalTicker\"},{\"attributes\":{\"active_drag\":\"auto\",\"active_inspect\":\"auto\",\"active_multi\":null,\"active_scroll\":\"auto\",\"active_tap\":\"auto\",\"tools\":[{\"id\":\"3912\"},{\"id\":\"3929\"},{\"id\":\"3930\"},{\"id\":\"3931\"},{\"id\":\"3932\"},{\"id\":\"3933\"}]},\"id\":\"3935\",\"type\":\"Toolbar\"},{\"attributes\":{\"factors\":[\"83406.0\",\"nan\",\"30314.0\",\"30312.0\",\"30308.0\",\"34703.0\",\"34708.0\",\"44111.0\",\"44102.0\",\"44113.0\",\"44114.0\",\"80525.0\",\"80526.0\",\"66104.0\",\"66102.0\",\"66112.0\",\"66109.0\",\"64111.0\",\"64108.0\",\"64106.0\",\"64114.0\",\"64126.0\",\"70503.0\",\"70501.0\",\"90047.0\",\"90062.0\",\"90011.0\",\"11226.0\",\"11205.0\",\"11201.0\",\"10110.0\",\"10027.0\",\"10034.0\",\"94121.0\",\"94110.0\",\"94109.0\",\"98126.0\",\"98102.0\",\"98116.0\",\"98122.0\",\"98121.0\",\"98109.0\",\"20009.0\",\"20017.0\",\"27893.0\",\"77002.0\",\"77090.0\"],\"tags\":[[[\"Zip_code\",\"Zip_code\",null]]]},\"id\":\"3910\",\"type\":\"FactorRange\"},{\"attributes\":{},\"id\":\"3953\",\"type\":\"BasicTickFormatter\"},{\"attributes\":{},\"id\":\"3931\",\"type\":\"WheelZoomTool\"},{\"attributes\":{\"text\":\"\",\"text_color\":{\"value\":\"black\"},\"text_font_size\":{\"value\":\"12pt\"}},\"id\":\"3914\",\"type\":\"Title\"},{\"attributes\":{\"callback\":null,\"renderers\":[{\"id\":\"3948\"}],\"tags\":[\"hv_created\"],\"tooltips\":[[\"Zip_code\",\"@{Zip_code}\"],[\"Price\",\"@{Price}\"]]},\"id\":\"3912\",\"type\":\"HoverTool\"},{\"attributes\":{\"bottom_units\":\"screen\",\"fill_alpha\":0.5,\"fill_color\":\"lightgrey\",\"left_units\":\"screen\",\"level\":\"overlay\",\"line_alpha\":1.0,\"line_color\":\"black\",\"line_dash\":[4,4],\"line_width\":2,\"right_units\":\"screen\",\"top_units\":\"screen\"},\"id\":\"3934\",\"type\":\"BoxAnnotation\"},{\"attributes\":{\"margin\":[5,5,5,5],\"name\":\"HSpacer06210\",\"sizing_mode\":\"stretch_width\"},\"id\":\"3909\",\"type\":\"Spacer\"},{\"attributes\":{},\"id\":\"3951\",\"type\":\"CategoricalTickFormatter\"},{\"attributes\":{\"margin\":[5,5,5,5],\"name\":\"HSpacer06211\",\"sizing_mode\":\"stretch_width\"},\"id\":\"3970\",\"type\":\"Spacer\"},{\"attributes\":{},\"id\":\"3926\",\"type\":\"BasicTicker\"},{\"attributes\":{\"data\":{\"Price\":{\"__ndarray__\":\"AAAAAABAUEAAAAAAAIBLQAAAAAAAgEtAAAAAAACARkAAAAAAAABJQAAAAAAAgEZAmpmZmZn5Q0DNzMzMzHxbQJqZmZmZ+UhAMzMzMzPzPUB7FK5H4fojQPYoXI/C9SNAw/UoXI/CIUDD9Shcj8ItQBSuR+F6FP4/w/UoXI/CI0AAAAAAAIBLQAAAAAAAQF9AAAAAAAAAPkAAAAAAAEBQQAAAAAAAAFRAAAAAAAAAOUAAAAAAAABOQAAAAAAAgFFAAAAAAAAAWUAAAAAAAIBWQAAAAAAAAE5AAAAAAACAUUAAAAAAAABJQAAAAAAAgFFAAAAAAACAW0AAAAAAAIBbQAAAAAAAAFRAAAAAAAAAVEAAAAAAAIBWQAAAAAAAgFZAAAAAAAAASUAAAAAAAABJQAAAAAAAAFlAAAAAAAAAWUAAAAAAAIBRQAAAAAAAgFFAAAAAAADAWEAAAAAAADiPQAAAAAAAgFFAAAAAAACAUUAAAAAAAABZQAAAAAAAgFFAAAAAAACAVkAAAAAAAABOQI/C9Shc/1BApHA9Cte/ckAfhetRuP5MQAAAAAAAgFtAAAAAAAAAVEAAAAAAAABJQAAAAAAAgFZAAAAAAACAUUAAAAAAAABZQAAAAAAAAE5AAAAAAAAAWUAAAAAAAABOQAAAAAAAAFRAAAAAAAAASUAAAAAAAABOQAAAAAAAAElAAAAAAACAUUAAAAAAAMBSQAAAAAAAAElAj8L1KFx/X0CPwvUoXH9QQHsUrkfh+i1Aj8L1KFy/VkCamZmZmflDQJqZmZmZ+UhAmpmZmZl5S0AfhetRuP5NQI/C9Shc/1hAj8L1KFx/UUCPwvUoXP9TQAAAAAAAgEhAAAAAAACASEAAAAAAAIBIQJqZmZmZ+U1AMzMzMzO/ckAAAAAAAIBYQAAAAAAAgFhAAAAAAADAaEAAAAAAAMBoQAAAAAAAAEhAAAAAAAAASEAAAAAAAIBRQGZmZmZm/mNAZmZmZmb+Y0CamZmZmflIQJqZmZmZ+UhAzczMzMx8VEDNzMzMzHxUQDMzMzMzv3JAzczMzMw8WEDNzMzMzDxYQM3MzMzM/F1AzczMzMz8W0DNzMzMzLxdQM3MzMzMvFBAzczMzMw8UEAAAAAAAABJQAAAAAAAAElAAAAAAAAATkAAAAAAAABOQAAAAAAAAElAAAAAAAAATkAAAAAAAABJQAAAAAAAgFFAmpmZmZn5TUDNzMzMzPxYQM3MzMzMfFFAzczMzMz8U0AAAAAAAOBgQAAAAAAAwGJAAAAAAACgZEA9CtejcP09QI/C9Shcv1ZAj8L1KFx/X0AAAAAAAIBRQAAAAAAAAFlAAAAAAACAVkAAAAAAAABOQAAAAAAAgFFAAAAAAAAASUDNzMzMzPxTQJqZmZmZeUlAzczMzMx8UEAAAAAAAABJQAAAAAAAgFFAmpmZmZn5Q0CamZmZmflIQJqZmZmZ+U1AzczMzMx8UUDNzMzMzPxTQM3MzMzMfFZAzczMzMz8WEA9CtejcP09QI/C9Shcf1ZAj8L1KFx/VkAAAAAAAIBRQB+F61G4fkZAj8L1KFw/UEA9CtejcP0zQB+F61G4/kNAMzMzMzO/ckAfhetRuP5NQI/C9Shc/1NAj8L1KFy/UkDNzMzMzDxdQD0K16Nw/T1AH4XrUbj+SEAAAAAAAIBRQAAAAAAAAFlAAAAAAACAUUAAAAAAAIBWQAAAAAAAAE5Aj8L1KFz/VECPwvUoXP9dQI/C9Shcf1BAj8L1KFw/WkCamZmZmXlPQM3MzMzMvFxAMzMzMzN/ckDNzMzMzDxWQAAAAAAAAE5AAAAAAAAAWUAAAAAAAABOQAAAAAAAAFRAAAAAAAAASUAfhetRuH5BQB+F61G4fkZAPQrXo3D9O0CPwvUoXH9QQHsUrkfh+i1Aj8L1KFy/VkCPwvUoXH9fQB+F61G4fkZAH4XrUbh+S0CPwvUoXD9QQAAAAAAAwFhASOF6FK7fYECPwvUoXL9cQI/C9Shcv1xAj8L1KFw/X0AAAAAAAMBSQAAAAAAA4GpAAAAAAAAAWUB7FK5H4fotQB+F61G4fkFAH4XrUbj+SEA9CtejcP09QB+F61G4fkFAH4XrUbh+RkCPwvUoXH9QQHsUrkfh+i1Aj8L1KFy/VkCPwvUoXH9fQAAAAAAAgFFAAAAAAAAAWUAAAAAAAABOQAAAAAAAgFZAAAAAAAAASUCamZmZmflIQAAAAAAAgENAAAAAAACASEAAAAAAAMBWQAAAAAAAgFhAAAAAAACASEAAAAAAAEBRQAAAAAAAwFRAmpmZmZn5SECamZmZmflIQAAAAAAAAE5AAAAAAAAAOUCamZmZmflDQJqZmZmZ+UhAMzMzMzPzPUCamZmZmflIQAAAAAAAAElAzczMzMz8WEDNzMzMzPxTQJqZmZmZ+UhAzczMzMx8VkAAAAAAAABHQAAAAAAAAE5Aj8L1KFx/VkCPwvUoXH9WQB+F61G4fkZAj8L1KFw/UEA9CtejcP09QB+F61G4/kNAMzMzMzO/ckAfhetRuP5NQI/C9Shc/1NAj8L1KFy/UkDNzMzMzLxdQD0K16Nw/T1AH4XrUbj+SEAAAAAAAEBVQAAAAAAAgEZAAAAAAACARkAAAAAAAIBGQM3MzMzM/FhAmpmZmZl5RUDNzMzMzHxRQM3MzMzM/FNAAAAAAAAATkAAAAAAAABUQAAAAAAAAE5AAAAAAAAAR0CPwvUoXH9WQI/C9Shcf1ZAH4XrUbh+RkCPwvUoXD9QQD0K16Nw/T1AH4XrUbj+Q0AzMzMzM79yQB+F61G4/k1Aj8L1KFz/U0CPwvUoXL9SQM3MzMzM/FtAPQrXo3D9PUAfhetRuP5IQI/C9ShcP1pAj8L1KFw/WkBI4XoUrt9gQEjhehSun2lAPQrXo3D9M0AfhetRuP5IQD0K16Nw/T1AH4XrUbh+QUCPwvUoXP9TQI/C9Shcf1ZAmpmZmZn5SEAfhetRuP5DQDMzMzMzv3JAH4XrUbj+TUCPwvUoXH9RQI/C9Shc/1NAPQrXo3D9PUAAAAAAAABJQM3MzMzM/FNAzczMzMz8WECamZmZmflDQJqZmZmZ+U1AH4XrUbh+RkCPwvUoXL9WQI/C9Shcf19AAAAAAACAS0CPwvUoXH9TQI/C9Shcf1FAAAAAAAAATkAAAAAAAIBBQAAAAAAAgEZAAAAAAAAATkAAAAAAAIBRQD0K16Nw/TNAH4XrUbh+QUAfhetRuP5IQI/C9ShcP1BAj8L1KFy/UkCPwvUoXD9VQDMzMzMzv3JAAAAAAACASEAAAAAAAEBQQB+F61G4/khAj8L1KFx/UUCPwvUoXH9bQAAAAAAAgEFAAAAAAACARkA9CtejcP07QB+F61G4fkFAH4XrUbh+RkA=\",\"dtype\":\"float64\",\"order\":\"little\",\"shape\":[319]},\"Zip_code\":[\"83406.0\",\"83406.0\",\"83406.0\",\"83406.0\",\"83406.0\",\"83406.0\",\"nan\",\"nan\",\"nan\",\"nan\",\"nan\",\"nan\",\"nan\",\"nan\",\"nan\",\"nan\",\"83406.0\",\"83406.0\",\"83406.0\",\"83406.0\",\"83406.0\",\"nan\",\"30314.0\",\"30312.0\",\"30312.0\",\"30312.0\",\"30312.0\",\"30314.0\",\"30308.0\",\"30308.0\",\"30314.0\",\"30314.0\",\"30314.0\",\"30314.0\",\"30314.0\",\"30314.0\",\"30314.0\",\"30314.0\",\"30314.0\",\"30314.0\",\"30314.0\",\"30314.0\",\"nan\",\"nan\",\"34703.0\",\"34708.0\",\"34708.0\",\"34708.0\",\"34708.0\",\"34703.0\",\"nan\",\"nan\",\"nan\",\"34708.0\",\"34708.0\",\"34708.0\",\"34708.0\",\"34708.0\",\"34708.0\",\"44111.0\",\"44111.0\",\"44102.0\",\"44111.0\",\"44113.0\",\"44113.0\",\"nan\",\"nan\",\"44114.0\",\"44114.0\",\"44113.0\",\"44113.0\",\"44111.0\",\"44113.0\",\"nan\",\"nan\",\"nan\",\"nan\",\"nan\",\"nan\",\"nan\",\"80525.0\",\"80525.0\",\"80525.0\",\"nan\",\"nan\",\"nan\",\"nan\",\"nan\",\"nan\",\"nan\",\"nan\",\"80526.0\",\"80526.0\",\"80526.0\",\"80526.0\",\"80526.0\",\"80526.0\",\"80526.0\",\"80526.0\",\"80526.0\",\"80526.0\",\"80526.0\",\"80526.0\",\"80526.0\",\"80526.0\",\"80526.0\",\"66104.0\",\"66102.0\",\"66112.0\",\"66102.0\",\"66112.0\",\"66102.0\",\"nan\",\"nan\",\"66109.0\",\"66109.0\",\"66109.0\",\"66109.0\",\"nan\",\"nan\",\"nan\",\"66104.0\",\"66104.0\",\"66104.0\",\"64111.0\",\"64111.0\",\"64111.0\",\"64108.0\",\"64108.0\",\"64106.0\",\"64114.0\",\"64114.0\",\"64114.0\",\"64108.0\",\"64108.0\",\"nan\",\"nan\",\"nan\",\"nan\",\"nan\",\"nan\",\"nan\",\"64111.0\",\"64111.0\",\"64126.0\",\"64126.0\",\"64126.0\",\"64126.0\",\"64126.0\",\"64126.0\",\"64126.0\",\"64126.0\",\"64126.0\",\"64126.0\",\"64126.0\",\"64126.0\",\"64126.0\",\"70503.0\",\"70503.0\",\"70501.0\",\"70503.0\",\"70501.0\",\"70501.0\",\"70501.0\",\"70501.0\",\"70501.0\",\"nan\",\"nan\",\"nan\",\"nan\",\"90047.0\",\"90047.0\",\"90062.0\",\"90047.0\",\"90047.0\",\"90047.0\",\"90047.0\",\"90047.0\",\"90011.0\",\"90011.0\",\"90011.0\",\"90011.0\",\"11226.0\",\"11226.0\",\"11226.0\",\"nan\",\"11205.0\",\"11205.0\",\"11205.0\",\"11205.0\",\"nan\",\"nan\",\"nan\",\"nan\",\"11201.0\",\"11201.0\",\"11201.0\",\"11201.0\",\"10110.0\",\"10027.0\",\"10034.0\",\"10027.0\",\"10027.0\",\"94121.0\",\"94121.0\",\"94110.0\",\"94121.0\",\"94121.0\",\"nan\",\"nan\",\"nan\",\"nan\",\"nan\",\"nan\",\"nan\",\"nan\",\"nan\",\"nan\",\"94109.0\",\"nan\",\"nan\",\"nan\",\"nan\",\"nan\",\"94121.0\",\"94110.0\",\"94110.0\",\"94110.0\",\"94110.0\",\"94109.0\",\"94109.0\",\"94109.0\",\"94109.0\",\"94109.0\",\"94109.0\",\"94109.0\",\"94109.0\",\"nan\",\"94109.0\",\"94109.0\",\"94109.0\",\"94109.0\",\"94109.0\",\"94109.0\",\"98126.0\",\"98102.0\",\"98116.0\",\"98116.0\",\"98122.0\",\"98122.0\",\"98122.0\",\"98122.0\",\"98121.0\",\"98121.0\",\"98121.0\",\"98121.0\",\"98109.0\",\"98109.0\",\"98109.0\",\"98109.0\",\"98109.0\",\"98109.0\",\"98109.0\",\"98109.0\",\"98109.0\",\"98109.0\",\"98109.0\",\"98109.0\",\"98109.0\",\"20009.0\",\"20009.0\",\"20009.0\",\"20009.0\",\"20017.0\",\"20017.0\",\"20017.0\",\"20017.0\",\"20017.0\",\"20017.0\",\"20017.0\",\"20017.0\",\"20017.0\",\"20017.0\",\"20017.0\",\"20017.0\",\"20017.0\",\"27893.0\",\"nan\",\"nan\",\"nan\",\"nan\",\"27893.0\",\"27893.0\",\"27893.0\",\"77002.0\",\"77002.0\",\"77002.0\",\"77002.0\",\"77002.0\",\"77002.0\",\"77002.0\",\"77002.0\",\"77002.0\",\"77002.0\",\"77002.0\",\"77002.0\",\"77002.0\",\"77002.0\",\"77002.0\",\"77002.0\",\"77090.0\",\"77090.0\",\"77002.0\",\"77002.0\",\"77002.0\",\"77002.0\",\"77002.0\",\"77002.0\",\"77002.0\"]},\"selected\":{\"id\":\"3943\"},\"selection_policy\":{\"id\":\"3960\"}},\"id\":\"3942\",\"type\":\"ColumnDataSource\"},{\"attributes\":{\"fill_alpha\":{\"value\":0.2},\"fill_color\":{\"value\":\"#1f77b3\"},\"line_alpha\":{\"value\":0.2},\"top\":{\"field\":\"Price\"},\"width\":{\"value\":0.8},\"x\":{\"field\":\"Zip_code\"}},\"id\":\"3947\",\"type\":\"VBar\"},{\"attributes\":{},\"id\":\"3960\",\"type\":\"UnionRenderers\"},{\"attributes\":{\"axis\":{\"id\":\"3922\"},\"grid_line_color\":null,\"ticker\":null},\"id\":\"3924\",\"type\":\"Grid\"},{\"attributes\":{},\"id\":\"3930\",\"type\":\"PanTool\"}],\"root_ids\":[\"3908\"]},\"title\":\"Bokeh Application\",\"version\":\"2.1.1\"}};\n  var render_items = [{\"docid\":\"9ef4fcc9-fa67-464c-8081-7893ef98e88f\",\"root_ids\":[\"3908\"],\"roots\":{\"3908\":\"161c0b0e-bf24-4c5d-9fd7-fef647642c1d\"}}];\n  root.Bokeh.embed.embed_items_notebook(docs_json, render_items);\n  }\nif (root.Bokeh !== undefined) {\n    embed_document(root);\n  } else {\n    var attempts = 0;\n    var timer = setInterval(function(root) {\n      if (root.Bokeh !== undefined) {\n        clearInterval(timer);\n        embed_document(root);\n      } else if (document.readyState == \"complete\") {\n        attempts++;\n        if (attempts > 100) {\n          clearInterval(timer);\n          console.log(\"Bokeh: ERROR: Unable to run BokehJS code because BokehJS library is missing\");\n        }\n      }\n    }, 10, root)\n  }\n})(window);</script>",
      "application/vnd.holoviews_exec.v0+json": "",
      "text/plain": [
       ":Bars   [Zip_code]   (Price)"
      ]
     },
     "metadata": {
      "application/vnd.holoviews_exec.v0+json": {
       "id": "3908"
      }
     },
     "execution_count": 90
    }
   ],
   "source": [
    "#plot price by Zip code\n",
    "plan_data.hvplot.bar('Zip_code', 'Price', xlabel =\"Zip_code\", ylabel= \"Price\", width=3500, height=400)"
   ]
  },
  {
   "cell_type": "code",
   "execution_count": 91,
   "metadata": {},
   "outputs": [
    {
     "output_type": "execute_result",
     "data": {
      "text/plain": [
       "             City  Download_speed_Mbps  Upload_speed_Mbps  \\\n",
       "0           Ammon           326.909091         248.399636   \n",
       "1         Atlanta           787.534909         619.518182   \n",
       "2     Chattanooga           974.533333         850.833333   \n",
       "3       Cleveland           337.761905         231.136364   \n",
       "4    Fort Collins           808.846154        1210.318182   \n",
       "5         Houston           423.040000           5.000000   \n",
       "6     Kansas City           291.868000         118.827137   \n",
       "7       Lafayette          1096.384615         990.807692   \n",
       "8     Los Angeles           248.000000         281.200000   \n",
       "9        New York           305.476190         188.666667   \n",
       "10  San Francisco           370.268293         205.562595   \n",
       "11        Seattle           446.960000         241.764706   \n",
       "12     Washington           482.941176         208.882353   \n",
       "13         Wilson           348.125000         184.285714   \n",
       "\n",
       "    Cost_per_download Mbps  Data_cap_GB       Price  \\\n",
       "0                 0.661818   827.272727   44.558636   \n",
       "1                 4.647273  1000.000000  121.272727   \n",
       "2                 1.913333  1000.000000   92.398000   \n",
       "3                 1.081429  1000.000000   67.036667   \n",
       "4                 0.736154          NaN  108.661538   \n",
       "5                 0.694800  1000.000000   65.392400   \n",
       "6                 5.798039  1000.000000   75.785294   \n",
       "7                 1.659231  1000.000000  102.135385   \n",
       "8                 1.830000  1000.000000   62.994167   \n",
       "9                 1.238571          NaN   78.658571   \n",
       "10                3.600488   850.000000   68.347317   \n",
       "11                1.342800  1055.555556   73.023600   \n",
       "12                0.605882          NaN   87.338235   \n",
       "13                0.697500          NaN   73.971250   \n",
       "\n",
       "    Autopay_/_paperless_discount  Activation_fee  router_purchase_cost  \\\n",
       "0                            NaN             NaN                   NaN   \n",
       "1                           10.0       29.166667                   NaN   \n",
       "2                           10.0       35.000000                   NaN   \n",
       "3                           15.0       15.000000                   0.0   \n",
       "4                            NaN             NaN                   NaN   \n",
       "5                            NaN             NaN                   NaN   \n",
       "6                            NaN       29.166667                   NaN   \n",
       "7                            NaN       28.000000                   NaN   \n",
       "8                            NaN       35.000000                   NaN   \n",
       "9                           10.0        5.708571                   NaN   \n",
       "10                           NaN       44.375000                   NaN   \n",
       "11                           NaN             NaN                   NaN   \n",
       "12                          10.0        9.990000                   NaN   \n",
       "13                           NaN             NaN                   NaN   \n",
       "\n",
       "    requirement_months  \n",
       "0             1.000000  \n",
       "1             7.000000  \n",
       "2             9.800000  \n",
       "3            11.562500  \n",
       "4             7.423077  \n",
       "5            13.090909  \n",
       "6             7.361702  \n",
       "7             9.461538  \n",
       "8             7.875000  \n",
       "9             5.058824  \n",
       "10            7.937500  \n",
       "11            5.920000  \n",
       "12            5.000000  \n",
       "13            1.000000  "
      ],
      "text/html": "<div>\n<style scoped>\n    .dataframe tbody tr th:only-of-type {\n        vertical-align: middle;\n    }\n\n    .dataframe tbody tr th {\n        vertical-align: top;\n    }\n\n    .dataframe thead th {\n        text-align: right;\n    }\n</style>\n<table border=\"1\" class=\"dataframe\">\n  <thead>\n    <tr style=\"text-align: right;\">\n      <th></th>\n      <th>City</th>\n      <th>Download_speed_Mbps</th>\n      <th>Upload_speed_Mbps</th>\n      <th>Cost_per_download Mbps</th>\n      <th>Data_cap_GB</th>\n      <th>Price</th>\n      <th>Autopay_/_paperless_discount</th>\n      <th>Activation_fee</th>\n      <th>router_purchase_cost</th>\n      <th>requirement_months</th>\n    </tr>\n  </thead>\n  <tbody>\n    <tr>\n      <th>0</th>\n      <td>Ammon</td>\n      <td>326.909091</td>\n      <td>248.399636</td>\n      <td>0.661818</td>\n      <td>827.272727</td>\n      <td>44.558636</td>\n      <td>NaN</td>\n      <td>NaN</td>\n      <td>NaN</td>\n      <td>1.000000</td>\n    </tr>\n    <tr>\n      <th>1</th>\n      <td>Atlanta</td>\n      <td>787.534909</td>\n      <td>619.518182</td>\n      <td>4.647273</td>\n      <td>1000.000000</td>\n      <td>121.272727</td>\n      <td>10.0</td>\n      <td>29.166667</td>\n      <td>NaN</td>\n      <td>7.000000</td>\n    </tr>\n    <tr>\n      <th>2</th>\n      <td>Chattanooga</td>\n      <td>974.533333</td>\n      <td>850.833333</td>\n      <td>1.913333</td>\n      <td>1000.000000</td>\n      <td>92.398000</td>\n      <td>10.0</td>\n      <td>35.000000</td>\n      <td>NaN</td>\n      <td>9.800000</td>\n    </tr>\n    <tr>\n      <th>3</th>\n      <td>Cleveland</td>\n      <td>337.761905</td>\n      <td>231.136364</td>\n      <td>1.081429</td>\n      <td>1000.000000</td>\n      <td>67.036667</td>\n      <td>15.0</td>\n      <td>15.000000</td>\n      <td>0.0</td>\n      <td>11.562500</td>\n    </tr>\n    <tr>\n      <th>4</th>\n      <td>Fort Collins</td>\n      <td>808.846154</td>\n      <td>1210.318182</td>\n      <td>0.736154</td>\n      <td>NaN</td>\n      <td>108.661538</td>\n      <td>NaN</td>\n      <td>NaN</td>\n      <td>NaN</td>\n      <td>7.423077</td>\n    </tr>\n    <tr>\n      <th>5</th>\n      <td>Houston</td>\n      <td>423.040000</td>\n      <td>5.000000</td>\n      <td>0.694800</td>\n      <td>1000.000000</td>\n      <td>65.392400</td>\n      <td>NaN</td>\n      <td>NaN</td>\n      <td>NaN</td>\n      <td>13.090909</td>\n    </tr>\n    <tr>\n      <th>6</th>\n      <td>Kansas City</td>\n      <td>291.868000</td>\n      <td>118.827137</td>\n      <td>5.798039</td>\n      <td>1000.000000</td>\n      <td>75.785294</td>\n      <td>NaN</td>\n      <td>29.166667</td>\n      <td>NaN</td>\n      <td>7.361702</td>\n    </tr>\n    <tr>\n      <th>7</th>\n      <td>Lafayette</td>\n      <td>1096.384615</td>\n      <td>990.807692</td>\n      <td>1.659231</td>\n      <td>1000.000000</td>\n      <td>102.135385</td>\n      <td>NaN</td>\n      <td>28.000000</td>\n      <td>NaN</td>\n      <td>9.461538</td>\n    </tr>\n    <tr>\n      <th>8</th>\n      <td>Los Angeles</td>\n      <td>248.000000</td>\n      <td>281.200000</td>\n      <td>1.830000</td>\n      <td>1000.000000</td>\n      <td>62.994167</td>\n      <td>NaN</td>\n      <td>35.000000</td>\n      <td>NaN</td>\n      <td>7.875000</td>\n    </tr>\n    <tr>\n      <th>9</th>\n      <td>New York</td>\n      <td>305.476190</td>\n      <td>188.666667</td>\n      <td>1.238571</td>\n      <td>NaN</td>\n      <td>78.658571</td>\n      <td>10.0</td>\n      <td>5.708571</td>\n      <td>NaN</td>\n      <td>5.058824</td>\n    </tr>\n    <tr>\n      <th>10</th>\n      <td>San Francisco</td>\n      <td>370.268293</td>\n      <td>205.562595</td>\n      <td>3.600488</td>\n      <td>850.000000</td>\n      <td>68.347317</td>\n      <td>NaN</td>\n      <td>44.375000</td>\n      <td>NaN</td>\n      <td>7.937500</td>\n    </tr>\n    <tr>\n      <th>11</th>\n      <td>Seattle</td>\n      <td>446.960000</td>\n      <td>241.764706</td>\n      <td>1.342800</td>\n      <td>1055.555556</td>\n      <td>73.023600</td>\n      <td>NaN</td>\n      <td>NaN</td>\n      <td>NaN</td>\n      <td>5.920000</td>\n    </tr>\n    <tr>\n      <th>12</th>\n      <td>Washington</td>\n      <td>482.941176</td>\n      <td>208.882353</td>\n      <td>0.605882</td>\n      <td>NaN</td>\n      <td>87.338235</td>\n      <td>10.0</td>\n      <td>9.990000</td>\n      <td>NaN</td>\n      <td>5.000000</td>\n    </tr>\n    <tr>\n      <th>13</th>\n      <td>Wilson</td>\n      <td>348.125000</td>\n      <td>184.285714</td>\n      <td>0.697500</td>\n      <td>NaN</td>\n      <td>73.971250</td>\n      <td>NaN</td>\n      <td>NaN</td>\n      <td>NaN</td>\n      <td>1.000000</td>\n    </tr>\n  </tbody>\n</table>\n</div>"
     },
     "metadata": {},
     "execution_count": 91
    }
   ],
   "source": [
    "#Groupby avg (all columns) by City\n",
    "plan_city=plan_data.groupby('City').mean().reset_index()\n",
    "plan_city\n",
    "#plan_data[plan_data[\"City\"]==\"Houston\"]"
   ]
  },
  {
   "cell_type": "code",
   "execution_count": 92,
   "metadata": {},
   "outputs": [
    {
     "output_type": "display_data",
     "data": {},
     "metadata": {}
    },
    {
     "output_type": "execute_result",
     "data": {
      "text/html": "<div id='4012'>\n\n\n\n\n\n  <div class=\"bk-root\" id=\"4398809a-79a9-46ad-901f-78c0258c9bff\" data-root-id=\"4012\"></div>\n</div>\n<script type=\"application/javascript\">(function(root) {\n  function embed_document(root) {\n  var docs_json = {\"4dc19ccc-4f93-40da-bde2-4bb3125a250d\":{\"roots\":{\"references\":[{\"attributes\":{},\"id\":\"4033\",\"type\":\"SaveTool\"},{\"attributes\":{},\"id\":\"4057\",\"type\":\"BasicTickFormatter\"},{\"attributes\":{\"axis\":{\"id\":\"4026\"},\"grid_line_color\":null,\"ticker\":null},\"id\":\"4028\",\"type\":\"Grid\"},{\"attributes\":{\"callback\":null,\"renderers\":[{\"id\":\"4052\"}],\"tags\":[\"hv_created\"],\"tooltips\":[[\"City\",\"@{City}\"],[\"Price\",\"@{Price}\"]]},\"id\":\"4016\",\"type\":\"HoverTool\"},{\"attributes\":{\"bottom_units\":\"screen\",\"fill_alpha\":0.5,\"fill_color\":\"lightgrey\",\"left_units\":\"screen\",\"level\":\"overlay\",\"line_alpha\":1.0,\"line_color\":\"black\",\"line_dash\":[4,4],\"line_width\":2,\"right_units\":\"screen\",\"top_units\":\"screen\"},\"id\":\"4038\",\"type\":\"BoxAnnotation\"},{\"attributes\":{\"overlay\":{\"id\":\"4038\"}},\"id\":\"4036\",\"type\":\"BoxZoomTool\"},{\"attributes\":{\"axis_label\":\"Price\",\"bounds\":\"auto\",\"formatter\":{\"id\":\"4057\"},\"major_label_orientation\":\"horizontal\",\"ticker\":{\"id\":\"4030\"}},\"id\":\"4029\",\"type\":\"LinearAxis\"},{\"attributes\":{\"axis_label\":\"City\",\"bounds\":\"auto\",\"formatter\":{\"id\":\"4055\"},\"major_label_orientation\":\"horizontal\",\"ticker\":{\"id\":\"4027\"}},\"id\":\"4026\",\"type\":\"CategoricalAxis\"},{\"attributes\":{\"data_source\":{\"id\":\"4046\"},\"glyph\":{\"id\":\"4049\"},\"hover_glyph\":null,\"muted_glyph\":{\"id\":\"4051\"},\"nonselection_glyph\":{\"id\":\"4050\"},\"selection_glyph\":null,\"view\":{\"id\":\"4053\"}},\"id\":\"4052\",\"type\":\"GlyphRenderer\"},{\"attributes\":{},\"id\":\"4055\",\"type\":\"CategoricalTickFormatter\"},{\"attributes\":{\"fill_alpha\":{\"value\":0.1},\"fill_color\":{\"value\":\"#1f77b3\"},\"line_alpha\":{\"value\":0.1},\"top\":{\"field\":\"Price\"},\"width\":{\"value\":0.8},\"x\":{\"field\":\"City\"}},\"id\":\"4050\",\"type\":\"VBar\"},{\"attributes\":{},\"id\":\"4024\",\"type\":\"LinearScale\"},{\"attributes\":{},\"id\":\"4022\",\"type\":\"CategoricalScale\"},{\"attributes\":{\"source\":{\"id\":\"4046\"}},\"id\":\"4053\",\"type\":\"CDSView\"},{\"attributes\":{\"axis\":{\"id\":\"4029\"},\"dimension\":1,\"grid_line_color\":null,\"ticker\":null},\"id\":\"4032\",\"type\":\"Grid\"},{\"attributes\":{\"fill_color\":{\"value\":\"#1f77b3\"},\"top\":{\"field\":\"Price\"},\"width\":{\"value\":0.8},\"x\":{\"field\":\"City\"}},\"id\":\"4049\",\"type\":\"VBar\"},{\"attributes\":{\"align\":null,\"below\":[{\"id\":\"4026\"}],\"center\":[{\"id\":\"4028\"},{\"id\":\"4032\"}],\"left\":[{\"id\":\"4029\"}],\"margin\":null,\"min_border_bottom\":10,\"min_border_left\":10,\"min_border_right\":10,\"min_border_top\":10,\"plot_height\":400,\"plot_width\":1500,\"renderers\":[{\"id\":\"4052\"}],\"sizing_mode\":\"fixed\",\"title\":{\"id\":\"4018\"},\"toolbar\":{\"id\":\"4039\"},\"x_range\":{\"id\":\"4014\"},\"x_scale\":{\"id\":\"4022\"},\"y_range\":{\"id\":\"4015\"},\"y_scale\":{\"id\":\"4024\"}},\"id\":\"4017\",\"subtype\":\"Figure\",\"type\":\"Plot\"},{\"attributes\":{\"fill_alpha\":{\"value\":0.2},\"fill_color\":{\"value\":\"#1f77b3\"},\"line_alpha\":{\"value\":0.2},\"top\":{\"field\":\"Price\"},\"width\":{\"value\":0.8},\"x\":{\"field\":\"City\"}},\"id\":\"4051\",\"type\":\"VBar\"},{\"attributes\":{\"margin\":[5,5,5,5],\"name\":\"HSpacer06368\",\"sizing_mode\":\"stretch_width\"},\"id\":\"4013\",\"type\":\"Spacer\"},{\"attributes\":{\"end\":128.94413636363635,\"reset_end\":128.94413636363635,\"reset_start\":0.0,\"tags\":[[[\"Price\",\"Price\",null]]]},\"id\":\"4015\",\"type\":\"Range1d\"},{\"attributes\":{\"data\":{\"City\":[\"Ammon\",\"Atlanta\",\"Chattanooga\",\"Cleveland\",\"Fort Collins\",\"Houston\",\"Kansas City\",\"Lafayette\",\"Los Angeles\",\"New York\",\"San Francisco\",\"Seattle\",\"Washington\",\"Wilson\"],\"Price\":{\"__ndarray__\":\"WBZ4ZYFHRkDRRRdddFFeQLbz/dR4GVdA84slv1jCUECiVmqlVipbQNS84xQdWVBAPUJCQkLyUkBZ3TskqohZQKgNdNpAf09A1vLGCCaqU0AUp2NxOhZRQOELk6mCQVJAp6WlpaXVVUBcj8L1KH5SQA==\",\"dtype\":\"float64\",\"order\":\"little\",\"shape\":[14]}},\"selected\":{\"id\":\"4047\"},\"selection_policy\":{\"id\":\"4064\"}},\"id\":\"4046\",\"type\":\"ColumnDataSource\"},{\"attributes\":{},\"id\":\"4047\",\"type\":\"Selection\"},{\"attributes\":{},\"id\":\"4037\",\"type\":\"ResetTool\"},{\"attributes\":{\"margin\":[5,5,5,5],\"name\":\"HSpacer06369\",\"sizing_mode\":\"stretch_width\"},\"id\":\"4074\",\"type\":\"Spacer\"},{\"attributes\":{\"factors\":[\"Ammon\",\"Atlanta\",\"Chattanooga\",\"Cleveland\",\"Fort Collins\",\"Houston\",\"Kansas City\",\"Lafayette\",\"Los Angeles\",\"New York\",\"San Francisco\",\"Seattle\",\"Washington\",\"Wilson\"],\"tags\":[[[\"City\",\"City\",null]]]},\"id\":\"4014\",\"type\":\"FactorRange\"},{\"attributes\":{},\"id\":\"4064\",\"type\":\"UnionRenderers\"},{\"attributes\":{},\"id\":\"4027\",\"type\":\"CategoricalTicker\"},{\"attributes\":{},\"id\":\"4034\",\"type\":\"PanTool\"},{\"attributes\":{\"text\":\"\",\"text_color\":{\"value\":\"black\"},\"text_font_size\":{\"value\":\"12pt\"}},\"id\":\"4018\",\"type\":\"Title\"},{\"attributes\":{\"active_drag\":\"auto\",\"active_inspect\":\"auto\",\"active_multi\":null,\"active_scroll\":\"auto\",\"active_tap\":\"auto\",\"tools\":[{\"id\":\"4016\"},{\"id\":\"4033\"},{\"id\":\"4034\"},{\"id\":\"4035\"},{\"id\":\"4036\"},{\"id\":\"4037\"}]},\"id\":\"4039\",\"type\":\"Toolbar\"},{\"attributes\":{},\"id\":\"4035\",\"type\":\"WheelZoomTool\"},{\"attributes\":{},\"id\":\"4030\",\"type\":\"BasicTicker\"},{\"attributes\":{\"children\":[{\"id\":\"4013\"},{\"id\":\"4017\"},{\"id\":\"4074\"}],\"margin\":[0,0,0,0],\"name\":\"Row06364\",\"tags\":[\"embedded\"]},\"id\":\"4012\",\"type\":\"Row\"}],\"root_ids\":[\"4012\"]},\"title\":\"Bokeh Application\",\"version\":\"2.1.1\"}};\n  var render_items = [{\"docid\":\"4dc19ccc-4f93-40da-bde2-4bb3125a250d\",\"root_ids\":[\"4012\"],\"roots\":{\"4012\":\"4398809a-79a9-46ad-901f-78c0258c9bff\"}}];\n  root.Bokeh.embed.embed_items_notebook(docs_json, render_items);\n  }\nif (root.Bokeh !== undefined) {\n    embed_document(root);\n  } else {\n    var attempts = 0;\n    var timer = setInterval(function(root) {\n      if (root.Bokeh !== undefined) {\n        clearInterval(timer);\n        embed_document(root);\n      } else if (document.readyState == \"complete\") {\n        attempts++;\n        if (attempts > 100) {\n          clearInterval(timer);\n          console.log(\"Bokeh: ERROR: Unable to run BokehJS code because BokehJS library is missing\");\n        }\n      }\n    }, 10, root)\n  }\n})(window);</script>",
      "application/vnd.holoviews_exec.v0+json": "",
      "text/plain": [
       ":Bars   [City]   (Price)"
      ]
     },
     "metadata": {
      "application/vnd.holoviews_exec.v0+json": {
       "id": "4012"
      }
     },
     "execution_count": 92
    }
   ],
   "source": [
    "# plot Avarage price by city\n",
    "plan_city.hvplot.bar('City', 'Price', xlabel =\"City\", ylabel= \"Price\", width=1500, height=400)"
   ]
  },
  {
   "cell_type": "code",
   "execution_count": 93,
   "metadata": {},
   "outputs": [
    {
     "output_type": "display_data",
     "data": {},
     "metadata": {}
    },
    {
     "output_type": "execute_result",
     "data": {
      "text/html": "<div id='4116'>\n\n\n\n\n\n  <div class=\"bk-root\" id=\"5e6ae5f3-f769-4c99-bc0f-74758c1a0a44\" data-root-id=\"4116\"></div>\n</div>\n<script type=\"application/javascript\">(function(root) {\n  function embed_document(root) {\n  var docs_json = {\"dc0e876f-707c-45ec-8160-25d443e24eaa\":{\"roots\":{\"references\":[{\"attributes\":{\"text\":\"\",\"text_color\":{\"value\":\"black\"},\"text_font_size\":{\"value\":\"12pt\"}},\"id\":\"4122\",\"type\":\"Title\"},{\"attributes\":{\"data\":{\"City\":[\"Ammon\",\"Atlanta\",\"Chattanooga\",\"Cleveland\",\"Fort Collins\",\"Houston\",\"Kansas City\",\"Lafayette\",\"Los Angeles\",\"New York\",\"San Francisco\",\"Seattle\",\"Washington\",\"Wilson\"],\"Download_speed_Mbps\":{\"__ndarray__\":\"L7roootudEBN3mp+R5yIQEREREREdI5AwzAMwzAcdUDsxE7sxEaJQHE9CtejcHpA2c73U+M9ckDZiZ3YiSGRQAAAAAAAAG9Aep7neZ4Xc0DUrkTtSiR3QI/C9Shc73tADw8PDw8vfkAAAAAAAMJ1QA==\",\"dtype\":\"float64\",\"order\":\"little\",\"shape\":[14]}},\"selected\":{\"id\":\"4151\"},\"selection_policy\":{\"id\":\"4168\"}},\"id\":\"4150\",\"type\":\"ColumnDataSource\"},{\"attributes\":{\"axis_label\":\"Download_speed_Mbps\",\"bounds\":\"auto\",\"formatter\":{\"id\":\"4161\"},\"major_label_orientation\":\"horizontal\",\"ticker\":{\"id\":\"4134\"}},\"id\":\"4133\",\"type\":\"LinearAxis\"},{\"attributes\":{},\"id\":\"4137\",\"type\":\"SaveTool\"},{\"attributes\":{\"fill_color\":{\"value\":\"#1f77b3\"},\"top\":{\"field\":\"Download_speed_Mbps\"},\"width\":{\"value\":0.8},\"x\":{\"field\":\"City\"}},\"id\":\"4153\",\"type\":\"VBar\"},{\"attributes\":{},\"id\":\"4151\",\"type\":\"Selection\"},{\"attributes\":{},\"id\":\"4168\",\"type\":\"UnionRenderers\"},{\"attributes\":{},\"id\":\"4139\",\"type\":\"WheelZoomTool\"},{\"attributes\":{\"axis\":{\"id\":\"4130\"},\"grid_line_color\":null,\"ticker\":null},\"id\":\"4132\",\"type\":\"Grid\"},{\"attributes\":{\"data_source\":{\"id\":\"4150\"},\"glyph\":{\"id\":\"4153\"},\"hover_glyph\":null,\"muted_glyph\":{\"id\":\"4155\"},\"nonselection_glyph\":{\"id\":\"4154\"},\"selection_glyph\":null,\"view\":{\"id\":\"4157\"}},\"id\":\"4156\",\"type\":\"GlyphRenderer\"},{\"attributes\":{\"source\":{\"id\":\"4150\"}},\"id\":\"4157\",\"type\":\"CDSView\"},{\"attributes\":{\"active_drag\":\"auto\",\"active_inspect\":\"auto\",\"active_multi\":null,\"active_scroll\":\"auto\",\"active_tap\":\"auto\",\"tools\":[{\"id\":\"4120\"},{\"id\":\"4137\"},{\"id\":\"4138\"},{\"id\":\"4139\"},{\"id\":\"4140\"},{\"id\":\"4141\"}]},\"id\":\"4143\",\"type\":\"Toolbar\"},{\"attributes\":{\"children\":[{\"id\":\"4117\"},{\"id\":\"4121\"},{\"id\":\"4178\"}],\"margin\":[0,0,0,0],\"name\":\"Row06522\",\"tags\":[\"embedded\"]},\"id\":\"4116\",\"type\":\"Row\"},{\"attributes\":{\"fill_alpha\":{\"value\":0.2},\"fill_color\":{\"value\":\"#1f77b3\"},\"line_alpha\":{\"value\":0.2},\"top\":{\"field\":\"Download_speed_Mbps\"},\"width\":{\"value\":0.8},\"x\":{\"field\":\"City\"}},\"id\":\"4155\",\"type\":\"VBar\"},{\"attributes\":{\"overlay\":{\"id\":\"4142\"}},\"id\":\"4140\",\"type\":\"BoxZoomTool\"},{\"attributes\":{\"fill_alpha\":{\"value\":0.1},\"fill_color\":{\"value\":\"#1f77b3\"},\"line_alpha\":{\"value\":0.1},\"top\":{\"field\":\"Download_speed_Mbps\"},\"width\":{\"value\":0.8},\"x\":{\"field\":\"City\"}},\"id\":\"4154\",\"type\":\"VBar\"},{\"attributes\":{},\"id\":\"4141\",\"type\":\"ResetTool\"},{\"attributes\":{},\"id\":\"4131\",\"type\":\"CategoricalTicker\"},{\"attributes\":{},\"id\":\"4134\",\"type\":\"BasicTicker\"},{\"attributes\":{\"margin\":[5,5,5,5],\"name\":\"HSpacer06526\",\"sizing_mode\":\"stretch_width\"},\"id\":\"4117\",\"type\":\"Spacer\"},{\"attributes\":{},\"id\":\"4128\",\"type\":\"LinearScale\"},{\"attributes\":{},\"id\":\"4159\",\"type\":\"CategoricalTickFormatter\"},{\"attributes\":{\"margin\":[5,5,5,5],\"name\":\"HSpacer06527\",\"sizing_mode\":\"stretch_width\"},\"id\":\"4178\",\"type\":\"Spacer\"},{\"attributes\":{\"callback\":null,\"renderers\":[{\"id\":\"4156\"}],\"tags\":[\"hv_created\"],\"tooltips\":[[\"City\",\"@{City}\"],[\"Download_speed_Mbps\",\"@{Download_speed_Mbps}\"]]},\"id\":\"4120\",\"type\":\"HoverTool\"},{\"attributes\":{\"axis_label\":\"City\",\"bounds\":\"auto\",\"formatter\":{\"id\":\"4159\"},\"major_label_orientation\":\"horizontal\",\"ticker\":{\"id\":\"4131\"}},\"id\":\"4130\",\"type\":\"CategoricalAxis\"},{\"attributes\":{\"bottom_units\":\"screen\",\"fill_alpha\":0.5,\"fill_color\":\"lightgrey\",\"left_units\":\"screen\",\"level\":\"overlay\",\"line_alpha\":1.0,\"line_color\":\"black\",\"line_dash\":[4,4],\"line_width\":2,\"right_units\":\"screen\",\"top_units\":\"screen\"},\"id\":\"4142\",\"type\":\"BoxAnnotation\"},{\"attributes\":{\"end\":1181.223076923077,\"reset_end\":1181.223076923077,\"reset_start\":0.0,\"tags\":[[[\"Download_speed_Mbps\",\"Download_speed_Mbps\",null]]]},\"id\":\"4119\",\"type\":\"Range1d\"},{\"attributes\":{\"factors\":[\"Ammon\",\"Atlanta\",\"Chattanooga\",\"Cleveland\",\"Fort Collins\",\"Houston\",\"Kansas City\",\"Lafayette\",\"Los Angeles\",\"New York\",\"San Francisco\",\"Seattle\",\"Washington\",\"Wilson\"],\"tags\":[[[\"City\",\"City\",null]]]},\"id\":\"4118\",\"type\":\"FactorRange\"},{\"attributes\":{},\"id\":\"4126\",\"type\":\"CategoricalScale\"},{\"attributes\":{\"align\":null,\"below\":[{\"id\":\"4130\"}],\"center\":[{\"id\":\"4132\"},{\"id\":\"4136\"}],\"left\":[{\"id\":\"4133\"}],\"margin\":null,\"min_border_bottom\":10,\"min_border_left\":10,\"min_border_right\":10,\"min_border_top\":10,\"plot_height\":400,\"plot_width\":1500,\"renderers\":[{\"id\":\"4156\"}],\"sizing_mode\":\"fixed\",\"title\":{\"id\":\"4122\"},\"toolbar\":{\"id\":\"4143\"},\"x_range\":{\"id\":\"4118\"},\"x_scale\":{\"id\":\"4126\"},\"y_range\":{\"id\":\"4119\"},\"y_scale\":{\"id\":\"4128\"}},\"id\":\"4121\",\"subtype\":\"Figure\",\"type\":\"Plot\"},{\"attributes\":{\"axis\":{\"id\":\"4133\"},\"dimension\":1,\"grid_line_color\":null,\"ticker\":null},\"id\":\"4136\",\"type\":\"Grid\"},{\"attributes\":{},\"id\":\"4161\",\"type\":\"BasicTickFormatter\"},{\"attributes\":{},\"id\":\"4138\",\"type\":\"PanTool\"}],\"root_ids\":[\"4116\"]},\"title\":\"Bokeh Application\",\"version\":\"2.1.1\"}};\n  var render_items = [{\"docid\":\"dc0e876f-707c-45ec-8160-25d443e24eaa\",\"root_ids\":[\"4116\"],\"roots\":{\"4116\":\"5e6ae5f3-f769-4c99-bc0f-74758c1a0a44\"}}];\n  root.Bokeh.embed.embed_items_notebook(docs_json, render_items);\n  }\nif (root.Bokeh !== undefined) {\n    embed_document(root);\n  } else {\n    var attempts = 0;\n    var timer = setInterval(function(root) {\n      if (root.Bokeh !== undefined) {\n        clearInterval(timer);\n        embed_document(root);\n      } else if (document.readyState == \"complete\") {\n        attempts++;\n        if (attempts > 100) {\n          clearInterval(timer);\n          console.log(\"Bokeh: ERROR: Unable to run BokehJS code because BokehJS library is missing\");\n        }\n      }\n    }, 10, root)\n  }\n})(window);</script>",
      "application/vnd.holoviews_exec.v0+json": "",
      "text/plain": [
       ":Bars   [City]   (Download_speed_Mbps)"
      ]
     },
     "metadata": {
      "application/vnd.holoviews_exec.v0+json": {
       "id": "4116"
      }
     },
     "execution_count": 93
    }
   ],
   "source": [
    "# plot Avarage download speedby city\n",
    "plan_city.hvplot.bar('City', 'Download_speed_Mbps', xlabel =\"City\", ylabel= \"Download_speed_Mbps\", width=1500, height=400)"
   ]
  },
  {
   "cell_type": "code",
   "execution_count": 100,
   "metadata": {},
   "outputs": [
    {
     "output_type": "display_data",
     "data": {},
     "metadata": {}
    },
    {
     "output_type": "execute_result",
     "data": {
      "text/html": "<div id='4324'>\n\n\n\n\n\n  <div class=\"bk-root\" id=\"d88cb36c-b818-46fe-b309-58ba1e06f8b0\" data-root-id=\"4324\"></div>\n</div>\n<script type=\"application/javascript\">(function(root) {\n  function embed_document(root) {\n  var docs_json = {\"7bd1a0c6-b174-4179-8eab-80ddbc085d07\":{\"roots\":{\"references\":[{\"attributes\":{\"children\":[{\"id\":\"4325\"},{\"id\":\"4329\"},{\"id\":\"4386\"}],\"margin\":[0,0,0,0],\"name\":\"Row06838\",\"tags\":[\"embedded\"]},\"id\":\"4324\",\"type\":\"Row\"},{\"attributes\":{\"factors\":[\"Ammon\",\"Atlanta\",\"Chattanooga\",\"Cleveland\",\"Fort Collins\",\"Houston\",\"Kansas City\",\"Lafayette\",\"Los Angeles\",\"New York\",\"San Francisco\",\"Seattle\",\"Washington\",\"Wilson\"],\"tags\":[[[\"City\",\"City\",null]]]},\"id\":\"4326\",\"type\":\"FactorRange\"},{\"attributes\":{\"axis_label\":\"Cost in $ per download Mbps\",\"bounds\":\"auto\",\"formatter\":{\"id\":\"4369\"},\"major_label_orientation\":\"horizontal\",\"ticker\":{\"id\":\"4342\"}},\"id\":\"4341\",\"type\":\"LinearAxis\"},{\"attributes\":{},\"id\":\"4369\",\"type\":\"BasicTickFormatter\"},{\"attributes\":{\"axis\":{\"id\":\"4338\"},\"grid_line_color\":null,\"ticker\":null},\"id\":\"4340\",\"type\":\"Grid\"},{\"attributes\":{},\"id\":\"4346\",\"type\":\"PanTool\"},{\"attributes\":{},\"id\":\"4347\",\"type\":\"WheelZoomTool\"},{\"attributes\":{\"fill_alpha\":{\"value\":0.2},\"fill_color\":{\"value\":\"#1f77b3\"},\"line_alpha\":{\"value\":0.2},\"top\":{\"field\":\"Cost_per_download_Mbps\"},\"width\":{\"value\":0.8},\"x\":{\"field\":\"City\"}},\"id\":\"4363\",\"type\":\"VBar\"},{\"attributes\":{\"active_drag\":\"auto\",\"active_inspect\":\"auto\",\"active_multi\":null,\"active_scroll\":\"auto\",\"active_tap\":\"auto\",\"tools\":[{\"id\":\"4328\"},{\"id\":\"4345\"},{\"id\":\"4346\"},{\"id\":\"4347\"},{\"id\":\"4348\"},{\"id\":\"4349\"}]},\"id\":\"4351\",\"type\":\"Toolbar\"},{\"attributes\":{},\"id\":\"4339\",\"type\":\"CategoricalTicker\"},{\"attributes\":{\"overlay\":{\"id\":\"4350\"}},\"id\":\"4348\",\"type\":\"BoxZoomTool\"},{\"attributes\":{},\"id\":\"4367\",\"type\":\"CategoricalTickFormatter\"},{\"attributes\":{\"callback\":null,\"renderers\":[{\"id\":\"4364\"}],\"tags\":[\"hv_created\"],\"tooltips\":[[\"City\",\"@{City}\"],[\"Cost_per_download Mbps\",\"@{Cost_per_download_Mbps}\"]]},\"id\":\"4328\",\"type\":\"HoverTool\"},{\"attributes\":{},\"id\":\"4345\",\"type\":\"SaveTool\"},{\"attributes\":{\"align\":null,\"below\":[{\"id\":\"4338\"}],\"center\":[{\"id\":\"4340\"},{\"id\":\"4344\"}],\"left\":[{\"id\":\"4341\"}],\"margin\":null,\"min_border_bottom\":10,\"min_border_left\":10,\"min_border_right\":10,\"min_border_top\":10,\"plot_height\":400,\"plot_width\":1500,\"renderers\":[{\"id\":\"4364\"}],\"sizing_mode\":\"fixed\",\"title\":{\"id\":\"4330\"},\"toolbar\":{\"id\":\"4351\"},\"x_range\":{\"id\":\"4326\"},\"x_scale\":{\"id\":\"4334\"},\"y_range\":{\"id\":\"4327\"},\"y_scale\":{\"id\":\"4336\"}},\"id\":\"4329\",\"subtype\":\"Figure\",\"type\":\"Plot\"},{\"attributes\":{\"data_source\":{\"id\":\"4358\"},\"glyph\":{\"id\":\"4361\"},\"hover_glyph\":null,\"muted_glyph\":{\"id\":\"4363\"},\"nonselection_glyph\":{\"id\":\"4362\"},\"selection_glyph\":null,\"view\":{\"id\":\"4365\"}},\"id\":\"4364\",\"type\":\"GlyphRenderer\"},{\"attributes\":{\"axis_label\":\"City\",\"bounds\":\"auto\",\"formatter\":{\"id\":\"4367\"},\"major_label_orientation\":\"horizontal\",\"ticker\":{\"id\":\"4339\"}},\"id\":\"4338\",\"type\":\"CategoricalAxis\"},{\"attributes\":{\"margin\":[5,5,5,5],\"name\":\"HSpacer06843\",\"sizing_mode\":\"stretch_width\"},\"id\":\"4386\",\"type\":\"Spacer\"},{\"attributes\":{\"fill_color\":{\"value\":\"#1f77b3\"},\"top\":{\"field\":\"Cost_per_download_Mbps\"},\"width\":{\"value\":0.8},\"x\":{\"field\":\"City\"}},\"id\":\"4361\",\"type\":\"VBar\"},{\"attributes\":{\"bottom_units\":\"screen\",\"fill_alpha\":0.5,\"fill_color\":\"lightgrey\",\"left_units\":\"screen\",\"level\":\"overlay\",\"line_alpha\":1.0,\"line_color\":\"black\",\"line_dash\":[4,4],\"line_width\":2,\"right_units\":\"screen\",\"top_units\":\"screen\"},\"id\":\"4350\",\"type\":\"BoxAnnotation\"},{\"attributes\":{\"fill_alpha\":{\"value\":0.1},\"fill_color\":{\"value\":\"#1f77b3\"},\"line_alpha\":{\"value\":0.1},\"top\":{\"field\":\"Cost_per_download_Mbps\"},\"width\":{\"value\":0.8},\"x\":{\"field\":\"City\"}},\"id\":\"4362\",\"type\":\"VBar\"},{\"attributes\":{\"end\":6.3172549019607835,\"reset_end\":6.3172549019607835,\"reset_start\":0.0,\"tags\":[[[\"Cost_per_download Mbps\",\"Cost_per_download Mbps\",null]]]},\"id\":\"4327\",\"type\":\"Range1d\"},{\"attributes\":{},\"id\":\"4349\",\"type\":\"ResetTool\"},{\"attributes\":{\"data\":{\"City\":[\"Ammon\",\"Atlanta\",\"Chattanooga\",\"Cleveland\",\"Fort Collins\",\"Houston\",\"Kansas City\",\"Lafayette\",\"Los Angeles\",\"New York\",\"San Francisco\",\"Seattle\",\"Washington\",\"Wilson\"],\"Cost_per_download_Mbps\":{\"__ndarray__\":\"LdXZUp0t5T+W6mypzpYSQJ420GkDnf4/c+6zC4hN8T+2xcGCko7nP3hYqDXNO+Y/MDExMTExF0ArzyWQNYz6P0fhehSuR/0/rZY3RjDR8z/RyNyMzM0MQM4ZUdobfPU/Y2NjY2Nj4z9SuB6F61HmPw==\",\"dtype\":\"float64\",\"order\":\"little\",\"shape\":[14]}},\"selected\":{\"id\":\"4359\"},\"selection_policy\":{\"id\":\"4376\"}},\"id\":\"4358\",\"type\":\"ColumnDataSource\"},{\"attributes\":{},\"id\":\"4334\",\"type\":\"CategoricalScale\"},{\"attributes\":{},\"id\":\"4336\",\"type\":\"LinearScale\"},{\"attributes\":{\"source\":{\"id\":\"4358\"}},\"id\":\"4365\",\"type\":\"CDSView\"},{\"attributes\":{},\"id\":\"4359\",\"type\":\"Selection\"},{\"attributes\":{\"axis\":{\"id\":\"4341\"},\"dimension\":1,\"grid_line_color\":null,\"ticker\":null},\"id\":\"4344\",\"type\":\"Grid\"},{\"attributes\":{\"margin\":[5,5,5,5],\"name\":\"HSpacer06842\",\"sizing_mode\":\"stretch_width\"},\"id\":\"4325\",\"type\":\"Spacer\"},{\"attributes\":{\"text\":\"\",\"text_color\":{\"value\":\"black\"},\"text_font_size\":{\"value\":\"12pt\"}},\"id\":\"4330\",\"type\":\"Title\"},{\"attributes\":{},\"id\":\"4342\",\"type\":\"BasicTicker\"},{\"attributes\":{},\"id\":\"4376\",\"type\":\"UnionRenderers\"}],\"root_ids\":[\"4324\"]},\"title\":\"Bokeh Application\",\"version\":\"2.1.1\"}};\n  var render_items = [{\"docid\":\"7bd1a0c6-b174-4179-8eab-80ddbc085d07\",\"root_ids\":[\"4324\"],\"roots\":{\"4324\":\"d88cb36c-b818-46fe-b309-58ba1e06f8b0\"}}];\n  root.Bokeh.embed.embed_items_notebook(docs_json, render_items);\n  }\nif (root.Bokeh !== undefined) {\n    embed_document(root);\n  } else {\n    var attempts = 0;\n    var timer = setInterval(function(root) {\n      if (root.Bokeh !== undefined) {\n        clearInterval(timer);\n        embed_document(root);\n      } else if (document.readyState == \"complete\") {\n        attempts++;\n        if (attempts > 100) {\n          clearInterval(timer);\n          console.log(\"Bokeh: ERROR: Unable to run BokehJS code because BokehJS library is missing\");\n        }\n      }\n    }, 10, root)\n  }\n})(window);</script>",
      "application/vnd.holoviews_exec.v0+json": "",
      "text/plain": [
       ":Bars   [City]   (Cost_per_download Mbps)"
      ]
     },
     "metadata": {
      "application/vnd.holoviews_exec.v0+json": {
       "id": "4324"
      }
     },
     "execution_count": 100
    }
   ],
   "source": [
    "#plot $ per Download Mbpsby city use mean\n",
    "plan_city.hvplot.bar('City', 'Cost_per_download Mbps', xlabel =\"City\", ylabel= \"Cost in $ per download Mbps\", width=1500, height=400)"
   ]
  },
  {
   "cell_type": "code",
   "execution_count": null,
   "metadata": {},
   "outputs": [],
   "source": []
  },
  {
   "cell_type": "code",
   "execution_count": null,
   "metadata": {},
   "outputs": [],
   "source": []
  },
  {
   "cell_type": "code",
   "execution_count": 95,
   "metadata": {},
   "outputs": [
    {
     "output_type": "execute_result",
     "data": {
      "text/plain": [
       "                 X            Y    FID                             LICENSEE  \\\n",
       "23493 -12687851.88  5503358.379  23494   CUSTER TELEPHONE COOPERATIVE, INC.   \n",
       "23494 -12654055.27  5454184.079  23495   CUSTER TELEPHONE COOPERATIVE, INC.   \n",
       "23495 -12794629.56  5498992.833  23496   CUSTER TELEPHONE COOPERATIVE, INC.   \n",
       "23496 -11821296.14  4347120.131  23497       TISDALE TELEPHONE COMPANY, LLC   \n",
       "23497 -12080581.77  6248467.834  23498  TRIANGLE COMMUNICATION SYSTEM, INC.   \n",
       "\n",
       "      CALLSIGN  LOCNUM   LAT_DMS LATDIR    LON_DMS LONDIR  ...  LOCCITY  \\\n",
       "23493  WQOA586       2  44,14,40      N  113,58,37      W  ...   DICKEY   \n",
       "23494  WQOA586       3  43,55,38      N  113,40,24      W  ...   MACKAY   \n",
       "23495  WQOA586       4  44,12,59      N  114,56,10      W  ...  STANLEY   \n",
       "23496  WQOI295       1  36,20,14      N  106,11,33      W  ...  EL RITO   \n",
       "23497  WQOQ507       1  48,50,39      N  108,31,18      W  ...   TURNER   \n",
       "\n",
       "        LOCCOUNTY LOCSTATE NEPA QZONE     TOWREG  SUPSTRUC  ALLSTRUC  \\\n",
       "23493      CUSTER       ID  NaN   NaN        NaN      11.0      13.4   \n",
       "23494      CUSTER       ID  NaN   NaN  1278857.0      15.2      15.2   \n",
       "23495      CUSTER       ID  NaN   NaN        NaN       6.1       7.3   \n",
       "23496  RIO ARRIBA       NM  NaN   NaN        NaN      21.0      21.0   \n",
       "23497      BLAINE       MT  NaN   NaN  1281437.0      91.4      93.0   \n",
       "\n",
       "       STRUCTYPE   LIC_ID  \n",
       "23493      TOWER  3306717  \n",
       "23494      TOWER  3306717  \n",
       "23495       POLE  3306717  \n",
       "23496       POLE  3322196  \n",
       "23497      TOWER  3339826  \n",
       "\n",
       "[5 rows x 21 columns]"
      ],
      "text/html": "<div>\n<style scoped>\n    .dataframe tbody tr th:only-of-type {\n        vertical-align: middle;\n    }\n\n    .dataframe tbody tr th {\n        vertical-align: top;\n    }\n\n    .dataframe thead th {\n        text-align: right;\n    }\n</style>\n<table border=\"1\" class=\"dataframe\">\n  <thead>\n    <tr style=\"text-align: right;\">\n      <th></th>\n      <th>X</th>\n      <th>Y</th>\n      <th>FID</th>\n      <th>LICENSEE</th>\n      <th>CALLSIGN</th>\n      <th>LOCNUM</th>\n      <th>LAT_DMS</th>\n      <th>LATDIR</th>\n      <th>LON_DMS</th>\n      <th>LONDIR</th>\n      <th>...</th>\n      <th>LOCCITY</th>\n      <th>LOCCOUNTY</th>\n      <th>LOCSTATE</th>\n      <th>NEPA</th>\n      <th>QZONE</th>\n      <th>TOWREG</th>\n      <th>SUPSTRUC</th>\n      <th>ALLSTRUC</th>\n      <th>STRUCTYPE</th>\n      <th>LIC_ID</th>\n    </tr>\n  </thead>\n  <tbody>\n    <tr>\n      <th>23493</th>\n      <td>-12687851.88</td>\n      <td>5503358.379</td>\n      <td>23494</td>\n      <td>CUSTER TELEPHONE COOPERATIVE, INC.</td>\n      <td>WQOA586</td>\n      <td>2</td>\n      <td>44,14,40</td>\n      <td>N</td>\n      <td>113,58,37</td>\n      <td>W</td>\n      <td>...</td>\n      <td>DICKEY</td>\n      <td>CUSTER</td>\n      <td>ID</td>\n      <td>NaN</td>\n      <td>NaN</td>\n      <td>NaN</td>\n      <td>11.0</td>\n      <td>13.4</td>\n      <td>TOWER</td>\n      <td>3306717</td>\n    </tr>\n    <tr>\n      <th>23494</th>\n      <td>-12654055.27</td>\n      <td>5454184.079</td>\n      <td>23495</td>\n      <td>CUSTER TELEPHONE COOPERATIVE, INC.</td>\n      <td>WQOA586</td>\n      <td>3</td>\n      <td>43,55,38</td>\n      <td>N</td>\n      <td>113,40,24</td>\n      <td>W</td>\n      <td>...</td>\n      <td>MACKAY</td>\n      <td>CUSTER</td>\n      <td>ID</td>\n      <td>NaN</td>\n      <td>NaN</td>\n      <td>1278857.0</td>\n      <td>15.2</td>\n      <td>15.2</td>\n      <td>TOWER</td>\n      <td>3306717</td>\n    </tr>\n    <tr>\n      <th>23495</th>\n      <td>-12794629.56</td>\n      <td>5498992.833</td>\n      <td>23496</td>\n      <td>CUSTER TELEPHONE COOPERATIVE, INC.</td>\n      <td>WQOA586</td>\n      <td>4</td>\n      <td>44,12,59</td>\n      <td>N</td>\n      <td>114,56,10</td>\n      <td>W</td>\n      <td>...</td>\n      <td>STANLEY</td>\n      <td>CUSTER</td>\n      <td>ID</td>\n      <td>NaN</td>\n      <td>NaN</td>\n      <td>NaN</td>\n      <td>6.1</td>\n      <td>7.3</td>\n      <td>POLE</td>\n      <td>3306717</td>\n    </tr>\n    <tr>\n      <th>23496</th>\n      <td>-11821296.14</td>\n      <td>4347120.131</td>\n      <td>23497</td>\n      <td>TISDALE TELEPHONE COMPANY, LLC</td>\n      <td>WQOI295</td>\n      <td>1</td>\n      <td>36,20,14</td>\n      <td>N</td>\n      <td>106,11,33</td>\n      <td>W</td>\n      <td>...</td>\n      <td>EL RITO</td>\n      <td>RIO ARRIBA</td>\n      <td>NM</td>\n      <td>NaN</td>\n      <td>NaN</td>\n      <td>NaN</td>\n      <td>21.0</td>\n      <td>21.0</td>\n      <td>POLE</td>\n      <td>3322196</td>\n    </tr>\n    <tr>\n      <th>23497</th>\n      <td>-12080581.77</td>\n      <td>6248467.834</td>\n      <td>23498</td>\n      <td>TRIANGLE COMMUNICATION SYSTEM, INC.</td>\n      <td>WQOQ507</td>\n      <td>1</td>\n      <td>48,50,39</td>\n      <td>N</td>\n      <td>108,31,18</td>\n      <td>W</td>\n      <td>...</td>\n      <td>TURNER</td>\n      <td>BLAINE</td>\n      <td>MT</td>\n      <td>NaN</td>\n      <td>NaN</td>\n      <td>1281437.0</td>\n      <td>91.4</td>\n      <td>93.0</td>\n      <td>TOWER</td>\n      <td>3339826</td>\n    </tr>\n  </tbody>\n</table>\n<p>5 rows × 21 columns</p>\n</div>"
     },
     "metadata": {},
     "execution_count": 95
    }
   ],
   "source": [
    "# Read the intennet plans data into a Pandas DataFrame\n",
    "celltower_data = pd.read_csv(\"cellular_towers.csv\")\n",
    "\n",
    "celltower_data.tail()"
   ]
  },
  {
   "cell_type": "code",
   "execution_count": 96,
   "metadata": {},
   "outputs": [],
   "source": [
    "#WARNING plotting the cell towers takes forever\n",
    "#x = celltower_data.LAT_DMS\n",
    "#y = celltower_data.LON_DMS\n",
    "# plt.scatter(x,y)"
   ]
  },
  {
   "cell_type": "code",
   "execution_count": 114,
   "metadata": {},
   "outputs": [
    {
     "output_type": "execute_result",
     "data": {
      "text/plain": [
       "   zipcode                County           City State  2020_Year_Wage  \\\n",
       "0    90001    Los_Angeles_County    Los Angeles    CA           68068   \n",
       "1    94101  San_Francisco_County  San Francisco    CA          149604   \n",
       "2    93001        Ventura_County    Los Angeles    CA           60788   \n",
       "3    80528        Larimer_County   Fort Collins    CO           55588   \n",
       "4    30369         Fulton_County        Atlanta    GA           96252   \n",
       "\n",
       "   2019_Year_Wage  2018_Year_Wage  3_year_wage_avg  latitude  longitude  \n",
       "0           61932           59892         63297.33     33.97     118.24  \n",
       "1          119880          109332        126272.00     37.77    -122.41  \n",
       "2           53400           50976         55054.67     34.33    -119.31  \n",
       "3           49776           47832         51065.33     40.55    -105.06  \n",
       "4           72660           45276         71396.00     33.80     -84.47  "
      ],
      "text/html": "<div>\n<style scoped>\n    .dataframe tbody tr th:only-of-type {\n        vertical-align: middle;\n    }\n\n    .dataframe tbody tr th {\n        vertical-align: top;\n    }\n\n    .dataframe thead th {\n        text-align: right;\n    }\n</style>\n<table border=\"1\" class=\"dataframe\">\n  <thead>\n    <tr style=\"text-align: right;\">\n      <th></th>\n      <th>zipcode</th>\n      <th>County</th>\n      <th>City</th>\n      <th>State</th>\n      <th>2020_Year_Wage</th>\n      <th>2019_Year_Wage</th>\n      <th>2018_Year_Wage</th>\n      <th>3_year_wage_avg</th>\n      <th>latitude</th>\n      <th>longitude</th>\n    </tr>\n  </thead>\n  <tbody>\n    <tr>\n      <th>0</th>\n      <td>90001</td>\n      <td>Los_Angeles_County</td>\n      <td>Los Angeles</td>\n      <td>CA</td>\n      <td>68068</td>\n      <td>61932</td>\n      <td>59892</td>\n      <td>63297.33</td>\n      <td>33.97</td>\n      <td>118.24</td>\n    </tr>\n    <tr>\n      <th>1</th>\n      <td>94101</td>\n      <td>San_Francisco_County</td>\n      <td>San Francisco</td>\n      <td>CA</td>\n      <td>149604</td>\n      <td>119880</td>\n      <td>109332</td>\n      <td>126272.00</td>\n      <td>37.77</td>\n      <td>-122.41</td>\n    </tr>\n    <tr>\n      <th>2</th>\n      <td>93001</td>\n      <td>Ventura_County</td>\n      <td>Los Angeles</td>\n      <td>CA</td>\n      <td>60788</td>\n      <td>53400</td>\n      <td>50976</td>\n      <td>55054.67</td>\n      <td>34.33</td>\n      <td>-119.31</td>\n    </tr>\n    <tr>\n      <th>3</th>\n      <td>80528</td>\n      <td>Larimer_County</td>\n      <td>Fort Collins</td>\n      <td>CO</td>\n      <td>55588</td>\n      <td>49776</td>\n      <td>47832</td>\n      <td>51065.33</td>\n      <td>40.55</td>\n      <td>-105.06</td>\n    </tr>\n    <tr>\n      <th>4</th>\n      <td>30369</td>\n      <td>Fulton_County</td>\n      <td>Atlanta</td>\n      <td>GA</td>\n      <td>96252</td>\n      <td>72660</td>\n      <td>45276</td>\n      <td>71396.00</td>\n      <td>33.80</td>\n      <td>-84.47</td>\n    </tr>\n  </tbody>\n</table>\n</div>"
     },
     "metadata": {},
     "execution_count": 114
    }
   ],
   "source": [
    "#import data\n",
    "median_income = pd.read_csv(\"cleandata/median_yearly_income.csv\")\n",
    "median_income.head()"
   ]
  },
  {
   "cell_type": "code",
   "execution_count": 129,
   "metadata": {},
   "outputs": [
    {
     "output_type": "execute_result",
     "data": {
      "text/plain": [
       "  zipcode       County_x   City_x State_x  2020_Year_Wage  2019_Year_Wage  \\\n",
       "0   77002  Harris_County  Houston      TX           83408           67128   \n",
       "1   77002  Harris_County  Houston      TX           83408           67128   \n",
       "2   77002  Harris_County  Houston      TX           83408           67128   \n",
       "3   77002  Harris_County  Houston      TX           83408           67128   \n",
       "4   77002  Harris_County  Houston      TX           83408           67128   \n",
       "\n",
       "   2018_Year_Wage  3_year_wage_avg  latitude  longitude  ...  \\\n",
       "0           47592         66042.67     29.76     -95.38  ...   \n",
       "1           47592         66042.67     29.76     -95.38  ...   \n",
       "2           47592         66042.67     29.76     -95.38  ...   \n",
       "3           47592         66042.67     29.76     -95.38  ...   \n",
       "4           47592         66042.67     29.76     -95.38  ...   \n",
       "\n",
       "  Self_install_ fee Router_rental_monthly Modem_rental_monthly  \\\n",
       "0               NaN                   NaN                   10   \n",
       "1               NaN                   NaN                  NaN   \n",
       "2               NaN                   NaN                  NaN   \n",
       "3               NaN                   NaN                  NaN   \n",
       "4               NaN                   NaN                  NaN   \n",
       "\n",
       "  Ttl_rental_costs router_purchase_cost Modem_purchase_cost Ttl_purch_costs  \\\n",
       "0               10                  NaN                 NaN               0   \n",
       "1                0                  NaN                 NaN               0   \n",
       "2                0                  NaN                 NaN               0   \n",
       "3              NaN                  NaN                 NaN             NaN   \n",
       "4              NaN                  NaN                 NaN             NaN   \n",
       "\n",
       "   requirement_months  Termination_fee  Address_used  \n",
       "0                12.0              180   308 Main St  \n",
       "1                12.0              NaN   308 Main St  \n",
       "2                24.0              NaN   308 Main St  \n",
       "3                12.0              NaN   308 Main St  \n",
       "4                12.0              NaN   308 Main St  \n",
       "\n",
       "[5 rows x 37 columns]"
      ],
      "text/html": "<div>\n<style scoped>\n    .dataframe tbody tr th:only-of-type {\n        vertical-align: middle;\n    }\n\n    .dataframe tbody tr th {\n        vertical-align: top;\n    }\n\n    .dataframe thead th {\n        text-align: right;\n    }\n</style>\n<table border=\"1\" class=\"dataframe\">\n  <thead>\n    <tr style=\"text-align: right;\">\n      <th></th>\n      <th>zipcode</th>\n      <th>County_x</th>\n      <th>City_x</th>\n      <th>State_x</th>\n      <th>2020_Year_Wage</th>\n      <th>2019_Year_Wage</th>\n      <th>2018_Year_Wage</th>\n      <th>3_year_wage_avg</th>\n      <th>latitude</th>\n      <th>longitude</th>\n      <th>...</th>\n      <th>Self_install_ fee</th>\n      <th>Router_rental_monthly</th>\n      <th>Modem_rental_monthly</th>\n      <th>Ttl_rental_costs</th>\n      <th>router_purchase_cost</th>\n      <th>Modem_purchase_cost</th>\n      <th>Ttl_purch_costs</th>\n      <th>requirement_months</th>\n      <th>Termination_fee</th>\n      <th>Address_used</th>\n    </tr>\n  </thead>\n  <tbody>\n    <tr>\n      <th>0</th>\n      <td>77002</td>\n      <td>Harris_County</td>\n      <td>Houston</td>\n      <td>TX</td>\n      <td>83408</td>\n      <td>67128</td>\n      <td>47592</td>\n      <td>66042.67</td>\n      <td>29.76</td>\n      <td>-95.38</td>\n      <td>...</td>\n      <td>NaN</td>\n      <td>NaN</td>\n      <td>10</td>\n      <td>10</td>\n      <td>NaN</td>\n      <td>NaN</td>\n      <td>0</td>\n      <td>12.0</td>\n      <td>180</td>\n      <td>308 Main St</td>\n    </tr>\n    <tr>\n      <th>1</th>\n      <td>77002</td>\n      <td>Harris_County</td>\n      <td>Houston</td>\n      <td>TX</td>\n      <td>83408</td>\n      <td>67128</td>\n      <td>47592</td>\n      <td>66042.67</td>\n      <td>29.76</td>\n      <td>-95.38</td>\n      <td>...</td>\n      <td>NaN</td>\n      <td>NaN</td>\n      <td>NaN</td>\n      <td>0</td>\n      <td>NaN</td>\n      <td>NaN</td>\n      <td>0</td>\n      <td>12.0</td>\n      <td>NaN</td>\n      <td>308 Main St</td>\n    </tr>\n    <tr>\n      <th>2</th>\n      <td>77002</td>\n      <td>Harris_County</td>\n      <td>Houston</td>\n      <td>TX</td>\n      <td>83408</td>\n      <td>67128</td>\n      <td>47592</td>\n      <td>66042.67</td>\n      <td>29.76</td>\n      <td>-95.38</td>\n      <td>...</td>\n      <td>NaN</td>\n      <td>NaN</td>\n      <td>NaN</td>\n      <td>0</td>\n      <td>NaN</td>\n      <td>NaN</td>\n      <td>0</td>\n      <td>24.0</td>\n      <td>NaN</td>\n      <td>308 Main St</td>\n    </tr>\n    <tr>\n      <th>3</th>\n      <td>77002</td>\n      <td>Harris_County</td>\n      <td>Houston</td>\n      <td>TX</td>\n      <td>83408</td>\n      <td>67128</td>\n      <td>47592</td>\n      <td>66042.67</td>\n      <td>29.76</td>\n      <td>-95.38</td>\n      <td>...</td>\n      <td>NaN</td>\n      <td>NaN</td>\n      <td>NaN</td>\n      <td>NaN</td>\n      <td>NaN</td>\n      <td>NaN</td>\n      <td>NaN</td>\n      <td>12.0</td>\n      <td>NaN</td>\n      <td>308 Main St</td>\n    </tr>\n    <tr>\n      <th>4</th>\n      <td>77002</td>\n      <td>Harris_County</td>\n      <td>Houston</td>\n      <td>TX</td>\n      <td>83408</td>\n      <td>67128</td>\n      <td>47592</td>\n      <td>66042.67</td>\n      <td>29.76</td>\n      <td>-95.38</td>\n      <td>...</td>\n      <td>NaN</td>\n      <td>NaN</td>\n      <td>NaN</td>\n      <td>NaN</td>\n      <td>NaN</td>\n      <td>NaN</td>\n      <td>NaN</td>\n      <td>12.0</td>\n      <td>NaN</td>\n      <td>308 Main St</td>\n    </tr>\n  </tbody>\n</table>\n<p>5 rows × 37 columns</p>\n</div>"
     },
     "metadata": {},
     "execution_count": 129
    }
   ],
   "source": [
    "# concatenate median income data and internet plans\n",
    "#median_income=median_income.set_index(\"zipcode\")\n",
    "#median_income\n",
    "#plan_data=plan_data.set_index(\"Zip_code\")\n",
    "\n",
    "income_v_internet = median_income.merge(right= plan_data,how='inner', left_on=\"zipcode\", right_on=\"Zip_code\")\n",
    "income_v_internet.head()"
   ]
  },
  {
   "cell_type": "code",
   "execution_count": null,
   "metadata": {},
   "outputs": [],
   "source": []
  },
  {
   "cell_type": "code",
   "execution_count": 99,
   "metadata": {},
   "outputs": [],
   "source": [
    "# clean data\n",
    "#census_files = \"../data\"\n",
    "#for file in census_files.glob('*.csv'):\n",
    " #   df = pd.read_csv(file)\n",
    "  #  df.filena(0, inplace=True)\n",
    "   # fig, ax = plt.subplots()\n",
    "   #stategroup=df.groupby('Geography')\n",
    "\n",
    "#df\n"
   ]
  },
  {
   "cell_type": "code",
   "execution_count": null,
   "metadata": {},
   "outputs": [],
   "source": []
  },
  {
   "cell_type": "code",
   "execution_count": null,
   "metadata": {},
   "outputs": [],
   "source": []
  }
 ],
 "metadata": {
  "kernelspec": {
   "name": "Python 3.8.3 64-bit (conda)",
   "display_name": "Python 3.8.3 64-bit (conda)",
   "metadata": {
    "interpreter": {
     "hash": "d4e65fd403391fc192a9df0a2101c61986140267a07df91da3704987550b2fb5"
    }
   }
  },
  "language_info": {
   "codemirror_mode": {
    "name": "ipython",
    "version": 3
   },
   "file_extension": ".py",
   "mimetype": "text/x-python",
   "name": "python",
   "nbconvert_exporter": "python",
   "pygments_lexer": "ipython3",
   "version": "3.8.3-final"
  }
 },
 "nbformat": 4,
 "nbformat_minor": 4
}