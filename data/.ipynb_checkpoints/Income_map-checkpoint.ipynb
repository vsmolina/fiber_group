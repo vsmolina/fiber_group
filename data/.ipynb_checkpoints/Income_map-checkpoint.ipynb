{
 "cells": [
  {
   "cell_type": "code",
   "execution_count": 3,
   "metadata": {},
   "outputs": [],
   "source": [
    "import os\n",
    "import pandas as pd\n",
    "import plotly.express as px\n",
    "import hvplot.pandas\n",
    "from pathlib import Path\n",
    "from dotenv import load_dotenv\n",
    "import geopandas\n",
    "import matplotlib.pyplot as plt\n",
    "from descartes import PolygonPatch\n",
    "\n",
    "%matplotlib inline"
   ]
  },
  {
   "cell_type": "code",
   "execution_count": 5,
   "metadata": {},
   "outputs": [
    {
     "data": {
      "text/html": [
       "<div>\n",
       "<style scoped>\n",
       "    .dataframe tbody tr th:only-of-type {\n",
       "        vertical-align: middle;\n",
       "    }\n",
       "\n",
       "    .dataframe tbody tr th {\n",
       "        vertical-align: top;\n",
       "    }\n",
       "\n",
       "    .dataframe thead th {\n",
       "        text-align: right;\n",
       "    }\n",
       "</style>\n",
       "<table border=\"1\" class=\"dataframe\">\n",
       "  <thead>\n",
       "    <tr style=\"text-align: right;\">\n",
       "      <th></th>\n",
       "      <th>primary_city</th>\n",
       "      <th>state</th>\n",
       "      <th>latitude</th>\n",
       "      <th>longitude</th>\n",
       "      <th>county</th>\n",
       "      <th>type</th>\n",
       "      <th>world_region</th>\n",
       "      <th>country</th>\n",
       "      <th>decommissioned</th>\n",
       "      <th>estimated_population</th>\n",
       "      <th>notes</th>\n",
       "    </tr>\n",
       "    <tr>\n",
       "      <th>zip</th>\n",
       "      <th></th>\n",
       "      <th></th>\n",
       "      <th></th>\n",
       "      <th></th>\n",
       "      <th></th>\n",
       "      <th></th>\n",
       "      <th></th>\n",
       "      <th></th>\n",
       "      <th></th>\n",
       "      <th></th>\n",
       "      <th></th>\n",
       "    </tr>\n",
       "  </thead>\n",
       "  <tbody>\n",
       "    <tr>\n",
       "      <th>501</th>\n",
       "      <td>Holtsville</td>\n",
       "      <td>NY</td>\n",
       "      <td>40.81</td>\n",
       "      <td>-73.04</td>\n",
       "      <td>Suffolk</td>\n",
       "      <td>UNIQUE</td>\n",
       "      <td>NaN</td>\n",
       "      <td>US</td>\n",
       "      <td>0</td>\n",
       "      <td>384</td>\n",
       "      <td>NaN</td>\n",
       "    </tr>\n",
       "    <tr>\n",
       "      <th>544</th>\n",
       "      <td>Holtsville</td>\n",
       "      <td>NY</td>\n",
       "      <td>40.81</td>\n",
       "      <td>-73.04</td>\n",
       "      <td>Suffolk</td>\n",
       "      <td>UNIQUE</td>\n",
       "      <td>NaN</td>\n",
       "      <td>US</td>\n",
       "      <td>0</td>\n",
       "      <td>0</td>\n",
       "      <td>NaN</td>\n",
       "    </tr>\n",
       "    <tr>\n",
       "      <th>601</th>\n",
       "      <td>Adjuntas</td>\n",
       "      <td>PR</td>\n",
       "      <td>18.16</td>\n",
       "      <td>-66.72</td>\n",
       "      <td>Adjuntas</td>\n",
       "      <td>STANDARD</td>\n",
       "      <td>NaN</td>\n",
       "      <td>US</td>\n",
       "      <td>0</td>\n",
       "      <td>0</td>\n",
       "      <td>NaN</td>\n",
       "    </tr>\n",
       "    <tr>\n",
       "      <th>602</th>\n",
       "      <td>Aguada</td>\n",
       "      <td>PR</td>\n",
       "      <td>18.38</td>\n",
       "      <td>-67.18</td>\n",
       "      <td>NaN</td>\n",
       "      <td>STANDARD</td>\n",
       "      <td>NaN</td>\n",
       "      <td>US</td>\n",
       "      <td>0</td>\n",
       "      <td>0</td>\n",
       "      <td>NaN</td>\n",
       "    </tr>\n",
       "    <tr>\n",
       "      <th>603</th>\n",
       "      <td>Aguadilla</td>\n",
       "      <td>PR</td>\n",
       "      <td>18.43</td>\n",
       "      <td>-67.15</td>\n",
       "      <td>Aguadilla</td>\n",
       "      <td>STANDARD</td>\n",
       "      <td>NaN</td>\n",
       "      <td>US</td>\n",
       "      <td>0</td>\n",
       "      <td>0</td>\n",
       "      <td>NaN</td>\n",
       "    </tr>\n",
       "  </tbody>\n",
       "</table>\n",
       "</div>"
      ],
      "text/plain": [
       "    primary_city state  latitude  longitude     county      type world_region  \\\n",
       "zip                                                                             \n",
       "501   Holtsville    NY     40.81     -73.04    Suffolk    UNIQUE          NaN   \n",
       "544   Holtsville    NY     40.81     -73.04    Suffolk    UNIQUE          NaN   \n",
       "601     Adjuntas    PR     18.16     -66.72   Adjuntas  STANDARD          NaN   \n",
       "602       Aguada    PR     18.38     -67.18        NaN  STANDARD          NaN   \n",
       "603    Aguadilla    PR     18.43     -67.15  Aguadilla  STANDARD          NaN   \n",
       "\n",
       "    country  decommissioned  estimated_population notes  \n",
       "zip                                                      \n",
       "501      US               0                   384   NaN  \n",
       "544      US               0                     0   NaN  \n",
       "601      US               0                     0   NaN  \n",
       "602      US               0                     0   NaN  \n",
       "603      US               0                     0   NaN  "
      ]
     },
     "execution_count": 5,
     "metadata": {},
     "output_type": "execute_result"
    }
   ],
   "source": [
    "counties_csv = Path(\"../data/geocodes_counties.csv\")\n",
    "counties_df = pd.read_csv(\n",
    "    counties_csv,\n",
    "    index_col = \"zip\"\n",
    ")\n",
    "counties_df.head()"
   ]
  },
  {
   "cell_type": "code",
   "execution_count": 6,
   "metadata": {},
   "outputs": [],
   "source": [
    "counties_gdf = geopandas.GeoDataFrame(\n",
    "    counties_df, geometry = geopandas.points_from_xy(counties_df.longitude, counties_df.latitude)\n",
    ")"
   ]
  },
  {
   "cell_type": "code",
   "execution_count": 7,
   "metadata": {},
   "outputs": [
    {
     "name": "stdout",
     "output_type": "stream",
     "text": [
      "    primary_city state  latitude  longitude     county      type world_region  \\\n",
      "zip                                                                             \n",
      "501   Holtsville    NY     40.81     -73.04    Suffolk    UNIQUE          NaN   \n",
      "544   Holtsville    NY     40.81     -73.04    Suffolk    UNIQUE          NaN   \n",
      "601     Adjuntas    PR     18.16     -66.72   Adjuntas  STANDARD          NaN   \n",
      "602       Aguada    PR     18.38     -67.18        NaN  STANDARD          NaN   \n",
      "603    Aguadilla    PR     18.43     -67.15  Aguadilla  STANDARD          NaN   \n",
      "\n",
      "    country  decommissioned  estimated_population notes  \\\n",
      "zip                                                       \n",
      "501      US               0                   384   NaN   \n",
      "544      US               0                     0   NaN   \n",
      "601      US               0                     0   NaN   \n",
      "602      US               0                     0   NaN   \n",
      "603      US               0                     0   NaN   \n",
      "\n",
      "                       geometry  \n",
      "zip                              \n",
      "501  POINT (-73.04000 40.81000)  \n",
      "544  POINT (-73.04000 40.81000)  \n",
      "601  POINT (-66.72000 18.16000)  \n",
      "602  POINT (-67.18000 18.38000)  \n",
      "603  POINT (-67.15000 18.43000)  \n"
     ]
    }
   ],
   "source": [
    "print(counties_gdf.head())"
   ]
  },
  {
   "cell_type": "code",
   "execution_count": 9,
   "metadata": {},
   "outputs": [
    {
     "data": {
      "image/png": "[encoded data removed]",
      "text/plain": [
       "<Figure size 1080x720 with 1 Axes>"
      ]
     },
     "metadata": {
      "needs_background": "light"
     },
     "output_type": "display_data"
    }
   ],
   "source": [
    "world = geopandas.read_file(geopandas.datasets.get_path('naturalearth_lowres'))\n",
    "\n",
    "ax = world[world.continent == 'North America'].plot(\n",
    "    figsize=(15,10), color = 'white', edgecolor = 'black'\n",
    ")\n",
    "\n",
    "counties_gdf.plot(ax=ax, color = 'red')\n",
    "\n",
    "plt.show()"
   ]
  },
  {
   "cell_type": "code",
   "execution_count": 15,
   "metadata": {},
   "outputs": [
    {
     "data": {
      "text/plain": [
       "primary_city                   Idaho Falls\n",
       "state                                   ID\n",
       "latitude                             43.42\n",
       "longitude                             -112\n",
       "county                          Bonneville\n",
       "type                              STANDARD\n",
       "world_region                           NaN\n",
       "country                                 US\n",
       "decommissioned                           0\n",
       "estimated_population                 17939\n",
       "notes                                  NaN\n",
       "geometry                POINT (-112 43.42)\n",
       "Name: 83404, dtype: object"
      ]
     },
     "execution_count": 15,
     "metadata": {},
     "output_type": "execute_result"
    }
   ],
   "source": [
    "counties_df.loc[83404]"
   ]
  },
  {
   "cell_type": "code",
   "execution_count": 27,
   "metadata": {},
   "outputs": [
    {
     "data": {
      "text/plain": [
       "primary_city                           Bronx\n",
       "state                                     NY\n",
       "latitude                               40.84\n",
       "longitude                             -73.87\n",
       "county                                 Bronx\n",
       "type                                STANDARD\n",
       "world_region                             NaN\n",
       "country                                   US\n",
       "decommissioned                             0\n",
       "estimated_population                   57854\n",
       "notes                                    NaN\n",
       "geometry                POINT (-73.87 40.84)\n",
       "Name: 10462, dtype: object"
      ]
     },
     "execution_count": 27,
     "metadata": {},
     "output_type": "execute_result"
    }
   ],
   "source": [
    "counties_df.loc[10462]"
   ]
  },
  {
   "cell_type": "code",
   "execution_count": 28,
   "metadata": {},
   "outputs": [
    {
     "data": {
      "text/plain": [
       "primary_city                      Los Angeles\n",
       "state                                      CA\n",
       "latitude                                33.97\n",
       "longitude                             -118.24\n",
       "county                            Los Angeles\n",
       "type                                 STANDARD\n",
       "world_region                              NaN\n",
       "country                                    US\n",
       "decommissioned                              0\n",
       "estimated_population                    36200\n",
       "notes                                     NaN\n",
       "geometry                POINT (-118.24 33.97)\n",
       "Name: 90001, dtype: object"
      ]
     },
     "execution_count": 28,
     "metadata": {},
     "output_type": "execute_result"
    }
   ],
   "source": [
    "counties_df.loc[90001]"
   ]
  },
  {
   "cell_type": "code",
   "execution_count": 29,
   "metadata": {},
   "outputs": [
    {
     "data": {
      "text/plain": [
       "primary_city                               San Francisco\n",
       "state                                                 CA\n",
       "latitude                                           37.77\n",
       "longitude                                        -122.41\n",
       "county                                     San Francisco\n",
       "type                                            STANDARD\n",
       "world_region                                         NaN\n",
       "country                                               US\n",
       "decommissioned                                         1\n",
       "estimated_population                                   0\n",
       "notes                   Converted Decommisioned Zipcodes\n",
       "geometry                           POINT (-122.41 37.77)\n",
       "Name: 94101, dtype: object"
      ]
     },
     "execution_count": 29,
     "metadata": {},
     "output_type": "execute_result"
    }
   ],
   "source": [
    "counties_df.loc[94101]"
   ]
  },
  {
   "cell_type": "code",
   "execution_count": 30,
   "metadata": {},
   "outputs": [
    {
     "data": {
      "text/plain": [
       "primary_city                          Ventura\n",
       "state                                      CA\n",
       "latitude                                34.33\n",
       "longitude                             -119.31\n",
       "county                                Ventura\n",
       "type                                 STANDARD\n",
       "world_region                              NaN\n",
       "country                                    US\n",
       "decommissioned                              0\n",
       "estimated_population                    23874\n",
       "notes                                     NaN\n",
       "geometry                POINT (-119.31 34.33)\n",
       "Name: 93001, dtype: object"
      ]
     },
     "execution_count": 30,
     "metadata": {},
     "output_type": "execute_result"
    }
   ],
   "source": [
    "counties_df.loc[93001]"
   ]
  },
  {
   "cell_type": "code",
   "execution_count": 31,
   "metadata": {},
   "outputs": [
    {
     "data": {
      "text/plain": [
       "primary_city                     Fort Collins\n",
       "state                                      CO\n",
       "latitude                                40.55\n",
       "longitude                             -105.06\n",
       "county                                Larimer\n",
       "type                                 STANDARD\n",
       "world_region                              NaN\n",
       "country                                    US\n",
       "decommissioned                              0\n",
       "estimated_population                    15003\n",
       "notes                                     NaN\n",
       "geometry                POINT (-105.06 40.55)\n",
       "Name: 80528, dtype: object"
      ]
     },
     "execution_count": 31,
     "metadata": {},
     "output_type": "execute_result"
    }
   ],
   "source": [
    "counties_df.loc[80528]"
   ]
  },
  {
   "cell_type": "code",
   "execution_count": 32,
   "metadata": {},
   "outputs": [
    {
     "data": {
      "text/plain": [
       "primary_city                        Atlanta\n",
       "state                                    GA\n",
       "latitude                               33.8\n",
       "longitude                            -84.47\n",
       "county                               Fulton\n",
       "type                               STANDARD\n",
       "world_region                            NaN\n",
       "country                                  US\n",
       "decommissioned                            0\n",
       "estimated_population                      0\n",
       "notes                                   NaN\n",
       "geometry                POINT (-84.47 33.8)\n",
       "Name: 30369, dtype: object"
      ]
     },
     "execution_count": 32,
     "metadata": {},
     "output_type": "execute_result"
    }
   ],
   "source": [
    "counties_df.loc[30369]"
   ]
  },
  {
   "cell_type": "code",
   "execution_count": 33,
   "metadata": {},
   "outputs": [
    {
     "data": {
      "text/plain": [
       "primary_city                          Olathe\n",
       "state                                     KS\n",
       "latitude                               38.88\n",
       "longitude                             -94.81\n",
       "county                               Johnson\n",
       "type                                STANDARD\n",
       "world_region                             NaN\n",
       "country                                   US\n",
       "decommissioned                             0\n",
       "estimated_population                   62025\n",
       "notes                                    NaN\n",
       "geometry                POINT (-94.81 38.88)\n",
       "Name: 66062, dtype: object"
      ]
     },
     "execution_count": 33,
     "metadata": {},
     "output_type": "execute_result"
    }
   ],
   "source": [
    "counties_df.loc[66062]"
   ]
  },
  {
   "cell_type": "code",
   "execution_count": 34,
   "metadata": {},
   "outputs": [
    {
     "data": {
      "text/plain": [
       "primary_city                    Kansas City\n",
       "state                                    KS\n",
       "latitude                               39.1\n",
       "longitude                            -94.62\n",
       "county                            Wyandotte\n",
       "type                               STANDARD\n",
       "world_region                            NaN\n",
       "country                                  US\n",
       "decommissioned                            0\n",
       "estimated_population                   7458\n",
       "notes                                   NaN\n",
       "geometry                POINT (-94.62 39.1)\n",
       "Name: 66101, dtype: object"
      ]
     },
     "execution_count": 34,
     "metadata": {},
     "output_type": "execute_result"
    }
   ],
   "source": [
    "counties_df.loc[66101]"
   ]
  },
  {
   "cell_type": "code",
   "execution_count": 35,
   "metadata": {},
   "outputs": [
    {
     "data": {
      "text/plain": [
       "primary_city                                   Lafayette\n",
       "state                                                 LA\n",
       "latitude                                           30.22\n",
       "longitude                                         -92.01\n",
       "county                                  Lafayette Parish\n",
       "type                                            STANDARD\n",
       "world_region                                         NaN\n",
       "country                                               US\n",
       "decommissioned                                         1\n",
       "estimated_population                                   0\n",
       "notes                   Converted Decommisioned Zipcodes\n",
       "geometry                POINT (-92.01000000000001 30.22)\n",
       "Name: 70500, dtype: object"
      ]
     },
     "execution_count": 35,
     "metadata": {},
     "output_type": "execute_result"
    }
   ],
   "source": [
    "counties_df.loc[70500]"
   ]
  },
  {
   "cell_type": "code",
   "execution_count": 36,
   "metadata": {},
   "outputs": [
    {
     "data": {
      "text/plain": [
       "primary_city                                 Black Creek\n",
       "state                                                 NC\n",
       "latitude                                           35.63\n",
       "longitude                                         -77.93\n",
       "county                                            Wilson\n",
       "type                                              PO BOX\n",
       "world_region                                         NaN\n",
       "country                                               US\n",
       "decommissioned                                         0\n",
       "estimated_population                                 779\n",
       "notes                                                NaN\n",
       "geometry                POINT (-77.93000000000001 35.63)\n",
       "Name: 27813, dtype: object"
      ]
     },
     "execution_count": 36,
     "metadata": {},
     "output_type": "execute_result"
    }
   ],
   "source": [
    "counties_df.loc[27813]"
   ]
  },
  {
   "cell_type": "code",
   "execution_count": 37,
   "metadata": {},
   "outputs": [
    {
     "data": {
      "text/plain": [
       "primary_city                        Brooklyn\n",
       "state                                     NY\n",
       "latitude                               40.64\n",
       "longitude                             -73.94\n",
       "county                                 Kings\n",
       "type                                STANDARD\n",
       "world_region                             NaN\n",
       "country                                   US\n",
       "decommissioned                             0\n",
       "estimated_population                   54898\n",
       "notes                                    NaN\n",
       "geometry                POINT (-73.94 40.64)\n",
       "Name: 11204, dtype: object"
      ]
     },
     "execution_count": 37,
     "metadata": {},
     "output_type": "execute_result"
    }
   ],
   "source": [
    "counties_df.loc[11204]"
   ]
  },
  {
   "cell_type": "code",
   "execution_count": 41,
   "metadata": {},
   "outputs": [
    {
     "data": {
      "text/plain": [
       "primary_city                                    New York\n",
       "state                                                 NY\n",
       "latitude                                           40.71\n",
       "longitude                                         -73.99\n",
       "county                                          New York\n",
       "type                                            STANDARD\n",
       "world_region                                         NaN\n",
       "country                                               US\n",
       "decommissioned                                         0\n",
       "estimated_population                               16553\n",
       "notes                                                NaN\n",
       "geometry                POINT (-73.98999999999999 40.71)\n",
       "Name: 10001, dtype: object"
      ]
     },
     "execution_count": 41,
     "metadata": {},
     "output_type": "execute_result"
    }
   ],
   "source": [
    "counties_df.loc[10001]"
   ]
  },
  {
   "cell_type": "code",
   "execution_count": 42,
   "metadata": {},
   "outputs": [
    {
     "data": {
      "text/plain": [
       "primary_city                    Floral Park\n",
       "state                                    NY\n",
       "latitude                              40.72\n",
       "longitude                             -73.7\n",
       "county                               Queens\n",
       "type                                 PO BOX\n",
       "world_region                            NaN\n",
       "country                                  US\n",
       "decommissioned                            0\n",
       "estimated_population                      0\n",
       "notes                                   NaN\n",
       "geometry                POINT (-73.7 40.72)\n",
       "Name: 11002, dtype: object"
      ]
     },
     "execution_count": 42,
     "metadata": {},
     "output_type": "execute_result"
    }
   ],
   "source": [
    "counties_df.loc[11002]"
   ]
  },
  {
   "cell_type": "code",
   "execution_count": 43,
   "metadata": {},
   "outputs": [
    {
     "data": {
      "text/plain": [
       "primary_city                   Staten Island\n",
       "state                                     NY\n",
       "latitude                               40.58\n",
       "longitude                             -74.14\n",
       "county                              Richmond\n",
       "type                                STANDARD\n",
       "world_region                             NaN\n",
       "country                                   US\n",
       "decommissioned                             0\n",
       "estimated_population                   26662\n",
       "notes                                    NaN\n",
       "geometry                POINT (-74.14 40.58)\n",
       "Name: 10301, dtype: object"
      ]
     },
     "execution_count": 43,
     "metadata": {},
     "output_type": "execute_result"
    }
   ],
   "source": [
    "counties_df.loc[10301]"
   ]
  },
  {
   "cell_type": "code",
   "execution_count": 45,
   "metadata": {},
   "outputs": [
    {
     "data": {
      "text/plain": [
       "primary_city                           Berea\n",
       "state                                     OH\n",
       "latitude                               41.36\n",
       "longitude                             -81.86\n",
       "county                              Cuyahoga\n",
       "type                                STANDARD\n",
       "world_region                             NaN\n",
       "country                                   US\n",
       "decommissioned                             0\n",
       "estimated_population                   14569\n",
       "notes                                    NaN\n",
       "geometry                POINT (-81.86 41.36)\n",
       "Name: 44017, dtype: object"
      ]
     },
     "execution_count": 45,
     "metadata": {},
     "output_type": "execute_result"
    }
   ],
   "source": [
    "counties_df.loc[44017]"
   ]
  },
  {
   "cell_type": "code",
   "execution_count": 46,
   "metadata": {},
   "outputs": [
    {
     "data": {
      "text/plain": [
       "primary_city                          Auburn\n",
       "state                                     WA\n",
       "latitude                                47.3\n",
       "longitude                            -122.26\n",
       "county                                  King\n",
       "type                                STANDARD\n",
       "world_region                             NaN\n",
       "country                                   US\n",
       "decommissioned                             0\n",
       "estimated_population                   26341\n",
       "notes                                    NaN\n",
       "geometry                POINT (-122.26 47.3)\n",
       "Name: 98001, dtype: object"
      ]
     },
     "execution_count": 46,
     "metadata": {},
     "output_type": "execute_result"
    }
   ],
   "source": [
    "counties_df.loc[98001]"
   ]
  },
  {
   "cell_type": "code",
   "execution_count": null,
   "metadata": {},
   "outputs": [],
   "source": []
  }
 ],
 "metadata": {
  "kernelspec": {
   "display_name": "Python 3",
   "language": "python",
   "name": "python3"
  },
  "language_info": {
   "codemirror_mode": {
    "name": "ipython",
    "version": 3
   },
   "file_extension": ".py",
   "mimetype": "text/x-python",
   "name": "python",
   "nbconvert_exporter": "python",
   "pygments_lexer": "ipython3",
   "version": "3.7.7"
  }
 },
 "nbformat": 4,
 "nbformat_minor": 4
}
