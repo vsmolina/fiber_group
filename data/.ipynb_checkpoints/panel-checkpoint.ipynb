{
 "cells": [
  {
   "cell_type": "code",
   "execution_count": 2,
   "metadata": {},
   "outputs": [],
   "source": [
    "import os\n",
    "import panel as pn\n",
    "import plotly.express as px\n",
    "import pandas as pd\n",
    "import hvplot.pandas\n",
    "import geopandas\n",
    "import matplotlib.pyplot as plt\n",
    "from pathlib import Path\n",
    "from dotenv import load_dotenv\n",
    "\n",
    "%matplotlib inline"
   ]
  },
  {
   "cell_type": "code",
   "execution_count": 3,
   "metadata": {},
   "outputs": [],
   "source": [
    "#set web app widgets\n",
    "\n",
    "js_files = {'deck': 'https://unpkg.com/deck.gl@^6.0.0/deckgl.min.js',\n",
    "            'mapboxgl': 'https://api.tiles.mapbox.com/mapbox-gl-js/v0.44.1/mapbox-gl.js'}\n",
    "css_files = ['https://api.tiles.mapbox.com/mapbox-gl-js/v0.44.1/mapbox-gl.css']\n",
    "\n",
    "pn.extension(js_files=js_files, css_files=css_files)"
   ]
  },
  {
   "cell_type": "code",
   "execution_count": 57,
   "metadata": {},
   "outputs": [
    {
     "data": {
      "text/html": [
       "<div>\n",
       "<style scoped>\n",
       "    .dataframe tbody tr th:only-of-type {\n",
       "        vertical-align: middle;\n",
       "    }\n",
       "\n",
       "    .dataframe tbody tr th {\n",
       "        vertical-align: top;\n",
       "    }\n",
       "\n",
       "    .dataframe thead th {\n",
       "        text-align: right;\n",
       "    }\n",
       "</style>\n",
       "<table border=\"1\" class=\"dataframe\">\n",
       "  <thead>\n",
       "    <tr style=\"text-align: right;\">\n",
       "      <th></th>\n",
       "      <th>County</th>\n",
       "      <th>State</th>\n",
       "      <th>latitude</th>\n",
       "      <th>longitude</th>\n",
       "    </tr>\n",
       "  </thead>\n",
       "  <tbody>\n",
       "    <tr>\n",
       "      <th>0</th>\n",
       "      <td>Los_Angeles_County</td>\n",
       "      <td>CA</td>\n",
       "      <td>33.97</td>\n",
       "      <td>118.24</td>\n",
       "    </tr>\n",
       "    <tr>\n",
       "      <th>1</th>\n",
       "      <td>San_Francisco_County</td>\n",
       "      <td>CA</td>\n",
       "      <td>37.77</td>\n",
       "      <td>-122.41</td>\n",
       "    </tr>\n",
       "    <tr>\n",
       "      <th>2</th>\n",
       "      <td>Ventura_County</td>\n",
       "      <td>CA</td>\n",
       "      <td>34.33</td>\n",
       "      <td>-119.31</td>\n",
       "    </tr>\n",
       "    <tr>\n",
       "      <th>3</th>\n",
       "      <td>Larimer_County</td>\n",
       "      <td>CO</td>\n",
       "      <td>40.55</td>\n",
       "      <td>-105.06</td>\n",
       "    </tr>\n",
       "    <tr>\n",
       "      <th>4</th>\n",
       "      <td>Fulton_County</td>\n",
       "      <td>GA</td>\n",
       "      <td>33.80</td>\n",
       "      <td>-84.47</td>\n",
       "    </tr>\n",
       "  </tbody>\n",
       "</table>\n",
       "</div>"
      ],
      "text/plain": [
       "                 County State  latitude  longitude\n",
       "0    Los_Angeles_County    CA     33.97     118.24\n",
       "1  San_Francisco_County    CA     37.77    -122.41\n",
       "2        Ventura_County    CA     34.33    -119.31\n",
       "3        Larimer_County    CO     40.55    -105.06\n",
       "4         Fulton_County    GA     33.80     -84.47"
      ]
     },
     "execution_count": 57,
     "metadata": {},
     "output_type": "execute_result"
    }
   ],
   "source": [
    "#import median income dataframe\n",
    "med_csv = Path(\"../data/cleandata/median_yearly_income.csv\")\n",
    "counties = pd.read_csv(\n",
    "    med_csv,\n",
    ")\n",
    "counties.drop(columns = [\"2020_Year_Wage\", \"2019_Year_Wage\", \"2018_Year_Wage\", \"zipcode\"], inplace=True)\n",
    "counties.head()"
   ]
  },
  {
   "cell_type": "code",
   "execution_count": 50,
   "metadata": {},
   "outputs": [],
   "source": [
    "html = \"\"\"\n",
    "<div id=\"deckgl-container\" style=\"width: 800px; height: 500px;\"></div>\n",
    "\n",
    "<script type=\"text/javascript\">\n",
    "// Data\n",
    "var CITIES = %s;\n",
    "var deckgl = new deck.DeckGL({\n",
    "  container: 'deckgl-container',\n",
    "  mapboxApiAccessToken: 'pk.eyJ1IjoicGhpbGlwcGpmciIsImEiOiJjajM2bnE4MWcwMDNxMzNvMHMzcGV3NjlnIn0.976fZ1azCrTh50lEdZTpSg',\n",
    "  longitude: CITIES[\"latitude\"].longitude,\n",
    "  latitude: CITIES[\"longitude\"].latitude,\n",
    "  zoom: 10,\n",
    "  layers: [\n",
    "    new deck.ScatterplotLayer({\n",
    "      data: CITIES,\n",
    "      getPosition: d => [d.longitude, d.latitude],\n",
    "      radiusMinPixels: 10\n",
    "    })\n",
    "  ]\n",
    "});\n",
    "</script>\n",
    "\"\"\" % counties\n",
    "deckgl = pn.pane.HTML(html, height=500, width=800)"
   ]
  },
  {
   "cell_type": "code",
   "execution_count": 53,
   "metadata": {},
   "outputs": [
    {
     "data": {
      "application/vnd.holoviews_exec.v0+json": "",
      "text/html": [
       "<div id='1055'>\n",
       "\n",
       "\n",
       "\n",
       "\n",
       "\n",
       "  <div class=\"bk-root\" id=\"fb903cf1-a9a9-4628-a4b3-5bd4503163c2\" data-root-id=\"1055\"></div>\n",
       "</div>\n",
       "<script type=\"application/javascript\">(function(root) {\n",
       "  function embed_document(root) {\n",
       "  var docs_json = {\"171ca5dd-e304-448f-ae58-cb11bfbaab5f\":{\"roots\":{\"references\":[{\"attributes\":{\"active\":0,\"js_property_callbacks\":{\"change:active\":[{\"id\":\"1058\"}]},\"labels\":[\"Los_Angeles_County\",\"San_Francisco_County\",\"Ventura_County\",\"Larimer_County\",\"Fulton_County\",\"Bonneville_County\",\"Johnson_County\",\"Wyandotte_County\",\"Lafayette_Parish\",\"Wilson_County\",\"Bronx_County\",\"Kings_County\",\"New_York_County\",\"Queens_County\",\"Richmond_County\",\"Cuyahoga_County\",\"King_County\",\"Harris_County\"],\"margin\":[5,10,5,10]},\"id\":\"1056\",\"type\":\"RadioButtonGroup\"},{\"attributes\":{\"height\":500,\"margin\":[5,5,5,5],\"name\":\"HTML01496\",\"sizing_mode\":\"fixed\",\"text\":\"\\n&lt;div id=&quot;deckgl-container&quot; style=&quot;width: 800px; height: 500px;&quot;&gt;&lt;/div&gt;\\n\\n&lt;script type=&quot;text/javascript&quot;&gt;\\n// Data\\nvar CITIES =     zipcode                County State  2020_Year_Wage  2019_Year_Wage  \\\\\\n0     90001    Los_Angeles_County    CA           68068           61932   \\n1     94101  San_Francisco_County    CA          149604          119880   \\n2     93001        Ventura_County    CA           60788           53400   \\n3     80528        Larimer_County    CO           55588           49776   \\n4     30369         Fulton_County    GA           96252           72660   \\n5     93404     Bonneville_County    ID           40248           36684   \\n6     66062        Johnson_County    KS           64064           54108   \\n7     66101      Wyandotte_County    KS           56368           51228   \\n8     70500      Lafayette_Parish    LA           48204           44712   \\n9     27813         Wilson_County    NC           49296           42636   \\n10    10462          Bronx_County    NY           51844           53892   \\n11    11204          Kings_County    NY           45864           46680   \\n12    10001       New_York_County    NY          179140          117816   \\n13    11002         Queens_County    NY           52884           53016   \\n14    10301       Richmond_County    NY           47996           49860   \\n15    44017       Cuyahoga_County    OH           63648           54396   \\n16    98001           King_County    WA          102960           86112   \\n17    77001         Harris_County    TX           83408           67128   \\n\\n    2018_Year_Wage  latitude  longitude  \\n0            59892     33.97     118.24  \\n1           109332     37.77    -122.41  \\n2            50976     34.33    -119.31  \\n3            47832     40.55    -105.06  \\n4            45276     33.80     -84.47  \\n5            34896     43.42    -112.00  \\n6            34152     38.88     -94.81  \\n7            31956     39.10     -94.62  \\n8            36084     30.22     -92.01  \\n9            35820     35.63     -77.93  \\n10           40356     40.84     -73.87  \\n11           39912     40.64     -73.94  \\n12           79860     40.71     -73.99  \\n13           49968     40.72     -73.70  \\n14           47100     40.58     -74.14  \\n15           40692     41.36     -81.86  \\n16           48492     47.30    -122.26  \\n17           47592     29.76     -95.38  ;\\nvar deckgl = new deck.DeckGL({\\n  container: &#x27;deckgl-container&#x27;,\\n  mapboxApiAccessToken: &#x27;pk.eyJ1IjoicGhpbGlwcGpmciIsImEiOiJjajM2bnE4MWcwMDNxMzNvMHMzcGV3NjlnIn0.976fZ1azCrTh50lEdZTpSg&#x27;,\\n  longitude: CITIES[&quot;latitude&quot;].longitude,\\n  latitude: CITIES[&quot;longitude&quot;].latitude,\\n  zoom: 10,\\n  layers: [\\n    new deck.ScatterplotLayer({\\n      data: CITIES,\\n      getPosition: d =&gt; [d.longitude, d.latitude],\\n      radiusMinPixels: 10\\n    })\\n  ]\\n});\\n&lt;/script&gt;\\n\",\"width\":800},\"id\":\"1057\",\"type\":\"panel.models.markup.HTML\"},{\"attributes\":{\"children\":[{\"id\":\"1056\"},{\"id\":\"1057\"}],\"margin\":[0,0,0,0],\"name\":\"Column01510\"},\"id\":\"1055\",\"type\":\"Column\"},{\"attributes\":{\"client_comm_id\":\"7945cbf6ebd149338a203f9e43a49b25\",\"comm_id\":\"a6496ff163e0493fb830f34c8d69e18c\",\"plot_id\":\"1055\"},\"id\":\"1059\",\"type\":\"panel.models.comm_manager.CommManager\"},{\"attributes\":{\"args\":{\"bidirectional\":false,\"properties\":{},\"source\":{\"id\":\"1056\"},\"target\":{\"id\":\"1057\"}},\"code\":\"try { \\nvar d = COUNTIES[source.active];\\ndeckgl.setProps({\\n  viewState: {\\n    longitude: d.longitude,\\n    latitude: d.latitude,\\n    zoom: 10,\\n    transitionInterpolator: new deck.FlyToInterpolator(),\\n    transitionDuration: 5000\\n  }\\n});\\n } catch(err) { console.log(err) }\",\"tags\":[1670776854472]},\"id\":\"1058\",\"type\":\"CustomJS\"}],\"root_ids\":[\"1055\",\"1059\"]},\"title\":\"Bokeh Application\",\"version\":\"2.1.1\"}};\n",
       "  var render_items = [{\"docid\":\"171ca5dd-e304-448f-ae58-cb11bfbaab5f\",\"root_ids\":[\"1055\"],\"roots\":{\"1055\":\"fb903cf1-a9a9-4628-a4b3-5bd4503163c2\"}}];\n",
       "  root.Bokeh.embed.embed_items_notebook(docs_json, render_items);\n",
       "  }\n",
       "if (root.Bokeh !== undefined) {\n",
       "    embed_document(root);\n",
       "  } else {\n",
       "    var attempts = 0;\n",
       "    var timer = setInterval(function(root) {\n",
       "      if (root.Bokeh !== undefined) {\n",
       "        clearInterval(timer);\n",
       "        embed_document(root);\n",
       "      } else if (document.readyState == \"complete\") {\n",
       "        attempts++;\n",
       "        if (attempts > 100) {\n",
       "          clearInterval(timer);\n",
       "          console.log(\"Bokeh: ERROR: Unable to run BokehJS code because BokehJS library is missing\");\n",
       "        }\n",
       "      }\n",
       "    }, 10, root)\n",
       "  }\n",
       "})(window);</script>"
      ],
      "text/plain": [
       "Column\n",
       "    [0] RadioButtonGroup(options=['Los_Angeles_County', ...], value='Los_Angeles_County')\n",
       "    [1] HTML(str, height=500, sizing_mode='fixed', width=800)"
      ]
     },
     "execution_count": 53,
     "metadata": {
      "application/vnd.holoviews_exec.v0+json": {
       "id": "1055"
      }
     },
     "output_type": "execute_result"
    }
   ],
   "source": [
    "widget = pn.widgets.RadioButtonGroup(options=[c for c in counties[\"County\"]])\n",
    "\n",
    "update_city = \"\"\"\n",
    "var d = COUNTIES[source.active];\n",
    "deckgl.setProps({\n",
    "  viewState: {\n",
    "    longitude: d.longitude,\n",
    "    latitude: d.latitude,\n",
    "    zoom: 10,\n",
    "    transitionInterpolator: new deck.FlyToInterpolator(),\n",
    "    transitionDuration: 5000\n",
    "  }\n",
    "});\n",
    "\"\"\"\n",
    "\n",
    "widget.jslink(deckgl, code={'active': update_city});\n",
    "\n",
    "pn.Column(widget, deckgl)"
   ]
  },
  {
   "cell_type": "code",
   "execution_count": 31,
   "metadata": {},
   "outputs": [
    {
     "name": "stdout",
     "output_type": "stream",
     "text": [
      "90001\n",
      "San_Francisco_County\n",
      "CA\n",
      "55588\n",
      "72660\n",
      "34896\n",
      "38.88\n",
      "-94.62\n"
     ]
    }
   ],
   "source": [
    "i = 0\n",
    "for attr in counties.to_dict():\n",
    "    print(counties.to_dict()[attr][i])\n",
    "    i += 1\n",
    "    \n"
   ]
  },
  {
   "cell_type": "code",
   "execution_count": 32,
   "metadata": {},
   "outputs": [
    {
     "ename": "NameError",
     "evalue": "name 'source' is not defined",
     "output_type": "error",
     "traceback": [
      "\u001b[1;31m---------------------------------------------------------------------------\u001b[0m",
      "\u001b[1;31mNameError\u001b[0m                                 Traceback (most recent call last)",
      "\u001b[1;32m<ipython-input-32-e5d4d2e79e2f>\u001b[0m in \u001b[0;36m<module>\u001b[1;34m\u001b[0m\n\u001b[1;32m----> 1\u001b[1;33m \u001b[0mprint\u001b[0m\u001b[1;33m(\u001b[0m\u001b[0msource\u001b[0m\u001b[1;33m.\u001b[0m\u001b[0mactive\u001b[0m\u001b[1;33m)\u001b[0m\u001b[1;33m\u001b[0m\u001b[1;33m\u001b[0m\u001b[0m\n\u001b[0m",
      "\u001b[1;31mNameError\u001b[0m: name 'source' is not defined"
     ]
    }
   ],
   "source": [
    "print(source.active)"
   ]
  },
  {
   "cell_type": "code",
   "execution_count": 37,
   "metadata": {},
   "outputs": [
    {
     "name": "stdout",
     "output_type": "stream",
     "text": [
      "HTML(str, height=500, sizing_mode='fixed', width=800)\n"
     ]
    }
   ],
   "source": [
    "print(deckgl)"
   ]
  },
  {
   "cell_type": "code",
   "execution_count": 45,
   "metadata": {},
   "outputs": [
    {
     "name": "stdout",
     "output_type": "stream",
     "text": [
      "i\n",
      "o\n",
      "t\n",
      "0\n",
      "0\n",
      "0\n",
      "a\n",
      "o\n"
     ]
    }
   ],
   "source": [
    "for c in counties:\n",
    "    print(c[1])"
   ]
  },
  {
   "cell_type": "code",
   "execution_count": null,
   "metadata": {},
   "outputs": [],
   "source": []
  }
 ],
 "metadata": {
  "kernelspec": {
   "display_name": "Python 3",
   "language": "python",
   "name": "python3"
  },
  "language_info": {
   "codemirror_mode": {
    "name": "ipython",
    "version": 3
   },
   "file_extension": ".py",
   "mimetype": "text/x-python",
   "name": "python",
   "nbconvert_exporter": "python",
   "pygments_lexer": "ipython3",
   "version": "3.7.7"
  }
 },
 "nbformat": 4,
 "nbformat_minor": 4
}
