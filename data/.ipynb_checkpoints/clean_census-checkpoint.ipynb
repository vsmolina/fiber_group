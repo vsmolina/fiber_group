{
 "cells": [
  {
   "cell_type": "code",
   "execution_count": 63,
   "metadata": {},
   "outputs": [],
   "source": [
    "import os\n",
    "import pandas as pd\n",
    "import matplotlib.pyplot as plt\n",
    "from pathlib import Path\n",
    "import numpy as np\n",
    "\n",
    "%matplotlib inline"
   ]
  },
  {
   "cell_type": "code",
   "execution_count": 64,
   "metadata": {},
   "outputs": [
    {
     "data": {
      "text/html": [
       "<div>\n",
       "<style scoped>\n",
       "    .dataframe tbody tr th:only-of-type {\n",
       "        vertical-align: middle;\n",
       "    }\n",
       "\n",
       "    .dataframe tbody tr th {\n",
       "        vertical-align: top;\n",
       "    }\n",
       "\n",
       "    .dataframe thead th {\n",
       "        text-align: right;\n",
       "    }\n",
       "</style>\n",
       "<table border=\"1\" class=\"dataframe\">\n",
       "  <thead>\n",
       "    <tr style=\"text-align: right;\">\n",
       "      <th></th>\n",
       "      <th>Avg_Wkly_Wage_Q1</th>\n",
       "      <th>Avg_Wkly_Wage_Q2</th>\n",
       "      <th>Avg_Wkly_Wage_Q3</th>\n",
       "      <th>Avg_Wkly_Wage_Q4</th>\n",
       "      <th>Total_Year_Wage</th>\n",
       "      <th>Geo_Loc</th>\n",
       "    </tr>\n",
       "    <tr>\n",
       "      <th>Geography</th>\n",
       "      <th></th>\n",
       "      <th></th>\n",
       "      <th></th>\n",
       "      <th></th>\n",
       "      <th></th>\n",
       "      <th></th>\n",
       "    </tr>\n",
       "  </thead>\n",
       "  <tbody>\n",
       "    <tr>\n",
       "      <th>Alabama</th>\n",
       "      <td>921</td>\n",
       "      <td>881</td>\n",
       "      <td>885</td>\n",
       "      <td>960</td>\n",
       "      <td>43764</td>\n",
       "      <td>NaN</td>\n",
       "    </tr>\n",
       "    <tr>\n",
       "      <th>Autauga County, Alabama</th>\n",
       "      <td>763</td>\n",
       "      <td>709</td>\n",
       "      <td>726</td>\n",
       "      <td>756</td>\n",
       "      <td>35448</td>\n",
       "      <td>NaN</td>\n",
       "    </tr>\n",
       "    <tr>\n",
       "      <th>Baldwin County, Alabama</th>\n",
       "      <td>684</td>\n",
       "      <td>690</td>\n",
       "      <td>696</td>\n",
       "      <td>760</td>\n",
       "      <td>33960</td>\n",
       "      <td>NaN</td>\n",
       "    </tr>\n",
       "    <tr>\n",
       "      <th>Barbour County, Alabama</th>\n",
       "      <td>718</td>\n",
       "      <td>729</td>\n",
       "      <td>714</td>\n",
       "      <td>777</td>\n",
       "      <td>35256</td>\n",
       "      <td>NaN</td>\n",
       "    </tr>\n",
       "    <tr>\n",
       "      <th>Bibb County, Alabama</th>\n",
       "      <td>747</td>\n",
       "      <td>742</td>\n",
       "      <td>751</td>\n",
       "      <td>842</td>\n",
       "      <td>36984</td>\n",
       "      <td>NaN</td>\n",
       "    </tr>\n",
       "  </tbody>\n",
       "</table>\n",
       "</div>"
      ],
      "text/plain": [
       "                        Avg_Wkly_Wage_Q1 Avg_Wkly_Wage_Q2 Avg_Wkly_Wage_Q3  \\\n",
       "Geography                                                                    \n",
       "Alabama                              921              881              885   \n",
       "Autauga County, Alabama              763              709              726   \n",
       "Baldwin County, Alabama              684              690              696   \n",
       "Barbour County, Alabama              718              729              714   \n",
       "Bibb County, Alabama                 747              742              751   \n",
       "\n",
       "                        Avg_Wkly_Wage_Q4  Total_Year_Wage  Geo_Loc  \n",
       "Geography                                                           \n",
       "Alabama                              960            43764      NaN  \n",
       "Autauga County, Alabama              756            35448      NaN  \n",
       "Baldwin County, Alabama              760            33960      NaN  \n",
       "Barbour County, Alabama              777            35256      NaN  \n",
       "Bibb County, Alabama                 842            36984      NaN  "
      ]
     },
     "execution_count": 64,
     "metadata": {},
     "output_type": "execute_result"
    }
   ],
   "source": [
    "census_2018 = Path(\"../data/census_2018_clean.csv\")\n",
    "census_2018_df = pd.read_csv(\n",
    "    census_2018,\n",
    "    index_col = \"Geography\"\n",
    ")\n",
    "census_2018_df.head()"
   ]
  },
  {
   "cell_type": "code",
   "execution_count": 65,
   "metadata": {},
   "outputs": [
    {
     "data": {
      "text/html": [
       "<div>\n",
       "<style scoped>\n",
       "    .dataframe tbody tr th:only-of-type {\n",
       "        vertical-align: middle;\n",
       "    }\n",
       "\n",
       "    .dataframe tbody tr th {\n",
       "        vertical-align: top;\n",
       "    }\n",
       "\n",
       "    .dataframe thead th {\n",
       "        text-align: right;\n",
       "    }\n",
       "</style>\n",
       "<table border=\"1\" class=\"dataframe\">\n",
       "  <thead>\n",
       "    <tr style=\"text-align: right;\">\n",
       "      <th></th>\n",
       "      <th>Avg_Wkly_Wage_Q1</th>\n",
       "      <th>Avg_Wkly_Wage_Q2</th>\n",
       "      <th>Avg_Wkly_Wage_Q3</th>\n",
       "      <th>Avg_Wkly_Wage_Q4</th>\n",
       "      <th>Total_Year_Wage</th>\n",
       "      <th>Geo_Loc</th>\n",
       "    </tr>\n",
       "    <tr>\n",
       "      <th>Geography</th>\n",
       "      <th></th>\n",
       "      <th></th>\n",
       "      <th></th>\n",
       "      <th></th>\n",
       "      <th></th>\n",
       "      <th></th>\n",
       "    </tr>\n",
       "  </thead>\n",
       "  <tbody>\n",
       "    <tr>\n",
       "      <th>Alabama</th>\n",
       "      <td>944</td>\n",
       "      <td>910</td>\n",
       "      <td>919</td>\n",
       "      <td>984</td>\n",
       "      <td>45084</td>\n",
       "      <td>NaN</td>\n",
       "    </tr>\n",
       "    <tr>\n",
       "      <th>Autauga County, Alabama</th>\n",
       "      <td>802</td>\n",
       "      <td>740</td>\n",
       "      <td>765</td>\n",
       "      <td>797</td>\n",
       "      <td>37248</td>\n",
       "      <td>NaN</td>\n",
       "    </tr>\n",
       "    <tr>\n",
       "      <th>Baldwin County, Alabama</th>\n",
       "      <td>715</td>\n",
       "      <td>719</td>\n",
       "      <td>728</td>\n",
       "      <td>783</td>\n",
       "      <td>35340</td>\n",
       "      <td>NaN</td>\n",
       "    </tr>\n",
       "    <tr>\n",
       "      <th>Barbour County, Alabama</th>\n",
       "      <td>727</td>\n",
       "      <td>700</td>\n",
       "      <td>703</td>\n",
       "      <td>745</td>\n",
       "      <td>34500</td>\n",
       "      <td>NaN</td>\n",
       "    </tr>\n",
       "    <tr>\n",
       "      <th>Bibb County, Alabama</th>\n",
       "      <td>777</td>\n",
       "      <td>808</td>\n",
       "      <td>814</td>\n",
       "      <td>903</td>\n",
       "      <td>39624</td>\n",
       "      <td>NaN</td>\n",
       "    </tr>\n",
       "  </tbody>\n",
       "</table>\n",
       "</div>"
      ],
      "text/plain": [
       "                        Avg_Wkly_Wage_Q1 Avg_Wkly_Wage_Q2 Avg_Wkly_Wage_Q3  \\\n",
       "Geography                                                                    \n",
       "Alabama                              944              910              919   \n",
       "Autauga County, Alabama              802              740              765   \n",
       "Baldwin County, Alabama              715              719              728   \n",
       "Barbour County, Alabama              727              700              703   \n",
       "Bibb County, Alabama                 777              808              814   \n",
       "\n",
       "                        Avg_Wkly_Wage_Q4  Total_Year_Wage  Geo_Loc  \n",
       "Geography                                                           \n",
       "Alabama                              984            45084      NaN  \n",
       "Autauga County, Alabama              797            37248      NaN  \n",
       "Baldwin County, Alabama              783            35340      NaN  \n",
       "Barbour County, Alabama              745            34500      NaN  \n",
       "Bibb County, Alabama                 903            39624      NaN  "
      ]
     },
     "execution_count": 65,
     "metadata": {},
     "output_type": "execute_result"
    }
   ],
   "source": [
    "census_2019 = Path(\"../data/census_2019_clean.csv\")\n",
    "census_2019_df = pd.read_csv(\n",
    "    census_2019,\n",
    "    index_col = \"Geography\"\n",
    ")\n",
    "census_2019_df.head()"
   ]
  },
  {
   "cell_type": "code",
   "execution_count": 66,
   "metadata": {},
   "outputs": [
    {
     "data": {
      "text/html": [
       "<div>\n",
       "<style scoped>\n",
       "    .dataframe tbody tr th:only-of-type {\n",
       "        vertical-align: middle;\n",
       "    }\n",
       "\n",
       "    .dataframe tbody tr th {\n",
       "        vertical-align: top;\n",
       "    }\n",
       "\n",
       "    .dataframe thead th {\n",
       "        text-align: right;\n",
       "    }\n",
       "</style>\n",
       "<table border=\"1\" class=\"dataframe\">\n",
       "  <thead>\n",
       "    <tr style=\"text-align: right;\">\n",
       "      <th></th>\n",
       "      <th>Average_Weekly_Wage</th>\n",
       "    </tr>\n",
       "    <tr>\n",
       "      <th>Geography</th>\n",
       "      <th></th>\n",
       "    </tr>\n",
       "  </thead>\n",
       "  <tbody>\n",
       "    <tr>\n",
       "      <th>Alabama</th>\n",
       "      <td>966</td>\n",
       "    </tr>\n",
       "    <tr>\n",
       "      <th>Autauga County, Alabama</th>\n",
       "      <td>837</td>\n",
       "    </tr>\n",
       "    <tr>\n",
       "      <th>Baldwin County, Alabama</th>\n",
       "      <td>723</td>\n",
       "    </tr>\n",
       "    <tr>\n",
       "      <th>Barbour County, Alabama</th>\n",
       "      <td>737</td>\n",
       "    </tr>\n",
       "    <tr>\n",
       "      <th>Bibb County, Alabama</th>\n",
       "      <td>916</td>\n",
       "    </tr>\n",
       "  </tbody>\n",
       "</table>\n",
       "</div>"
      ],
      "text/plain": [
       "                        Average_Weekly_Wage\n",
       "Geography                                  \n",
       "Alabama                                 966\n",
       "Autauga County, Alabama                 837\n",
       "Baldwin County, Alabama                 723\n",
       "Barbour County, Alabama                 737\n",
       "Bibb County, Alabama                    916"
      ]
     },
     "execution_count": 66,
     "metadata": {},
     "output_type": "execute_result"
    }
   ],
   "source": [
    "census_2020 = Path(\"../data/census_2020_clean.csv\")\n",
    "census_2020_df = pd.read_csv(\n",
    "    census_2020,\n",
    "    index_col = \"Geography\"\n",
    ")\n",
    "census_2020_df.drop(columns = [\"Geo_loc\"], inplace=True)\n",
    "census_2020_df.head()"
   ]
  },
  {
   "cell_type": "code",
   "execution_count": 67,
   "metadata": {},
   "outputs": [],
   "source": [
    "census_2020_df['Average_Weekly_Wage'] = census_2020_df['Average_Weekly_Wage'].str.replace(\",\", \"\")\n",
    "census_2020_df['Average_Weekly_Wage'] = census_2020_df['Average_Weekly_Wage'].astype('float64')\n",
    "\n",
    "census_2019_df['Total_Year_Wage'] = census_2019_df['Total_Year_Wage'].astype('float64')\n",
    "\n",
    "census_2018_df['Total_Year_Wage'] = census_2018_df['Total_Year_Wage'].astype('float64')"
   ]
  },
  {
   "cell_type": "code",
   "execution_count": 68,
   "metadata": {},
   "outputs": [
    {
     "data": {
      "text/plain": [
       "Average_Weekly_Wage    float64\n",
       "dtype: object"
      ]
     },
     "execution_count": 68,
     "metadata": {},
     "output_type": "execute_result"
    }
   ],
   "source": [
    "census_2020_df.dtypes"
   ]
  },
  {
   "cell_type": "code",
   "execution_count": 69,
   "metadata": {},
   "outputs": [],
   "source": [
    "columns = [\"2020_Year_Wage\"]\n",
    "census_2020_df = census_2020_df.mul(52)"
   ]
  },
  {
   "cell_type": "code",
   "execution_count": 70,
   "metadata": {},
   "outputs": [],
   "source": [
    "census_2020_df.columns = columns"
   ]
  },
  {
   "cell_type": "code",
   "execution_count": 71,
   "metadata": {},
   "outputs": [],
   "source": [
    "census_2019_df.drop(columns = [\"Avg_Wkly_Wage_Q1\", \"Avg_Wkly_Wage_Q2\", \"Avg_Wkly_Wage_Q3\", \"Avg_Wkly_Wage_Q4\",\"Geo_Loc\"], inplace=True)\n",
    "census_2018_df.drop(columns = [\"Avg_Wkly_Wage_Q1\", \"Avg_Wkly_Wage_Q2\", \"Avg_Wkly_Wage_Q3\", \"Avg_Wkly_Wage_Q4\",\"Geo_Loc\"], inplace=True)"
   ]
  },
  {
   "cell_type": "code",
   "execution_count": 72,
   "metadata": {},
   "outputs": [],
   "source": [
    "census_2018_df.columns = [\"2018_Year_Wage\"]\n",
    "census_2019_df.columns = [\"2019_Year_Wage\"]"
   ]
  },
  {
   "cell_type": "code",
   "execution_count": 73,
   "metadata": {},
   "outputs": [
    {
     "data": {
      "text/html": [
       "<div>\n",
       "<style scoped>\n",
       "    .dataframe tbody tr th:only-of-type {\n",
       "        vertical-align: middle;\n",
       "    }\n",
       "\n",
       "    .dataframe tbody tr th {\n",
       "        vertical-align: top;\n",
       "    }\n",
       "\n",
       "    .dataframe thead th {\n",
       "        text-align: right;\n",
       "    }\n",
       "</style>\n",
       "<table border=\"1\" class=\"dataframe\">\n",
       "  <thead>\n",
       "    <tr style=\"text-align: right;\">\n",
       "      <th></th>\n",
       "      <th>2019_Year_Wage</th>\n",
       "      <th>2018_Year_Wage</th>\n",
       "    </tr>\n",
       "    <tr>\n",
       "      <th>Geography</th>\n",
       "      <th></th>\n",
       "      <th></th>\n",
       "    </tr>\n",
       "  </thead>\n",
       "  <tbody>\n",
       "    <tr>\n",
       "      <th>Abbeville County, South Carolina</th>\n",
       "      <td>36660.0</td>\n",
       "      <td>39108.0</td>\n",
       "    </tr>\n",
       "    <tr>\n",
       "      <th>Acadia Parish, Louisiana</th>\n",
       "      <td>33360.0</td>\n",
       "      <td>41316.0</td>\n",
       "    </tr>\n",
       "    <tr>\n",
       "      <th>Accomack County, Virginia</th>\n",
       "      <td>36720.0</td>\n",
       "      <td>48912.0</td>\n",
       "    </tr>\n",
       "    <tr>\n",
       "      <th>Ada County, Idaho</th>\n",
       "      <td>47952.0</td>\n",
       "      <td>41184.0</td>\n",
       "    </tr>\n",
       "    <tr>\n",
       "      <th>Adair County, Iowa</th>\n",
       "      <td>35436.0</td>\n",
       "      <td>40716.0</td>\n",
       "    </tr>\n",
       "  </tbody>\n",
       "</table>\n",
       "</div>"
      ],
      "text/plain": [
       "                                  2019_Year_Wage  2018_Year_Wage\n",
       "Geography                                                       \n",
       "Abbeville County, South Carolina         36660.0         39108.0\n",
       "Acadia Parish, Louisiana                 33360.0         41316.0\n",
       "Accomack County, Virginia                36720.0         48912.0\n",
       "Ada County, Idaho                        47952.0         41184.0\n",
       "Adair County, Iowa                       35436.0         40716.0"
      ]
     },
     "execution_count": 73,
     "metadata": {},
     "output_type": "execute_result"
    }
   ],
   "source": [
    "census_1819_df = pd.merge(census_2019_df, census_2018_df, left_index = True, right_index = True)\n",
    "census_1819_df.head()"
   ]
  },
  {
   "cell_type": "code",
   "execution_count": 74,
   "metadata": {},
   "outputs": [
    {
     "data": {
      "text/html": [
       "<div>\n",
       "<style scoped>\n",
       "    .dataframe tbody tr th:only-of-type {\n",
       "        vertical-align: middle;\n",
       "    }\n",
       "\n",
       "    .dataframe tbody tr th {\n",
       "        vertical-align: top;\n",
       "    }\n",
       "\n",
       "    .dataframe thead th {\n",
       "        text-align: right;\n",
       "    }\n",
       "</style>\n",
       "<table border=\"1\" class=\"dataframe\">\n",
       "  <thead>\n",
       "    <tr style=\"text-align: right;\">\n",
       "      <th></th>\n",
       "      <th>2020_Year_Wage</th>\n",
       "      <th>2019_Year_Wage</th>\n",
       "      <th>2018_Year_Wage</th>\n",
       "    </tr>\n",
       "    <tr>\n",
       "      <th>Geography</th>\n",
       "      <th></th>\n",
       "      <th></th>\n",
       "      <th></th>\n",
       "    </tr>\n",
       "  </thead>\n",
       "  <tbody>\n",
       "    <tr>\n",
       "      <th>Abbeville County, South Carolina</th>\n",
       "      <td>38116.0</td>\n",
       "      <td>36660.0</td>\n",
       "      <td>39108.0</td>\n",
       "    </tr>\n",
       "    <tr>\n",
       "      <th>Acadia Parish, Louisiana</th>\n",
       "      <td>35672.0</td>\n",
       "      <td>33360.0</td>\n",
       "      <td>41316.0</td>\n",
       "    </tr>\n",
       "    <tr>\n",
       "      <th>Accomack County, Virginia</th>\n",
       "      <td>39728.0</td>\n",
       "      <td>36720.0</td>\n",
       "      <td>48912.0</td>\n",
       "    </tr>\n",
       "    <tr>\n",
       "      <th>Ada County, Idaho</th>\n",
       "      <td>53040.0</td>\n",
       "      <td>47952.0</td>\n",
       "      <td>41184.0</td>\n",
       "    </tr>\n",
       "    <tr>\n",
       "      <th>Adair County, Iowa</th>\n",
       "      <td>38220.0</td>\n",
       "      <td>35436.0</td>\n",
       "      <td>40716.0</td>\n",
       "    </tr>\n",
       "  </tbody>\n",
       "</table>\n",
       "</div>"
      ],
      "text/plain": [
       "                                  2020_Year_Wage  2019_Year_Wage  \\\n",
       "Geography                                                          \n",
       "Abbeville County, South Carolina         38116.0         36660.0   \n",
       "Acadia Parish, Louisiana                 35672.0         33360.0   \n",
       "Accomack County, Virginia                39728.0         36720.0   \n",
       "Ada County, Idaho                        53040.0         47952.0   \n",
       "Adair County, Iowa                       38220.0         35436.0   \n",
       "\n",
       "                                  2018_Year_Wage  \n",
       "Geography                                         \n",
       "Abbeville County, South Carolina         39108.0  \n",
       "Acadia Parish, Louisiana                 41316.0  \n",
       "Accomack County, Virginia                48912.0  \n",
       "Ada County, Idaho                        41184.0  \n",
       "Adair County, Iowa                       40716.0  "
      ]
     },
     "execution_count": 74,
     "metadata": {},
     "output_type": "execute_result"
    }
   ],
   "source": [
    "con_census_df = pd.merge(census_2020_df, census_1819_df, left_index = True, right_index = True)\n",
    "con_census_df.head()"
   ]
  },
  {
   "cell_type": "code",
   "execution_count": 75,
   "metadata": {},
   "outputs": [],
   "source": [
    "con_census_df.to_csv(\"../data/cleandata/3y_yearly_income.csv\")"
   ]
  },
  {
   "cell_type": "code",
   "execution_count": 77,
   "metadata": {},
   "outputs": [
    {
     "ename": "TypeError",
     "evalue": "unhashable type: 'list'",
     "output_type": "error",
     "traceback": [
      "\u001b[1;31m---------------------------------------------------------------------------\u001b[0m",
      "\u001b[1;31mTypeError\u001b[0m                                 Traceback (most recent call last)",
      "\u001b[1;32m<ipython-input-77-d11c6f1ec538>\u001b[0m in \u001b[0;36m<module>\u001b[1;34m\u001b[0m\n\u001b[1;32m----> 1\u001b[1;33m \u001b[0mfinal_census_df\u001b[0m \u001b[1;33m=\u001b[0m \u001b[0mcon_census_df\u001b[0m\u001b[1;33m.\u001b[0m\u001b[0mloc\u001b[0m\u001b[1;33m(\u001b[0m\u001b[1;33m[\u001b[0m\u001b[1;34m\"Los Angeles County, California\"\u001b[0m\u001b[1;33m,\u001b[0m \u001b[1;34m\"San Francisco County, California\"\u001b[0m\u001b[1;33m,\u001b[0m \u001b[1;34m\"Ventura County, California\"\u001b[0m\u001b[1;33m,\u001b[0m \u001b[1;34m\"Larimer County, Colorado\"\u001b[0m\u001b[1;33m,\u001b[0m \u001b[1;34m\"Fulton County, Georgia\"\u001b[0m\u001b[1;33m,\u001b[0m \u001b[1;34m\"Bonneville County, Idaho\"\u001b[0m\u001b[1;33m,\u001b[0m \u001b[1;34m\"Johnson County, Kansas\"\u001b[0m\u001b[1;33m,\u001b[0m \u001b[1;34m\"Wyandotte County, Kansas\"\u001b[0m\u001b[1;33m,\u001b[0m \u001b[1;34m\"Lafayette Parish, Louisiana\"\u001b[0m\u001b[1;33m,\u001b[0m \u001b[1;34m\"Wilson County, North Carolina\"\u001b[0m\u001b[1;33m,\u001b[0m \u001b[1;34m\"Bronx County, New York\"\u001b[0m\u001b[1;33m,\u001b[0m \u001b[1;34m\"Kings County, New York\"\u001b[0m\u001b[1;33m,\u001b[0m \u001b[1;34m\"New York County, New York\"\u001b[0m\u001b[1;33m,\u001b[0m \u001b[1;34m\"Queens County, New York\"\u001b[0m\u001b[1;33m,\u001b[0m \u001b[1;34m\"Richmond County, New York\"\u001b[0m\u001b[1;33m,\u001b[0m \u001b[1;34m\"Cuyahoga County, Ohio\"\u001b[0m\u001b[1;33m,\u001b[0m \u001b[1;34m\"King County, Washington\"\u001b[0m\u001b[1;33m]\u001b[0m\u001b[1;33m)\u001b[0m\u001b[1;33m\u001b[0m\u001b[1;33m\u001b[0m\u001b[0m\n\u001b[0m\u001b[0;32m      2\u001b[0m \u001b[0mfinal_census_df\u001b[0m\u001b[1;33m\u001b[0m\u001b[1;33m\u001b[0m\u001b[0m\n",
      "\u001b[1;32m~\\.conda\\envs\\pyvizenv\\lib\\site-packages\\pandas\\core\\indexing.py\u001b[0m in \u001b[0;36m__call__\u001b[1;34m(self, axis)\u001b[0m\n\u001b[0;32m    100\u001b[0m \u001b[1;33m\u001b[0m\u001b[0m\n\u001b[0;32m    101\u001b[0m         \u001b[1;32mif\u001b[0m \u001b[0maxis\u001b[0m \u001b[1;32mis\u001b[0m \u001b[1;32mnot\u001b[0m \u001b[1;32mNone\u001b[0m\u001b[1;33m:\u001b[0m\u001b[1;33m\u001b[0m\u001b[1;33m\u001b[0m\u001b[0m\n\u001b[1;32m--> 102\u001b[1;33m             \u001b[0maxis\u001b[0m \u001b[1;33m=\u001b[0m \u001b[0mself\u001b[0m\u001b[1;33m.\u001b[0m\u001b[0mobj\u001b[0m\u001b[1;33m.\u001b[0m\u001b[0m_get_axis_number\u001b[0m\u001b[1;33m(\u001b[0m\u001b[0maxis\u001b[0m\u001b[1;33m)\u001b[0m\u001b[1;33m\u001b[0m\u001b[1;33m\u001b[0m\u001b[0m\n\u001b[0m\u001b[0;32m    103\u001b[0m         \u001b[0mnew_self\u001b[0m\u001b[1;33m.\u001b[0m\u001b[0maxis\u001b[0m \u001b[1;33m=\u001b[0m \u001b[0maxis\u001b[0m\u001b[1;33m\u001b[0m\u001b[1;33m\u001b[0m\u001b[0m\n\u001b[0;32m    104\u001b[0m         \u001b[1;32mreturn\u001b[0m \u001b[0mnew_self\u001b[0m\u001b[1;33m\u001b[0m\u001b[1;33m\u001b[0m\u001b[0m\n",
      "\u001b[1;32m~\\.conda\\envs\\pyvizenv\\lib\\site-packages\\pandas\\core\\generic.py\u001b[0m in \u001b[0;36m_get_axis_number\u001b[1;34m(cls, axis)\u001b[0m\n\u001b[0;32m    349\u001b[0m     \u001b[1;33m@\u001b[0m\u001b[0mclassmethod\u001b[0m\u001b[1;33m\u001b[0m\u001b[1;33m\u001b[0m\u001b[0m\n\u001b[0;32m    350\u001b[0m     \u001b[1;32mdef\u001b[0m \u001b[0m_get_axis_number\u001b[0m\u001b[1;33m(\u001b[0m\u001b[0mcls\u001b[0m\u001b[1;33m,\u001b[0m \u001b[0maxis\u001b[0m\u001b[1;33m)\u001b[0m\u001b[1;33m:\u001b[0m\u001b[1;33m\u001b[0m\u001b[1;33m\u001b[0m\u001b[0m\n\u001b[1;32m--> 351\u001b[1;33m         \u001b[0maxis\u001b[0m \u001b[1;33m=\u001b[0m \u001b[0mcls\u001b[0m\u001b[1;33m.\u001b[0m\u001b[0m_AXIS_ALIASES\u001b[0m\u001b[1;33m.\u001b[0m\u001b[0mget\u001b[0m\u001b[1;33m(\u001b[0m\u001b[0maxis\u001b[0m\u001b[1;33m,\u001b[0m \u001b[0maxis\u001b[0m\u001b[1;33m)\u001b[0m\u001b[1;33m\u001b[0m\u001b[1;33m\u001b[0m\u001b[0m\n\u001b[0m\u001b[0;32m    352\u001b[0m         \u001b[1;32mif\u001b[0m \u001b[0mis_integer\u001b[0m\u001b[1;33m(\u001b[0m\u001b[0maxis\u001b[0m\u001b[1;33m)\u001b[0m\u001b[1;33m:\u001b[0m\u001b[1;33m\u001b[0m\u001b[1;33m\u001b[0m\u001b[0m\n\u001b[0;32m    353\u001b[0m             \u001b[1;32mif\u001b[0m \u001b[0maxis\u001b[0m \u001b[1;32min\u001b[0m \u001b[0mcls\u001b[0m\u001b[1;33m.\u001b[0m\u001b[0m_AXIS_NAMES\u001b[0m\u001b[1;33m:\u001b[0m\u001b[1;33m\u001b[0m\u001b[1;33m\u001b[0m\u001b[0m\n",
      "\u001b[1;31mTypeError\u001b[0m: unhashable type: 'list'"
     ]
    }
   ],
   "source": [
    "final_census_df = con_census_df.loc([\"Los Angeles County, California\", \"San Francisco County, California\", \"Ventura County, California\", \"Larimer County, Colorado\", \"Fulton County, Georgia\", \"Bonneville County, Idaho\", \"Johnson County, Kansas\", \"Wyandotte County, Kansas\", \"Lafayette Parish, Louisiana\", \"Wilson County, North Carolina\", \"Bronx County, New York\", \"Kings County, New York\", \"New York County, New York\", \"Queens County, New York\", \"Richmond County, New York\", \"Cuyahoga County, Ohio\", \"King County, Washington\"])\n",
    "final_census_df"
   ]
  },
  {
   "cell_type": "code",
   "execution_count": null,
   "metadata": {},
   "outputs": [],
   "source": []
  }
 ],
 "metadata": {
  "kernelspec": {
   "display_name": "Python 3",
   "language": "python",
   "name": "python3"
  },
  "language_info": {
   "codemirror_mode": {
    "name": "ipython",
    "version": 3
   },
   "file_extension": ".py",
   "mimetype": "text/x-python",
   "name": "python",
   "nbconvert_exporter": "python",
   "pygments_lexer": "ipython3",
   "version": "3.7.7"
  }
 },
 "nbformat": 4,
 "nbformat_minor": 4
}
