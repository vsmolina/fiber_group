{
 "cells": [
  {
   "cell_type": "code",
   "execution_count": 4,
   "metadata": {},
   "outputs": [],
   "source": [
    "import os\n",
    "import pandas as pd\n",
    "import plotly.express as px\n",
    "import hvplot.pandas\n",
    "from pathlib import Path\n",
    "from dotenv import load_dotenv\n",
    "import geopandas\n",
    "import matplotlib.pyplot as plt\n",
    "from descartes import PolygonPatch\n",
    "import plotly.graph_objects as go\n",
    "%matplotlib inline"
   ]
  },
  {
   "cell_type": "code",
   "execution_count": 5,
   "metadata": {},
   "outputs": [
    {
     "ename": "ParserError",
     "evalue": "Error tokenizing data. C error: Expected 10 fields in line 22, saw 17\n",
     "output_type": "error",
     "traceback": [
      "\u001b[1;31m---------------------------------------------------------------------------\u001b[0m",
      "\u001b[1;31mParserError\u001b[0m                               Traceback (most recent call last)",
      "\u001b[1;32m<ipython-input-5-4d30396be275>\u001b[0m in \u001b[0;36m<module>\u001b[1;34m\u001b[0m\n\u001b[0;32m      1\u001b[0m \u001b[0mmedian_csv\u001b[0m \u001b[1;33m=\u001b[0m \u001b[0mPath\u001b[0m\u001b[1;33m(\u001b[0m\u001b[1;34m\"../data/cleandata/median_yearly_income.csv\"\u001b[0m\u001b[1;33m)\u001b[0m\u001b[1;33m\u001b[0m\u001b[1;33m\u001b[0m\u001b[0m\n\u001b[1;32m----> 2\u001b[1;33m \u001b[0mmedian_df\u001b[0m \u001b[1;33m=\u001b[0m \u001b[0mpd\u001b[0m\u001b[1;33m.\u001b[0m\u001b[0mread_csv\u001b[0m\u001b[1;33m(\u001b[0m\u001b[0mmedian_csv\u001b[0m\u001b[1;33m)\u001b[0m\u001b[1;33m\u001b[0m\u001b[1;33m\u001b[0m\u001b[0m\n\u001b[0m\u001b[0;32m      3\u001b[0m \u001b[0mmedian_df\u001b[0m\u001b[1;33m.\u001b[0m\u001b[0mhead\u001b[0m\u001b[1;33m(\u001b[0m\u001b[1;33m)\u001b[0m\u001b[1;33m\u001b[0m\u001b[1;33m\u001b[0m\u001b[0m\n",
      "\u001b[1;32m~\\.conda\\envs\\pyvizenv\\lib\\site-packages\\pandas\\io\\parsers.py\u001b[0m in \u001b[0;36mparser_f\u001b[1;34m(filepath_or_buffer, sep, delimiter, header, names, index_col, usecols, squeeze, prefix, mangle_dupe_cols, dtype, engine, converters, true_values, false_values, skipinitialspace, skiprows, skipfooter, nrows, na_values, keep_default_na, na_filter, verbose, skip_blank_lines, parse_dates, infer_datetime_format, keep_date_col, date_parser, dayfirst, iterator, chunksize, compression, thousands, decimal, lineterminator, quotechar, quoting, doublequote, escapechar, comment, encoding, dialect, tupleize_cols, error_bad_lines, warn_bad_lines, delim_whitespace, low_memory, memory_map, float_precision)\u001b[0m\n\u001b[0;32m    700\u001b[0m                     skip_blank_lines=skip_blank_lines)\n\u001b[0;32m    701\u001b[0m \u001b[1;33m\u001b[0m\u001b[0m\n\u001b[1;32m--> 702\u001b[1;33m         \u001b[1;32mreturn\u001b[0m \u001b[0m_read\u001b[0m\u001b[1;33m(\u001b[0m\u001b[0mfilepath_or_buffer\u001b[0m\u001b[1;33m,\u001b[0m \u001b[0mkwds\u001b[0m\u001b[1;33m)\u001b[0m\u001b[1;33m\u001b[0m\u001b[1;33m\u001b[0m\u001b[0m\n\u001b[0m\u001b[0;32m    703\u001b[0m \u001b[1;33m\u001b[0m\u001b[0m\n\u001b[0;32m    704\u001b[0m     \u001b[0mparser_f\u001b[0m\u001b[1;33m.\u001b[0m\u001b[0m__name__\u001b[0m \u001b[1;33m=\u001b[0m \u001b[0mname\u001b[0m\u001b[1;33m\u001b[0m\u001b[1;33m\u001b[0m\u001b[0m\n",
      "\u001b[1;32m~\\.conda\\envs\\pyvizenv\\lib\\site-packages\\pandas\\io\\parsers.py\u001b[0m in \u001b[0;36m_read\u001b[1;34m(filepath_or_buffer, kwds)\u001b[0m\n\u001b[0;32m    433\u001b[0m \u001b[1;33m\u001b[0m\u001b[0m\n\u001b[0;32m    434\u001b[0m     \u001b[1;32mtry\u001b[0m\u001b[1;33m:\u001b[0m\u001b[1;33m\u001b[0m\u001b[1;33m\u001b[0m\u001b[0m\n\u001b[1;32m--> 435\u001b[1;33m         \u001b[0mdata\u001b[0m \u001b[1;33m=\u001b[0m \u001b[0mparser\u001b[0m\u001b[1;33m.\u001b[0m\u001b[0mread\u001b[0m\u001b[1;33m(\u001b[0m\u001b[0mnrows\u001b[0m\u001b[1;33m)\u001b[0m\u001b[1;33m\u001b[0m\u001b[1;33m\u001b[0m\u001b[0m\n\u001b[0m\u001b[0;32m    436\u001b[0m     \u001b[1;32mfinally\u001b[0m\u001b[1;33m:\u001b[0m\u001b[1;33m\u001b[0m\u001b[1;33m\u001b[0m\u001b[0m\n\u001b[0;32m    437\u001b[0m         \u001b[0mparser\u001b[0m\u001b[1;33m.\u001b[0m\u001b[0mclose\u001b[0m\u001b[1;33m(\u001b[0m\u001b[1;33m)\u001b[0m\u001b[1;33m\u001b[0m\u001b[1;33m\u001b[0m\u001b[0m\n",
      "\u001b[1;32m~\\.conda\\envs\\pyvizenv\\lib\\site-packages\\pandas\\io\\parsers.py\u001b[0m in \u001b[0;36mread\u001b[1;34m(self, nrows)\u001b[0m\n\u001b[0;32m   1137\u001b[0m     \u001b[1;32mdef\u001b[0m \u001b[0mread\u001b[0m\u001b[1;33m(\u001b[0m\u001b[0mself\u001b[0m\u001b[1;33m,\u001b[0m \u001b[0mnrows\u001b[0m\u001b[1;33m=\u001b[0m\u001b[1;32mNone\u001b[0m\u001b[1;33m)\u001b[0m\u001b[1;33m:\u001b[0m\u001b[1;33m\u001b[0m\u001b[1;33m\u001b[0m\u001b[0m\n\u001b[0;32m   1138\u001b[0m         \u001b[0mnrows\u001b[0m \u001b[1;33m=\u001b[0m \u001b[0m_validate_integer\u001b[0m\u001b[1;33m(\u001b[0m\u001b[1;34m'nrows'\u001b[0m\u001b[1;33m,\u001b[0m \u001b[0mnrows\u001b[0m\u001b[1;33m)\u001b[0m\u001b[1;33m\u001b[0m\u001b[1;33m\u001b[0m\u001b[0m\n\u001b[1;32m-> 1139\u001b[1;33m         \u001b[0mret\u001b[0m \u001b[1;33m=\u001b[0m \u001b[0mself\u001b[0m\u001b[1;33m.\u001b[0m\u001b[0m_engine\u001b[0m\u001b[1;33m.\u001b[0m\u001b[0mread\u001b[0m\u001b[1;33m(\u001b[0m\u001b[0mnrows\u001b[0m\u001b[1;33m)\u001b[0m\u001b[1;33m\u001b[0m\u001b[1;33m\u001b[0m\u001b[0m\n\u001b[0m\u001b[0;32m   1140\u001b[0m \u001b[1;33m\u001b[0m\u001b[0m\n\u001b[0;32m   1141\u001b[0m         \u001b[1;31m# May alter columns / col_dict\u001b[0m\u001b[1;33m\u001b[0m\u001b[1;33m\u001b[0m\u001b[1;33m\u001b[0m\u001b[0m\n",
      "\u001b[1;32m~\\.conda\\envs\\pyvizenv\\lib\\site-packages\\pandas\\io\\parsers.py\u001b[0m in \u001b[0;36mread\u001b[1;34m(self, nrows)\u001b[0m\n\u001b[0;32m   1993\u001b[0m     \u001b[1;32mdef\u001b[0m \u001b[0mread\u001b[0m\u001b[1;33m(\u001b[0m\u001b[0mself\u001b[0m\u001b[1;33m,\u001b[0m \u001b[0mnrows\u001b[0m\u001b[1;33m=\u001b[0m\u001b[1;32mNone\u001b[0m\u001b[1;33m)\u001b[0m\u001b[1;33m:\u001b[0m\u001b[1;33m\u001b[0m\u001b[1;33m\u001b[0m\u001b[0m\n\u001b[0;32m   1994\u001b[0m         \u001b[1;32mtry\u001b[0m\u001b[1;33m:\u001b[0m\u001b[1;33m\u001b[0m\u001b[1;33m\u001b[0m\u001b[0m\n\u001b[1;32m-> 1995\u001b[1;33m             \u001b[0mdata\u001b[0m \u001b[1;33m=\u001b[0m \u001b[0mself\u001b[0m\u001b[1;33m.\u001b[0m\u001b[0m_reader\u001b[0m\u001b[1;33m.\u001b[0m\u001b[0mread\u001b[0m\u001b[1;33m(\u001b[0m\u001b[0mnrows\u001b[0m\u001b[1;33m)\u001b[0m\u001b[1;33m\u001b[0m\u001b[1;33m\u001b[0m\u001b[0m\n\u001b[0m\u001b[0;32m   1996\u001b[0m         \u001b[1;32mexcept\u001b[0m \u001b[0mStopIteration\u001b[0m\u001b[1;33m:\u001b[0m\u001b[1;33m\u001b[0m\u001b[1;33m\u001b[0m\u001b[0m\n\u001b[0;32m   1997\u001b[0m             \u001b[1;32mif\u001b[0m \u001b[0mself\u001b[0m\u001b[1;33m.\u001b[0m\u001b[0m_first_chunk\u001b[0m\u001b[1;33m:\u001b[0m\u001b[1;33m\u001b[0m\u001b[1;33m\u001b[0m\u001b[0m\n",
      "\u001b[1;32mpandas/_libs/parsers.pyx\u001b[0m in \u001b[0;36mpandas._libs.parsers.TextReader.read\u001b[1;34m()\u001b[0m\n",
      "\u001b[1;32mpandas/_libs/parsers.pyx\u001b[0m in \u001b[0;36mpandas._libs.parsers.TextReader._read_low_memory\u001b[1;34m()\u001b[0m\n",
      "\u001b[1;32mpandas/_libs/parsers.pyx\u001b[0m in \u001b[0;36mpandas._libs.parsers.TextReader._read_rows\u001b[1;34m()\u001b[0m\n",
      "\u001b[1;32mpandas/_libs/parsers.pyx\u001b[0m in \u001b[0;36mpandas._libs.parsers.TextReader._tokenize_rows\u001b[1;34m()\u001b[0m\n",
      "\u001b[1;32mpandas/_libs/parsers.pyx\u001b[0m in \u001b[0;36mpandas._libs.parsers.raise_parser_error\u001b[1;34m()\u001b[0m\n",
      "\u001b[1;31mParserError\u001b[0m: Error tokenizing data. C error: Expected 10 fields in line 22, saw 17\n"
     ]
    }
   ],
   "source": [
    "median_csv = Path(\"../data/cleandata/median_yearly_income.csv\")\n",
    "median_df = pd.read_csv(median_csv)\n",
    "median_df.head()"
   ]
  },
  {
   "cell_type": "code",
   "execution_count": 60,
   "metadata": {},
   "outputs": [
    {
     "data": {
      "application/vnd.plotly.v1+json": {
       "config": {
        "plotlyServerURL": "https://plot.ly"
       },
       "data": [
        {
         "lat": [
          33.97,
          37.77,
          34.33,
          40.55,
          33.8,
          43.42,
          38.88,
          39.1,
          30.22,
          35.63,
          40.84,
          40.64,
          40.71,
          40.72,
          40.58,
          41.36,
          47.3,
          29.76
         ],
         "locationmode": "USA-states",
         "lon": [
          -118.24,
          -122.41,
          -119.31,
          -105.06,
          -84.47,
          -112,
          -94.81,
          -94.62,
          -92.01,
          -77.93,
          -73.87,
          -73.94,
          -73.99,
          -73.7,
          -74.14,
          -81.86,
          -122.26,
          -95.38
         ],
         "marker": {
          "autocolorscale": false,
          "cmax": 126272,
          "cmin": 37276,
          "color": [
           63297.33,
           126272,
           55054.67,
           51065.33,
           71396,
           37276,
           50774.67,
           46517.33,
           43000,
           42584,
           48697.33,
           44152,
           125605.33,
           51956,
           48318.67,
           52912,
           79188,
           66042.67
          ],
          "colorbar": {
           "title": {
            "text": "Average Wage<br>Three Year"
           }
          },
          "colorscale": [
           [
            0,
            "#000004"
           ],
           [
            0.1111111111111111,
            "#1b0c41"
           ],
           [
            0.2222222222222222,
            "#4a0c6b"
           ],
           [
            0.3333333333333333,
            "#781c6d"
           ],
           [
            0.4444444444444444,
            "#a52c60"
           ],
           [
            0.5555555555555556,
            "#cf4446"
           ],
           [
            0.6666666666666666,
            "#ed6925"
           ],
           [
            0.7777777777777778,
            "#fb9b06"
           ],
           [
            0.8888888888888888,
            "#f7d13d"
           ],
           [
            1,
            "#fcffa4"
           ]
          ],
          "line": {
           "color": "rgba(102, 102, 102)",
           "width": 1
          },
          "opacity": 0.8,
          "reversescale": true,
          "size": 8,
          "symbol": "square"
         },
         "mode": "markers",
         "text": [
          "Los_Angeles_County Los Angeles, CA Median Income: 63297.33",
          "San_Francisco_County San Francisco, CA Median Income: 126272.0",
          "Ventura_County Los Angeles, CA Median Income: 55054.67",
          "Larimer_County Fort Collins, CO Median Income: 51065.33",
          "Fulton_County Atlanta, GA Median Income: 71396.0",
          "Bonneville_County Ammon, ID Median Income: 37276.0",
          "Johnson_County Kansas City, KS Median Income: 50774.67",
          "Wyandotte_County Kansas City, KS Median Income: 46517.33",
          "Lafayette_Parish Lafayette, LA Median Income: 43000.0",
          "Wilson_County Wilson, NC Median Income: 42584.0",
          "Bronx_County New York, NY Median Income: 48697.33",
          "Kings_County New York, NY Median Income: 44152.0",
          "New_York_County New York, NY Median Income: 125605.33",
          "Queens_County New York, NY Median Income: 51956.0",
          "Richmond_County New York, NY Median Income: 48318.67",
          "Cuyahoga_County Cleveland, OH Median Income: 52912.0",
          "King_County Seattle, WA Median Income: 79188.0",
          "Harris_County Houston, TX Median Income: 66042.67"
         ],
         "type": "scattergeo"
        }
       ],
       "layout": {
        "autosize": true,
        "geo": {
         "center": {
          "lat": 38.83933077029487,
          "lon": -93.19321447076304
         },
         "countrycolor": "rgb(217, 217, 217)",
         "countrywidth": 0.5,
         "landcolor": "rgb(250, 250, 250)",
         "projection": {
          "scale": 1.0000000000000018,
          "type": "albers usa"
         },
         "scope": "usa",
         "showland": true,
         "subunitcolor": "rgb(217, 217, 217)",
         "subunitwidth": 0.5
        },
        "template": {
         "data": {
          "bar": [
           {
            "error_x": {
             "color": "#2a3f5f"
            },
            "error_y": {
             "color": "#2a3f5f"
            },
            "marker": {
             "line": {
              "color": "#E5ECF6",
              "width": 0.5
             }
            },
            "type": "bar"
           }
          ],
          "barpolar": [
           {
            "marker": {
             "line": {
              "color": "#E5ECF6",
              "width": 0.5
             }
            },
            "type": "barpolar"
           }
          ],
          "carpet": [
           {
            "aaxis": {
             "endlinecolor": "#2a3f5f",
             "gridcolor": "white",
             "linecolor": "white",
             "minorgridcolor": "white",
             "startlinecolor": "#2a3f5f"
            },
            "baxis": {
             "endlinecolor": "#2a3f5f",
             "gridcolor": "white",
             "linecolor": "white",
             "minorgridcolor": "white",
             "startlinecolor": "#2a3f5f"
            },
            "type": "carpet"
           }
          ],
          "choropleth": [
           {
            "colorbar": {
             "outlinewidth": 0,
             "ticks": ""
            },
            "type": "choropleth"
           }
          ],
          "contour": [
           {
            "colorbar": {
             "outlinewidth": 0,
             "ticks": ""
            },
            "colorscale": [
             [
              0,
              "#0d0887"
             ],
             [
              0.1111111111111111,
              "#46039f"
             ],
             [
              0.2222222222222222,
              "#7201a8"
             ],
             [
              0.3333333333333333,
              "#9c179e"
             ],
             [
              0.4444444444444444,
              "#bd3786"
             ],
             [
              0.5555555555555556,
              "#d8576b"
             ],
             [
              0.6666666666666666,
              "#ed7953"
             ],
             [
              0.7777777777777778,
              "#fb9f3a"
             ],
             [
              0.8888888888888888,
              "#fdca26"
             ],
             [
              1,
              "#f0f921"
             ]
            ],
            "type": "contour"
           }
          ],
          "contourcarpet": [
           {
            "colorbar": {
             "outlinewidth": 0,
             "ticks": ""
            },
            "type": "contourcarpet"
           }
          ],
          "heatmap": [
           {
            "colorbar": {
             "outlinewidth": 0,
             "ticks": ""
            },
            "colorscale": [
             [
              0,
              "#0d0887"
             ],
             [
              0.1111111111111111,
              "#46039f"
             ],
             [
              0.2222222222222222,
              "#7201a8"
             ],
             [
              0.3333333333333333,
              "#9c179e"
             ],
             [
              0.4444444444444444,
              "#bd3786"
             ],
             [
              0.5555555555555556,
              "#d8576b"
             ],
             [
              0.6666666666666666,
              "#ed7953"
             ],
             [
              0.7777777777777778,
              "#fb9f3a"
             ],
             [
              0.8888888888888888,
              "#fdca26"
             ],
             [
              1,
              "#f0f921"
             ]
            ],
            "type": "heatmap"
           }
          ],
          "heatmapgl": [
           {
            "colorbar": {
             "outlinewidth": 0,
             "ticks": ""
            },
            "colorscale": [
             [
              0,
              "#0d0887"
             ],
             [
              0.1111111111111111,
              "#46039f"
             ],
             [
              0.2222222222222222,
              "#7201a8"
             ],
             [
              0.3333333333333333,
              "#9c179e"
             ],
             [
              0.4444444444444444,
              "#bd3786"
             ],
             [
              0.5555555555555556,
              "#d8576b"
             ],
             [
              0.6666666666666666,
              "#ed7953"
             ],
             [
              0.7777777777777778,
              "#fb9f3a"
             ],
             [
              0.8888888888888888,
              "#fdca26"
             ],
             [
              1,
              "#f0f921"
             ]
            ],
            "type": "heatmapgl"
           }
          ],
          "histogram": [
           {
            "marker": {
             "colorbar": {
              "outlinewidth": 0,
              "ticks": ""
             }
            },
            "type": "histogram"
           }
          ],
          "histogram2d": [
           {
            "colorbar": {
             "outlinewidth": 0,
             "ticks": ""
            },
            "colorscale": [
             [
              0,
              "#0d0887"
             ],
             [
              0.1111111111111111,
              "#46039f"
             ],
             [
              0.2222222222222222,
              "#7201a8"
             ],
             [
              0.3333333333333333,
              "#9c179e"
             ],
             [
              0.4444444444444444,
              "#bd3786"
             ],
             [
              0.5555555555555556,
              "#d8576b"
             ],
             [
              0.6666666666666666,
              "#ed7953"
             ],
             [
              0.7777777777777778,
              "#fb9f3a"
             ],
             [
              0.8888888888888888,
              "#fdca26"
             ],
             [
              1,
              "#f0f921"
             ]
            ],
            "type": "histogram2d"
           }
          ],
          "histogram2dcontour": [
           {
            "colorbar": {
             "outlinewidth": 0,
             "ticks": ""
            },
            "colorscale": [
             [
              0,
              "#0d0887"
             ],
             [
              0.1111111111111111,
              "#46039f"
             ],
             [
              0.2222222222222222,
              "#7201a8"
             ],
             [
              0.3333333333333333,
              "#9c179e"
             ],
             [
              0.4444444444444444,
              "#bd3786"
             ],
             [
              0.5555555555555556,
              "#d8576b"
             ],
             [
              0.6666666666666666,
              "#ed7953"
             ],
             [
              0.7777777777777778,
              "#fb9f3a"
             ],
             [
              0.8888888888888888,
              "#fdca26"
             ],
             [
              1,
              "#f0f921"
             ]
            ],
            "type": "histogram2dcontour"
           }
          ],
          "mesh3d": [
           {
            "colorbar": {
             "outlinewidth": 0,
             "ticks": ""
            },
            "type": "mesh3d"
           }
          ],
          "parcoords": [
           {
            "line": {
             "colorbar": {
              "outlinewidth": 0,
              "ticks": ""
             }
            },
            "type": "parcoords"
           }
          ],
          "pie": [
           {
            "automargin": true,
            "type": "pie"
           }
          ],
          "scatter": [
           {
            "marker": {
             "colorbar": {
              "outlinewidth": 0,
              "ticks": ""
             }
            },
            "type": "scatter"
           }
          ],
          "scatter3d": [
           {
            "line": {
             "colorbar": {
              "outlinewidth": 0,
              "ticks": ""
             }
            },
            "marker": {
             "colorbar": {
              "outlinewidth": 0,
              "ticks": ""
             }
            },
            "type": "scatter3d"
           }
          ],
          "scattercarpet": [
           {
            "marker": {
             "colorbar": {
              "outlinewidth": 0,
              "ticks": ""
             }
            },
            "type": "scattercarpet"
           }
          ],
          "scattergeo": [
           {
            "marker": {
             "colorbar": {
              "outlinewidth": 0,
              "ticks": ""
             }
            },
            "type": "scattergeo"
           }
          ],
          "scattergl": [
           {
            "marker": {
             "colorbar": {
              "outlinewidth": 0,
              "ticks": ""
             }
            },
            "type": "scattergl"
           }
          ],
          "scattermapbox": [
           {
            "marker": {
             "colorbar": {
              "outlinewidth": 0,
              "ticks": ""
             }
            },
            "type": "scattermapbox"
           }
          ],
          "scatterpolar": [
           {
            "marker": {
             "colorbar": {
              "outlinewidth": 0,
              "ticks": ""
             }
            },
            "type": "scatterpolar"
           }
          ],
          "scatterpolargl": [
           {
            "marker": {
             "colorbar": {
              "outlinewidth": 0,
              "ticks": ""
             }
            },
            "type": "scatterpolargl"
           }
          ],
          "scatterternary": [
           {
            "marker": {
             "colorbar": {
              "outlinewidth": 0,
              "ticks": ""
             }
            },
            "type": "scatterternary"
           }
          ],
          "surface": [
           {
            "colorbar": {
             "outlinewidth": 0,
             "ticks": ""
            },
            "colorscale": [
             [
              0,
              "#0d0887"
             ],
             [
              0.1111111111111111,
              "#46039f"
             ],
             [
              0.2222222222222222,
              "#7201a8"
             ],
             [
              0.3333333333333333,
              "#9c179e"
             ],
             [
              0.4444444444444444,
              "#bd3786"
             ],
             [
              0.5555555555555556,
              "#d8576b"
             ],
             [
              0.6666666666666666,
              "#ed7953"
             ],
             [
              0.7777777777777778,
              "#fb9f3a"
             ],
             [
              0.8888888888888888,
              "#fdca26"
             ],
             [
              1,
              "#f0f921"
             ]
            ],
            "type": "surface"
           }
          ],
          "table": [
           {
            "cells": {
             "fill": {
              "color": "#EBF0F8"
             },
             "line": {
              "color": "white"
             }
            },
            "header": {
             "fill": {
              "color": "#C8D4E3"
             },
             "line": {
              "color": "white"
             }
            },
            "type": "table"
           }
          ]
         },
         "layout": {
          "annotationdefaults": {
           "arrowcolor": "#2a3f5f",
           "arrowhead": 0,
           "arrowwidth": 1
          },
          "coloraxis": {
           "colorbar": {
            "outlinewidth": 0,
            "ticks": ""
           }
          },
          "colorscale": {
           "diverging": [
            [
             0,
             "#8e0152"
            ],
            [
             0.1,
             "#c51b7d"
            ],
            [
             0.2,
             "#de77ae"
            ],
            [
             0.3,
             "#f1b6da"
            ],
            [
             0.4,
             "#fde0ef"
            ],
            [
             0.5,
             "#f7f7f7"
            ],
            [
             0.6,
             "#e6f5d0"
            ],
            [
             0.7,
             "#b8e186"
            ],
            [
             0.8,
             "#7fbc41"
            ],
            [
             0.9,
             "#4d9221"
            ],
            [
             1,
             "#276419"
            ]
           ],
           "sequential": [
            [
             0,
             "#0d0887"
            ],
            [
             0.1111111111111111,
             "#46039f"
            ],
            [
             0.2222222222222222,
             "#7201a8"
            ],
            [
             0.3333333333333333,
             "#9c179e"
            ],
            [
             0.4444444444444444,
             "#bd3786"
            ],
            [
             0.5555555555555556,
             "#d8576b"
            ],
            [
             0.6666666666666666,
             "#ed7953"
            ],
            [
             0.7777777777777778,
             "#fb9f3a"
            ],
            [
             0.8888888888888888,
             "#fdca26"
            ],
            [
             1,
             "#f0f921"
            ]
           ],
           "sequentialminus": [
            [
             0,
             "#0d0887"
            ],
            [
             0.1111111111111111,
             "#46039f"
            ],
            [
             0.2222222222222222,
             "#7201a8"
            ],
            [
             0.3333333333333333,
             "#9c179e"
            ],
            [
             0.4444444444444444,
             "#bd3786"
            ],
            [
             0.5555555555555556,
             "#d8576b"
            ],
            [
             0.6666666666666666,
             "#ed7953"
            ],
            [
             0.7777777777777778,
             "#fb9f3a"
            ],
            [
             0.8888888888888888,
             "#fdca26"
            ],
            [
             1,
             "#f0f921"
            ]
           ]
          },
          "colorway": [
           "#636efa",
           "#EF553B",
           "#00cc96",
           "#ab63fa",
           "#FFA15A",
           "#19d3f3",
           "#FF6692",
           "#B6E880",
           "#FF97FF",
           "#FECB52"
          ],
          "font": {
           "color": "#2a3f5f"
          },
          "geo": {
           "bgcolor": "white",
           "lakecolor": "white",
           "landcolor": "#E5ECF6",
           "showlakes": true,
           "showland": true,
           "subunitcolor": "white"
          },
          "hoverlabel": {
           "align": "left"
          },
          "hovermode": "closest",
          "mapbox": {
           "style": "light"
          },
          "paper_bgcolor": "white",
          "plot_bgcolor": "#E5ECF6",
          "polar": {
           "angularaxis": {
            "gridcolor": "white",
            "linecolor": "white",
            "ticks": ""
           },
           "bgcolor": "#E5ECF6",
           "radialaxis": {
            "gridcolor": "white",
            "linecolor": "white",
            "ticks": ""
           }
          },
          "scene": {
           "xaxis": {
            "backgroundcolor": "#E5ECF6",
            "gridcolor": "white",
            "gridwidth": 2,
            "linecolor": "white",
            "showbackground": true,
            "ticks": "",
            "zerolinecolor": "white"
           },
           "yaxis": {
            "backgroundcolor": "#E5ECF6",
            "gridcolor": "white",
            "gridwidth": 2,
            "linecolor": "white",
            "showbackground": true,
            "ticks": "",
            "zerolinecolor": "white"
           },
           "zaxis": {
            "backgroundcolor": "#E5ECF6",
            "gridcolor": "white",
            "gridwidth": 2,
            "linecolor": "white",
            "showbackground": true,
            "ticks": "",
            "zerolinecolor": "white"
           }
          },
          "shapedefaults": {
           "line": {
            "color": "#2a3f5f"
           }
          },
          "ternary": {
           "aaxis": {
            "gridcolor": "white",
            "linecolor": "white",
            "ticks": ""
           },
           "baxis": {
            "gridcolor": "white",
            "linecolor": "white",
            "ticks": ""
           },
           "bgcolor": "#E5ECF6",
           "caxis": {
            "gridcolor": "white",
            "linecolor": "white",
            "ticks": ""
           }
          },
          "title": {
           "x": 0.05
          },
          "xaxis": {
           "automargin": true,
           "gridcolor": "white",
           "linecolor": "white",
           "ticks": "",
           "title": {
            "standoff": 15
           },
           "zerolinecolor": "white",
           "zerolinewidth": 2
          },
          "yaxis": {
           "automargin": true,
           "gridcolor": "white",
           "linecolor": "white",
           "ticks": "",
           "title": {
            "standoff": 15
           },
           "zerolinecolor": "white",
           "zerolinewidth": 2
          }
         }
        },
        "title": {
         "text": "3 Year Median Annual Wage by County"
        }
       }
      },
      "image/png": "[encoded data removed]",
      "text/html": [
       "<div>                            <div id=\"ed9af99a-acc5-4c7d-b660-23d7a1eece6e\" class=\"plotly-graph-div\" style=\"height:525px; width:100%;\"></div>            <script type=\"text/javascript\">                require([\"plotly\"], function(Plotly) {                    window.PLOTLYENV=window.PLOTLYENV || {};                                    if (document.getElementById(\"ed9af99a-acc5-4c7d-b660-23d7a1eece6e\")) {                    Plotly.newPlot(                        \"ed9af99a-acc5-4c7d-b660-23d7a1eece6e\",                        [{\"lat\": [33.97, 37.77, 34.33, 40.55, 33.8, 43.42, 38.88, 39.1, 30.22, 35.63, 40.84, 40.64, 40.71, 40.72, 40.58, 41.36, 47.3, 29.76], \"locationmode\": \"USA-states\", \"lon\": [-118.24, -122.41, -119.31, -105.06, -84.47, -112.0, -94.81, -94.62, -92.01, -77.93, -73.87, -73.94, -73.99, -73.7, -74.14, -81.86, -122.26, -95.38], \"marker\": {\"autocolorscale\": false, \"cmax\": 126272.0, \"cmin\": 37276.0, \"color\": [63297.33, 126272.0, 55054.67, 51065.33, 71396.0, 37276.0, 50774.67, 46517.33, 43000.0, 42584.0, 48697.33, 44152.0, 125605.33, 51956.0, 48318.67, 52912.0, 79188.0, 66042.67], \"colorbar\": {\"title\": {\"text\": \"Average Wage<br>Three Year\"}}, \"colorscale\": [[0.0, \"#000004\"], [0.1111111111111111, \"#1b0c41\"], [0.2222222222222222, \"#4a0c6b\"], [0.3333333333333333, \"#781c6d\"], [0.4444444444444444, \"#a52c60\"], [0.5555555555555556, \"#cf4446\"], [0.6666666666666666, \"#ed6925\"], [0.7777777777777778, \"#fb9b06\"], [0.8888888888888888, \"#f7d13d\"], [1.0, \"#fcffa4\"]], \"line\": {\"color\": \"rgba(102, 102, 102)\", \"width\": 1}, \"opacity\": 0.8, \"reversescale\": true, \"size\": 8, \"symbol\": \"square\"}, \"mode\": \"markers\", \"text\": [\"Los_Angeles_County Los Angeles, CA Median Income: 63297.33\", \"San_Francisco_County San Francisco, CA Median Income: 126272.0\", \"Ventura_County Los Angeles, CA Median Income: 55054.67\", \"Larimer_County Fort Collins, CO Median Income: 51065.33\", \"Fulton_County Atlanta, GA Median Income: 71396.0\", \"Bonneville_County Ammon, ID Median Income: 37276.0\", \"Johnson_County Kansas City, KS Median Income: 50774.67\", \"Wyandotte_County Kansas City, KS Median Income: 46517.33\", \"Lafayette_Parish Lafayette, LA Median Income: 43000.0\", \"Wilson_County Wilson, NC Median Income: 42584.0\", \"Bronx_County New York, NY Median Income: 48697.33\", \"Kings_County New York, NY Median Income: 44152.0\", \"New_York_County New York, NY Median Income: 125605.33\", \"Queens_County New York, NY Median Income: 51956.0\", \"Richmond_County New York, NY Median Income: 48318.67\", \"Cuyahoga_County Cleveland, OH Median Income: 52912.0\", \"King_County Seattle, WA Median Income: 79188.0\", \"Harris_County Houston, TX Median Income: 66042.67\"], \"type\": \"scattergeo\"}],                        {\"geo\": {\"countrycolor\": \"rgb(217, 217, 217)\", \"countrywidth\": 0.5, \"landcolor\": \"rgb(250, 250, 250)\", \"projection\": {\"type\": \"albers usa\"}, \"scope\": \"usa\", \"showland\": true, \"subunitcolor\": \"rgb(217, 217, 217)\", \"subunitwidth\": 0.5}, \"template\": {\"data\": {\"bar\": [{\"error_x\": {\"color\": \"#2a3f5f\"}, \"error_y\": {\"color\": \"#2a3f5f\"}, \"marker\": {\"line\": {\"color\": \"#E5ECF6\", \"width\": 0.5}}, \"type\": \"bar\"}], \"barpolar\": [{\"marker\": {\"line\": {\"color\": \"#E5ECF6\", \"width\": 0.5}}, \"type\": \"barpolar\"}], \"carpet\": [{\"aaxis\": {\"endlinecolor\": \"#2a3f5f\", \"gridcolor\": \"white\", \"linecolor\": \"white\", \"minorgridcolor\": \"white\", \"startlinecolor\": \"#2a3f5f\"}, \"baxis\": {\"endlinecolor\": \"#2a3f5f\", \"gridcolor\": \"white\", \"linecolor\": \"white\", \"minorgridcolor\": \"white\", \"startlinecolor\": \"#2a3f5f\"}, \"type\": \"carpet\"}], \"choropleth\": [{\"colorbar\": {\"outlinewidth\": 0, \"ticks\": \"\"}, \"type\": \"choropleth\"}], \"contour\": [{\"colorbar\": {\"outlinewidth\": 0, \"ticks\": \"\"}, \"colorscale\": [[0.0, \"#0d0887\"], [0.1111111111111111, \"#46039f\"], [0.2222222222222222, \"#7201a8\"], [0.3333333333333333, \"#9c179e\"], [0.4444444444444444, \"#bd3786\"], [0.5555555555555556, \"#d8576b\"], [0.6666666666666666, \"#ed7953\"], [0.7777777777777778, \"#fb9f3a\"], [0.8888888888888888, \"#fdca26\"], [1.0, \"#f0f921\"]], \"type\": \"contour\"}], \"contourcarpet\": [{\"colorbar\": {\"outlinewidth\": 0, \"ticks\": \"\"}, \"type\": \"contourcarpet\"}], \"heatmap\": [{\"colorbar\": {\"outlinewidth\": 0, \"ticks\": \"\"}, \"colorscale\": [[0.0, \"#0d0887\"], [0.1111111111111111, \"#46039f\"], [0.2222222222222222, \"#7201a8\"], [0.3333333333333333, \"#9c179e\"], [0.4444444444444444, \"#bd3786\"], [0.5555555555555556, \"#d8576b\"], [0.6666666666666666, \"#ed7953\"], [0.7777777777777778, \"#fb9f3a\"], [0.8888888888888888, \"#fdca26\"], [1.0, \"#f0f921\"]], \"type\": \"heatmap\"}], \"heatmapgl\": [{\"colorbar\": {\"outlinewidth\": 0, \"ticks\": \"\"}, \"colorscale\": [[0.0, \"#0d0887\"], [0.1111111111111111, \"#46039f\"], [0.2222222222222222, \"#7201a8\"], [0.3333333333333333, \"#9c179e\"], [0.4444444444444444, \"#bd3786\"], [0.5555555555555556, \"#d8576b\"], [0.6666666666666666, \"#ed7953\"], [0.7777777777777778, \"#fb9f3a\"], [0.8888888888888888, \"#fdca26\"], [1.0, \"#f0f921\"]], \"type\": \"heatmapgl\"}], \"histogram\": [{\"marker\": {\"colorbar\": {\"outlinewidth\": 0, \"ticks\": \"\"}}, \"type\": \"histogram\"}], \"histogram2d\": [{\"colorbar\": {\"outlinewidth\": 0, \"ticks\": \"\"}, \"colorscale\": [[0.0, \"#0d0887\"], [0.1111111111111111, \"#46039f\"], [0.2222222222222222, \"#7201a8\"], [0.3333333333333333, \"#9c179e\"], [0.4444444444444444, \"#bd3786\"], [0.5555555555555556, \"#d8576b\"], [0.6666666666666666, \"#ed7953\"], [0.7777777777777778, \"#fb9f3a\"], [0.8888888888888888, \"#fdca26\"], [1.0, \"#f0f921\"]], \"type\": \"histogram2d\"}], \"histogram2dcontour\": [{\"colorbar\": {\"outlinewidth\": 0, \"ticks\": \"\"}, \"colorscale\": [[0.0, \"#0d0887\"], [0.1111111111111111, \"#46039f\"], [0.2222222222222222, \"#7201a8\"], [0.3333333333333333, \"#9c179e\"], [0.4444444444444444, \"#bd3786\"], [0.5555555555555556, \"#d8576b\"], [0.6666666666666666, \"#ed7953\"], [0.7777777777777778, \"#fb9f3a\"], [0.8888888888888888, \"#fdca26\"], [1.0, \"#f0f921\"]], \"type\": \"histogram2dcontour\"}], \"mesh3d\": [{\"colorbar\": {\"outlinewidth\": 0, \"ticks\": \"\"}, \"type\": \"mesh3d\"}], \"parcoords\": [{\"line\": {\"colorbar\": {\"outlinewidth\": 0, \"ticks\": \"\"}}, \"type\": \"parcoords\"}], \"pie\": [{\"automargin\": true, \"type\": \"pie\"}], \"scatter\": [{\"marker\": {\"colorbar\": {\"outlinewidth\": 0, \"ticks\": \"\"}}, \"type\": \"scatter\"}], \"scatter3d\": [{\"line\": {\"colorbar\": {\"outlinewidth\": 0, \"ticks\": \"\"}}, \"marker\": {\"colorbar\": {\"outlinewidth\": 0, \"ticks\": \"\"}}, \"type\": \"scatter3d\"}], \"scattercarpet\": [{\"marker\": {\"colorbar\": {\"outlinewidth\": 0, \"ticks\": \"\"}}, \"type\": \"scattercarpet\"}], \"scattergeo\": [{\"marker\": {\"colorbar\": {\"outlinewidth\": 0, \"ticks\": \"\"}}, \"type\": \"scattergeo\"}], \"scattergl\": [{\"marker\": {\"colorbar\": {\"outlinewidth\": 0, \"ticks\": \"\"}}, \"type\": \"scattergl\"}], \"scattermapbox\": [{\"marker\": {\"colorbar\": {\"outlinewidth\": 0, \"ticks\": \"\"}}, \"type\": \"scattermapbox\"}], \"scatterpolar\": [{\"marker\": {\"colorbar\": {\"outlinewidth\": 0, \"ticks\": \"\"}}, \"type\": \"scatterpolar\"}], \"scatterpolargl\": [{\"marker\": {\"colorbar\": {\"outlinewidth\": 0, \"ticks\": \"\"}}, \"type\": \"scatterpolargl\"}], \"scatterternary\": [{\"marker\": {\"colorbar\": {\"outlinewidth\": 0, \"ticks\": \"\"}}, \"type\": \"scatterternary\"}], \"surface\": [{\"colorbar\": {\"outlinewidth\": 0, \"ticks\": \"\"}, \"colorscale\": [[0.0, \"#0d0887\"], [0.1111111111111111, \"#46039f\"], [0.2222222222222222, \"#7201a8\"], [0.3333333333333333, \"#9c179e\"], [0.4444444444444444, \"#bd3786\"], [0.5555555555555556, \"#d8576b\"], [0.6666666666666666, \"#ed7953\"], [0.7777777777777778, \"#fb9f3a\"], [0.8888888888888888, \"#fdca26\"], [1.0, \"#f0f921\"]], \"type\": \"surface\"}], \"table\": [{\"cells\": {\"fill\": {\"color\": \"#EBF0F8\"}, \"line\": {\"color\": \"white\"}}, \"header\": {\"fill\": {\"color\": \"#C8D4E3\"}, \"line\": {\"color\": \"white\"}}, \"type\": \"table\"}]}, \"layout\": {\"annotationdefaults\": {\"arrowcolor\": \"#2a3f5f\", \"arrowhead\": 0, \"arrowwidth\": 1}, \"coloraxis\": {\"colorbar\": {\"outlinewidth\": 0, \"ticks\": \"\"}}, \"colorscale\": {\"diverging\": [[0, \"#8e0152\"], [0.1, \"#c51b7d\"], [0.2, \"#de77ae\"], [0.3, \"#f1b6da\"], [0.4, \"#fde0ef\"], [0.5, \"#f7f7f7\"], [0.6, \"#e6f5d0\"], [0.7, \"#b8e186\"], [0.8, \"#7fbc41\"], [0.9, \"#4d9221\"], [1, \"#276419\"]], \"sequential\": [[0.0, \"#0d0887\"], [0.1111111111111111, \"#46039f\"], [0.2222222222222222, \"#7201a8\"], [0.3333333333333333, \"#9c179e\"], [0.4444444444444444, \"#bd3786\"], [0.5555555555555556, \"#d8576b\"], [0.6666666666666666, \"#ed7953\"], [0.7777777777777778, \"#fb9f3a\"], [0.8888888888888888, \"#fdca26\"], [1.0, \"#f0f921\"]], \"sequentialminus\": [[0.0, \"#0d0887\"], [0.1111111111111111, \"#46039f\"], [0.2222222222222222, \"#7201a8\"], [0.3333333333333333, \"#9c179e\"], [0.4444444444444444, \"#bd3786\"], [0.5555555555555556, \"#d8576b\"], [0.6666666666666666, \"#ed7953\"], [0.7777777777777778, \"#fb9f3a\"], [0.8888888888888888, \"#fdca26\"], [1.0, \"#f0f921\"]]}, \"colorway\": [\"#636efa\", \"#EF553B\", \"#00cc96\", \"#ab63fa\", \"#FFA15A\", \"#19d3f3\", \"#FF6692\", \"#B6E880\", \"#FF97FF\", \"#FECB52\"], \"font\": {\"color\": \"#2a3f5f\"}, \"geo\": {\"bgcolor\": \"white\", \"lakecolor\": \"white\", \"landcolor\": \"#E5ECF6\", \"showlakes\": true, \"showland\": true, \"subunitcolor\": \"white\"}, \"hoverlabel\": {\"align\": \"left\"}, \"hovermode\": \"closest\", \"mapbox\": {\"style\": \"light\"}, \"paper_bgcolor\": \"white\", \"plot_bgcolor\": \"#E5ECF6\", \"polar\": {\"angularaxis\": {\"gridcolor\": \"white\", \"linecolor\": \"white\", \"ticks\": \"\"}, \"bgcolor\": \"#E5ECF6\", \"radialaxis\": {\"gridcolor\": \"white\", \"linecolor\": \"white\", \"ticks\": \"\"}}, \"scene\": {\"xaxis\": {\"backgroundcolor\": \"#E5ECF6\", \"gridcolor\": \"white\", \"gridwidth\": 2, \"linecolor\": \"white\", \"showbackground\": true, \"ticks\": \"\", \"zerolinecolor\": \"white\"}, \"yaxis\": {\"backgroundcolor\": \"#E5ECF6\", \"gridcolor\": \"white\", \"gridwidth\": 2, \"linecolor\": \"white\", \"showbackground\": true, \"ticks\": \"\", \"zerolinecolor\": \"white\"}, \"zaxis\": {\"backgroundcolor\": \"#E5ECF6\", \"gridcolor\": \"white\", \"gridwidth\": 2, \"linecolor\": \"white\", \"showbackground\": true, \"ticks\": \"\", \"zerolinecolor\": \"white\"}}, \"shapedefaults\": {\"line\": {\"color\": \"#2a3f5f\"}}, \"ternary\": {\"aaxis\": {\"gridcolor\": \"white\", \"linecolor\": \"white\", \"ticks\": \"\"}, \"baxis\": {\"gridcolor\": \"white\", \"linecolor\": \"white\", \"ticks\": \"\"}, \"bgcolor\": \"#E5ECF6\", \"caxis\": {\"gridcolor\": \"white\", \"linecolor\": \"white\", \"ticks\": \"\"}}, \"title\": {\"x\": 0.05}, \"xaxis\": {\"automargin\": true, \"gridcolor\": \"white\", \"linecolor\": \"white\", \"ticks\": \"\", \"title\": {\"standoff\": 15}, \"zerolinecolor\": \"white\", \"zerolinewidth\": 2}, \"yaxis\": {\"automargin\": true, \"gridcolor\": \"white\", \"linecolor\": \"white\", \"ticks\": \"\", \"title\": {\"standoff\": 15}, \"zerolinecolor\": \"white\", \"zerolinewidth\": 2}}}, \"title\": {\"text\": \"3 Year Median Annual Wage by County\"}},                        {\"responsive\": true}                    ).then(function(){\n",
       "                            \n",
       "var gd = document.getElementById('ed9af99a-acc5-4c7d-b660-23d7a1eece6e');\n",
       "var x = new MutationObserver(function (mutations, observer) {{\n",
       "        var display = window.getComputedStyle(gd).display;\n",
       "        if (!display || display === 'none') {{\n",
       "            console.log([gd, 'removed!']);\n",
       "            Plotly.purge(gd);\n",
       "            observer.disconnect();\n",
       "        }}\n",
       "}});\n",
       "\n",
       "// Listen for the removal of the full notebook cells\n",
       "var notebookContainer = gd.closest('#notebook-container');\n",
       "if (notebookContainer) {{\n",
       "    x.observe(notebookContainer, {childList: true});\n",
       "}}\n",
       "\n",
       "// Listen for the clearing of the current output cell\n",
       "var outputEl = gd.closest('.output');\n",
       "if (outputEl) {{\n",
       "    x.observe(outputEl, {childList: true});\n",
       "}}\n",
       "\n",
       "                        })                };                });            </script>        </div>"
      ]
     },
     "metadata": {},
     "output_type": "display_data"
    }
   ],
   "source": [
    "median_df['text'] = median_df['County'] + ' ' + median_df['City'] + ', ' + median_df['State'] + ' ' + 'Median Income: ' + median_df['3_year_wage_avg'].astype(str)\n",
    "fig = go.Figure(data=go.Scattergeo(\n",
    "        locationmode = 'USA-states',\n",
    "        lon = median_df['longitude'],\n",
    "        lat = median_df['latitude'],\n",
    "        text = median_df['text'],\n",
    "        mode = 'markers',\n",
    "        marker = dict(\n",
    "            size = 8,\n",
    "            opacity = 0.8,\n",
    "            reversescale = True,\n",
    "            autocolorscale = False,\n",
    "            symbol = 'square',\n",
    "            line = dict(\n",
    "                width=1,\n",
    "                color='rgba(102, 102, 102)'\n",
    "            ),\n",
    "            colorscale = 'inferno',\n",
    "            cmin = median_df['3_year_wage_avg'].min(),\n",
    "            color = median_df['3_year_wage_avg'],\n",
    "            cmax = median_df['3_year_wage_avg'].max(),\n",
    "            colorbar_title=\"Average Wage<br>Three Year\"\n",
    "        )))\n",
    "\n",
    "fig.update_layout(\n",
    "        title = '3 Year Median Annual Wage by County',\n",
    "        geo = dict(\n",
    "            scope='usa',\n",
    "            projection_type='albers usa',\n",
    "            showland = True,\n",
    "            landcolor = \"rgb(250, 250, 250)\",\n",
    "            subunitcolor = \"rgb(217, 217, 217)\",\n",
    "            countrycolor = \"rgb(217, 217, 217)\",\n",
    "            countrywidth = 0.5,\n",
    "            subunitwidth = 0.5\n",
    "        ),\n",
    "    )\n",
    "fig.show()"
   ]
  },
  {
   "cell_type": "code",
   "execution_count": 38,
   "metadata": {},
   "outputs": [
    {
     "data": {
      "text/html": [
       "<div>\n",
       "<style scoped>\n",
       "    .dataframe tbody tr th:only-of-type {\n",
       "        vertical-align: middle;\n",
       "    }\n",
       "\n",
       "    .dataframe tbody tr th {\n",
       "        vertical-align: top;\n",
       "    }\n",
       "\n",
       "    .dataframe thead th {\n",
       "        text-align: right;\n",
       "    }\n",
       "</style>\n",
       "<table border=\"1\" class=\"dataframe\">\n",
       "  <thead>\n",
       "    <tr style=\"text-align: right;\">\n",
       "      <th></th>\n",
       "      <th>zipcode</th>\n",
       "      <th>County</th>\n",
       "      <th>City</th>\n",
       "      <th>State</th>\n",
       "      <th>2020_Year_Wage</th>\n",
       "      <th>2019_Year_Wage</th>\n",
       "      <th>2018_Year_Wage</th>\n",
       "      <th>3_year_wage_avg</th>\n",
       "      <th>latitude</th>\n",
       "      <th>longitude</th>\n",
       "    </tr>\n",
       "  </thead>\n",
       "  <tbody>\n",
       "    <tr>\n",
       "      <th>0</th>\n",
       "      <td>90001</td>\n",
       "      <td>Los_Angeles_County</td>\n",
       "      <td>Los Angeles</td>\n",
       "      <td>CA</td>\n",
       "      <td>68068</td>\n",
       "      <td>61932</td>\n",
       "      <td>59892</td>\n",
       "      <td>63297.33</td>\n",
       "      <td>33.97</td>\n",
       "      <td>-118.24</td>\n",
       "    </tr>\n",
       "    <tr>\n",
       "      <th>1</th>\n",
       "      <td>94101</td>\n",
       "      <td>San_Francisco_County</td>\n",
       "      <td>San Francisco</td>\n",
       "      <td>CA</td>\n",
       "      <td>149604</td>\n",
       "      <td>119880</td>\n",
       "      <td>109332</td>\n",
       "      <td>126272.00</td>\n",
       "      <td>37.77</td>\n",
       "      <td>-122.41</td>\n",
       "    </tr>\n",
       "    <tr>\n",
       "      <th>2</th>\n",
       "      <td>93001</td>\n",
       "      <td>Ventura_County</td>\n",
       "      <td>Los Angeles</td>\n",
       "      <td>CA</td>\n",
       "      <td>60788</td>\n",
       "      <td>53400</td>\n",
       "      <td>50976</td>\n",
       "      <td>55054.67</td>\n",
       "      <td>34.33</td>\n",
       "      <td>-119.31</td>\n",
       "    </tr>\n",
       "    <tr>\n",
       "      <th>3</th>\n",
       "      <td>80528</td>\n",
       "      <td>Larimer_County</td>\n",
       "      <td>Fort Collins</td>\n",
       "      <td>CO</td>\n",
       "      <td>55588</td>\n",
       "      <td>49776</td>\n",
       "      <td>47832</td>\n",
       "      <td>51065.33</td>\n",
       "      <td>40.55</td>\n",
       "      <td>-105.06</td>\n",
       "    </tr>\n",
       "    <tr>\n",
       "      <th>4</th>\n",
       "      <td>30369</td>\n",
       "      <td>Fulton_County</td>\n",
       "      <td>Atlanta</td>\n",
       "      <td>GA</td>\n",
       "      <td>96252</td>\n",
       "      <td>72660</td>\n",
       "      <td>45276</td>\n",
       "      <td>71396.00</td>\n",
       "      <td>33.80</td>\n",
       "      <td>-84.47</td>\n",
       "    </tr>\n",
       "  </tbody>\n",
       "</table>\n",
       "</div>"
      ],
      "text/plain": [
       "   zipcode                County           City State  2020_Year_Wage  \\\n",
       "0    90001    Los_Angeles_County    Los Angeles    CA           68068   \n",
       "1    94101  San_Francisco_County  San Francisco    CA          149604   \n",
       "2    93001        Ventura_County    Los Angeles    CA           60788   \n",
       "3    80528        Larimer_County   Fort Collins    CO           55588   \n",
       "4    30369         Fulton_County        Atlanta    GA           96252   \n",
       "\n",
       "   2019_Year_Wage  2018_Year_Wage  3_year_wage_avg  latitude  longitude  \n",
       "0           61932           59892         63297.33     33.97    -118.24  \n",
       "1          119880          109332        126272.00     37.77    -122.41  \n",
       "2           53400           50976         55054.67     34.33    -119.31  \n",
       "3           49776           47832         51065.33     40.55    -105.06  \n",
       "4           72660           45276         71396.00     33.80     -84.47  "
      ]
     },
     "execution_count": 38,
     "metadata": {},
     "output_type": "execute_result"
    }
   ],
   "source": []
  },
  {
   "cell_type": "code",
   "execution_count": 4,
   "metadata": {},
   "outputs": [
    {
     "data": {
      "text/html": [
       "<div>\n",
       "<style scoped>\n",
       "    .dataframe tbody tr th:only-of-type {\n",
       "        vertical-align: middle;\n",
       "    }\n",
       "\n",
       "    .dataframe tbody tr th {\n",
       "        vertical-align: top;\n",
       "    }\n",
       "\n",
       "    .dataframe thead th {\n",
       "        text-align: right;\n",
       "    }\n",
       "</style>\n",
       "<table border=\"1\" class=\"dataframe\">\n",
       "  <thead>\n",
       "    <tr style=\"text-align: right;\">\n",
       "      <th></th>\n",
       "      <th>X</th>\n",
       "      <th>Y</th>\n",
       "      <th>FID</th>\n",
       "      <th>LICENSEE</th>\n",
       "      <th>CALLSIGN</th>\n",
       "      <th>LOCNUM</th>\n",
       "      <th>LAT_DMS</th>\n",
       "      <th>LATDIR</th>\n",
       "      <th>LON_DMS</th>\n",
       "      <th>LONDIR</th>\n",
       "      <th>...</th>\n",
       "      <th>LOCCITY</th>\n",
       "      <th>LOCCOUNTY</th>\n",
       "      <th>LOCSTATE</th>\n",
       "      <th>NEPA</th>\n",
       "      <th>QZONE</th>\n",
       "      <th>TOWREG</th>\n",
       "      <th>SUPSTRUC</th>\n",
       "      <th>ALLSTRUC</th>\n",
       "      <th>STRUCTYPE</th>\n",
       "      <th>LIC_ID</th>\n",
       "    </tr>\n",
       "  </thead>\n",
       "  <tbody>\n",
       "    <tr>\n",
       "      <th>0</th>\n",
       "      <td>-9025996.215</td>\n",
       "      <td>4710863.700</td>\n",
       "      <td>1</td>\n",
       "      <td>NEW CINGULAR WIRELESS PCS, LLC</td>\n",
       "      <td>KNKN848</td>\n",
       "      <td>2</td>\n",
       "      <td>38,55,28</td>\n",
       "      <td>N</td>\n",
       "      <td>81,4,55</td>\n",
       "      <td>W</td>\n",
       "      <td>...</td>\n",
       "      <td>GRANTSVILLE</td>\n",
       "      <td>CALHOUN</td>\n",
       "      <td>WV</td>\n",
       "      <td>N</td>\n",
       "      <td>NaN</td>\n",
       "      <td>NaN</td>\n",
       "      <td>36.3</td>\n",
       "      <td>37.8</td>\n",
       "      <td>POLE</td>\n",
       "      <td>11497</td>\n",
       "    </tr>\n",
       "    <tr>\n",
       "      <th>1</th>\n",
       "      <td>-9048571.812</td>\n",
       "      <td>4669794.346</td>\n",
       "      <td>2</td>\n",
       "      <td>NEW CINGULAR WIRELESS PCS, LLC</td>\n",
       "      <td>KNKN848</td>\n",
       "      <td>6</td>\n",
       "      <td>38,38,13</td>\n",
       "      <td>N</td>\n",
       "      <td>81,17,5</td>\n",
       "      <td>W</td>\n",
       "      <td>...</td>\n",
       "      <td>LOONEYVILLE</td>\n",
       "      <td>ROANE</td>\n",
       "      <td>WV</td>\n",
       "      <td>N</td>\n",
       "      <td>NaN</td>\n",
       "      <td>1002593.0</td>\n",
       "      <td>123.1</td>\n",
       "      <td>125.6</td>\n",
       "      <td>TOWER</td>\n",
       "      <td>11497</td>\n",
       "    </tr>\n",
       "    <tr>\n",
       "      <th>2</th>\n",
       "      <td>-9085652.349</td>\n",
       "      <td>4727002.648</td>\n",
       "      <td>3</td>\n",
       "      <td>NEW CINGULAR WIRELESS PCS, LLC</td>\n",
       "      <td>KNKN848</td>\n",
       "      <td>7</td>\n",
       "      <td>39,2,14</td>\n",
       "      <td>N</td>\n",
       "      <td>81,37,4</td>\n",
       "      <td>W</td>\n",
       "      <td>...</td>\n",
       "      <td>MURRAYSVILLE</td>\n",
       "      <td>JACKSON</td>\n",
       "      <td>WV</td>\n",
       "      <td>N</td>\n",
       "      <td>NaN</td>\n",
       "      <td>NaN</td>\n",
       "      <td>55.2</td>\n",
       "      <td>59.1</td>\n",
       "      <td>MAST</td>\n",
       "      <td>11497</td>\n",
       "    </tr>\n",
       "    <tr>\n",
       "      <th>3</th>\n",
       "      <td>-9086453.847</td>\n",
       "      <td>4673842.515</td>\n",
       "      <td>4</td>\n",
       "      <td>NEW CINGULAR WIRELESS PCS, LLC</td>\n",
       "      <td>KNKN848</td>\n",
       "      <td>9</td>\n",
       "      <td>38,39,55</td>\n",
       "      <td>N</td>\n",
       "      <td>81,37,30</td>\n",
       "      <td>W</td>\n",
       "      <td>...</td>\n",
       "      <td>KENNA</td>\n",
       "      <td>JACKSON</td>\n",
       "      <td>WV</td>\n",
       "      <td>N</td>\n",
       "      <td>NaN</td>\n",
       "      <td>1034261.0</td>\n",
       "      <td>123.1</td>\n",
       "      <td>125.9</td>\n",
       "      <td>TOWER</td>\n",
       "      <td>11497</td>\n",
       "    </tr>\n",
       "    <tr>\n",
       "      <th>4</th>\n",
       "      <td>-9118736.510</td>\n",
       "      <td>4699966.169</td>\n",
       "      <td>5</td>\n",
       "      <td>NEW CINGULAR WIRELESS PCS, LLC</td>\n",
       "      <td>KNKN848</td>\n",
       "      <td>10</td>\n",
       "      <td>38,50,54</td>\n",
       "      <td>N</td>\n",
       "      <td>81,54,54</td>\n",
       "      <td>W</td>\n",
       "      <td>...</td>\n",
       "      <td>MOUNT ALTO</td>\n",
       "      <td>MASON</td>\n",
       "      <td>WV</td>\n",
       "      <td>N</td>\n",
       "      <td>NaN</td>\n",
       "      <td>1219729.0</td>\n",
       "      <td>80.8</td>\n",
       "      <td>83.8</td>\n",
       "      <td>MAST</td>\n",
       "      <td>11497</td>\n",
       "    </tr>\n",
       "  </tbody>\n",
       "</table>\n",
       "<p>5 rows × 21 columns</p>\n",
       "</div>"
      ],
      "text/plain": [
       "             X            Y  FID                        LICENSEE CALLSIGN  \\\n",
       "0 -9025996.215  4710863.700    1  NEW CINGULAR WIRELESS PCS, LLC  KNKN848   \n",
       "1 -9048571.812  4669794.346    2  NEW CINGULAR WIRELESS PCS, LLC  KNKN848   \n",
       "2 -9085652.349  4727002.648    3  NEW CINGULAR WIRELESS PCS, LLC  KNKN848   \n",
       "3 -9086453.847  4673842.515    4  NEW CINGULAR WIRELESS PCS, LLC  KNKN848   \n",
       "4 -9118736.510  4699966.169    5  NEW CINGULAR WIRELESS PCS, LLC  KNKN848   \n",
       "\n",
       "   LOCNUM   LAT_DMS LATDIR   LON_DMS LONDIR  ...       LOCCITY LOCCOUNTY  \\\n",
       "0       2  38,55,28      N   81,4,55      W  ...   GRANTSVILLE   CALHOUN   \n",
       "1       6  38,38,13      N   81,17,5      W  ...   LOONEYVILLE     ROANE   \n",
       "2       7   39,2,14      N   81,37,4      W  ...  MURRAYSVILLE   JACKSON   \n",
       "3       9  38,39,55      N  81,37,30      W  ...         KENNA   JACKSON   \n",
       "4      10  38,50,54      N  81,54,54      W  ...    MOUNT ALTO     MASON   \n",
       "\n",
       "  LOCSTATE NEPA QZONE     TOWREG  SUPSTRUC  ALLSTRUC  STRUCTYPE LIC_ID  \n",
       "0       WV    N   NaN        NaN      36.3      37.8       POLE  11497  \n",
       "1       WV    N   NaN  1002593.0     123.1     125.6      TOWER  11497  \n",
       "2       WV    N   NaN        NaN      55.2      59.1       MAST  11497  \n",
       "3       WV    N   NaN  1034261.0     123.1     125.9      TOWER  11497  \n",
       "4       WV    N   NaN  1219729.0      80.8      83.8       MAST  11497  \n",
       "\n",
       "[5 rows x 21 columns]"
      ]
     },
     "execution_count": 4,
     "metadata": {},
     "output_type": "execute_result"
    }
   ],
   "source": [
    "towers_csv = Path(\"../data/cellular_towers.csv\")\n",
    "towers_df = pd.read_csv(towers_csv)\n",
    "towers_df.head()"
   ]
  },
  {
   "cell_type": "code",
   "execution_count": 5,
   "metadata": {},
   "outputs": [],
   "source": [
    "towers_df.drop(columns = [\"X\", \"Y\", \"FID\", \"LICENSEE\", \"CALLSIGN\", \"LOCNUM\", \"LOCADD\", \"QZONE\", \"TOWREG\", \"SUPSTRUC\", \"ALLSTRUC\", \"STRUCTYPE\", \"LIC_ID\", \"NEPA\"], inplace = True)"
   ]
  },
  {
   "cell_type": "code",
   "execution_count": 6,
   "metadata": {},
   "outputs": [
    {
     "data": {
      "text/html": [
       "<div>\n",
       "<style scoped>\n",
       "    .dataframe tbody tr th:only-of-type {\n",
       "        vertical-align: middle;\n",
       "    }\n",
       "\n",
       "    .dataframe tbody tr th {\n",
       "        vertical-align: top;\n",
       "    }\n",
       "\n",
       "    .dataframe thead th {\n",
       "        text-align: right;\n",
       "    }\n",
       "</style>\n",
       "<table border=\"1\" class=\"dataframe\">\n",
       "  <thead>\n",
       "    <tr style=\"text-align: right;\">\n",
       "      <th></th>\n",
       "      <th>LAT_DMS</th>\n",
       "      <th>LATDIR</th>\n",
       "      <th>LON_DMS</th>\n",
       "      <th>LONDIR</th>\n",
       "      <th>LOCCITY</th>\n",
       "      <th>LOCCOUNTY</th>\n",
       "      <th>LOCSTATE</th>\n",
       "    </tr>\n",
       "  </thead>\n",
       "  <tbody>\n",
       "    <tr>\n",
       "      <th>0</th>\n",
       "      <td>38,55,28</td>\n",
       "      <td>N</td>\n",
       "      <td>81,4,55</td>\n",
       "      <td>W</td>\n",
       "      <td>GRANTSVILLE</td>\n",
       "      <td>CALHOUN</td>\n",
       "      <td>WV</td>\n",
       "    </tr>\n",
       "    <tr>\n",
       "      <th>1</th>\n",
       "      <td>38,38,13</td>\n",
       "      <td>N</td>\n",
       "      <td>81,17,5</td>\n",
       "      <td>W</td>\n",
       "      <td>LOONEYVILLE</td>\n",
       "      <td>ROANE</td>\n",
       "      <td>WV</td>\n",
       "    </tr>\n",
       "    <tr>\n",
       "      <th>2</th>\n",
       "      <td>39,2,14</td>\n",
       "      <td>N</td>\n",
       "      <td>81,37,4</td>\n",
       "      <td>W</td>\n",
       "      <td>MURRAYSVILLE</td>\n",
       "      <td>JACKSON</td>\n",
       "      <td>WV</td>\n",
       "    </tr>\n",
       "    <tr>\n",
       "      <th>3</th>\n",
       "      <td>38,39,55</td>\n",
       "      <td>N</td>\n",
       "      <td>81,37,30</td>\n",
       "      <td>W</td>\n",
       "      <td>KENNA</td>\n",
       "      <td>JACKSON</td>\n",
       "      <td>WV</td>\n",
       "    </tr>\n",
       "    <tr>\n",
       "      <th>4</th>\n",
       "      <td>38,50,54</td>\n",
       "      <td>N</td>\n",
       "      <td>81,54,54</td>\n",
       "      <td>W</td>\n",
       "      <td>MOUNT ALTO</td>\n",
       "      <td>MASON</td>\n",
       "      <td>WV</td>\n",
       "    </tr>\n",
       "  </tbody>\n",
       "</table>\n",
       "</div>"
      ],
      "text/plain": [
       "    LAT_DMS LATDIR   LON_DMS LONDIR       LOCCITY LOCCOUNTY LOCSTATE\n",
       "0  38,55,28      N   81,4,55      W   GRANTSVILLE   CALHOUN       WV\n",
       "1  38,38,13      N   81,17,5      W   LOONEYVILLE     ROANE       WV\n",
       "2   39,2,14      N   81,37,4      W  MURRAYSVILLE   JACKSON       WV\n",
       "3  38,39,55      N  81,37,30      W         KENNA   JACKSON       WV\n",
       "4  38,50,54      N  81,54,54      W    MOUNT ALTO     MASON       WV"
      ]
     },
     "execution_count": 6,
     "metadata": {},
     "output_type": "execute_result"
    }
   ],
   "source": [
    "towers_df.head()"
   ]
  },
  {
   "cell_type": "code",
   "execution_count": 66,
   "metadata": {},
   "outputs": [
    {
     "data": {
      "text/html": [
       "<div>\n",
       "<style scoped>\n",
       "    .dataframe tbody tr th:only-of-type {\n",
       "        vertical-align: middle;\n",
       "    }\n",
       "\n",
       "    .dataframe tbody tr th {\n",
       "        vertical-align: top;\n",
       "    }\n",
       "\n",
       "    .dataframe thead th {\n",
       "        text-align: right;\n",
       "    }\n",
       "</style>\n",
       "<table border=\"1\" class=\"dataframe\">\n",
       "  <thead>\n",
       "    <tr style=\"text-align: right;\">\n",
       "      <th></th>\n",
       "      <th>LAT_DMS</th>\n",
       "      <th>LATDIR</th>\n",
       "      <th>LON_DMS</th>\n",
       "      <th>LONDIR</th>\n",
       "      <th>LOCCITY</th>\n",
       "      <th>LOCCOUNTY</th>\n",
       "      <th>LOCSTATE</th>\n",
       "    </tr>\n",
       "  </thead>\n",
       "  <tbody>\n",
       "    <tr>\n",
       "      <th>10958</th>\n",
       "      <td>34,5,29</td>\n",
       "      <td>N</td>\n",
       "      <td>118,50,12</td>\n",
       "      <td>W</td>\n",
       "      <td>LOS ANGELES</td>\n",
       "      <td>LOS ANGELES</td>\n",
       "      <td>CA</td>\n",
       "    </tr>\n",
       "    <tr>\n",
       "      <th>11416</th>\n",
       "      <td>34,23,11</td>\n",
       "      <td>N</td>\n",
       "      <td>118,19,47</td>\n",
       "      <td>W</td>\n",
       "      <td>LOS ANGELES</td>\n",
       "      <td>LOS ANGELES</td>\n",
       "      <td>CA</td>\n",
       "    </tr>\n",
       "    <tr>\n",
       "      <th>11491</th>\n",
       "      <td>34,4,35</td>\n",
       "      <td>N</td>\n",
       "      <td>118,28,8</td>\n",
       "      <td>W</td>\n",
       "      <td>LOS ANGELES</td>\n",
       "      <td>LOS ANGELES</td>\n",
       "      <td>CA</td>\n",
       "    </tr>\n",
       "    <tr>\n",
       "      <th>6165</th>\n",
       "      <td>37,46,55</td>\n",
       "      <td>N</td>\n",
       "      <td>122,28,28</td>\n",
       "      <td>W</td>\n",
       "      <td>SAN FRANCISCO</td>\n",
       "      <td>SAN FRANCISCO</td>\n",
       "      <td>CA</td>\n",
       "    </tr>\n",
       "    <tr>\n",
       "      <th>6169</th>\n",
       "      <td>37,46,8</td>\n",
       "      <td>N</td>\n",
       "      <td>122,24,19</td>\n",
       "      <td>W</td>\n",
       "      <td>SAN FRANCISCO</td>\n",
       "      <td>SAN FRANCISCO</td>\n",
       "      <td>CA</td>\n",
       "    </tr>\n",
       "  </tbody>\n",
       "</table>\n",
       "</div>"
      ],
      "text/plain": [
       "        LAT_DMS LATDIR    LON_DMS LONDIR        LOCCITY      LOCCOUNTY  \\\n",
       "10958   34,5,29      N  118,50,12      W    LOS ANGELES    LOS ANGELES   \n",
       "11416  34,23,11      N  118,19,47      W    LOS ANGELES    LOS ANGELES   \n",
       "11491   34,4,35      N   118,28,8      W    LOS ANGELES    LOS ANGELES   \n",
       "6165   37,46,55      N  122,28,28      W  SAN FRANCISCO  SAN FRANCISCO   \n",
       "6169    37,46,8      N  122,24,19      W  SAN FRANCISCO  SAN FRANCISCO   \n",
       "\n",
       "      LOCSTATE  \n",
       "10958       CA  \n",
       "11416       CA  \n",
       "11491       CA  \n",
       "6165        CA  \n",
       "6169        CA  "
      ]
     },
     "execution_count": 66,
     "metadata": {},
     "output_type": "execute_result"
    }
   ],
   "source": [
    "counties = ['LOS ANGELES', 'SAN FRANCISCO', 'FORT COLLINS', 'ATLANTA', 'KANSAS CITY', 'LAFAYETTE', 'WILSON', 'NEW YORK', 'CLEVELAND', 'SEATTLE', 'HOUSTON']\n",
    "\n",
    "la = towers_df.loc[towers_df['LOCCITY'] == 'LOS ANGELES']\n",
    "sf = towers_df.loc[towers_df['LOCCITY'] == 'SAN FRANCISCO']\n",
    "fc = towers_df.loc[towers_df['LOCCITY'] == 'FORT COLLINS']\n",
    "at = towers_df.loc[towers_df['LOCCITY'] == 'ATLANTA']\n",
    "kc = towers_df.loc[towers_df['LOCCITY'] == 'KANSAS CITY']\n",
    "lf = towers_df.loc[towers_df['LOCCITY'] == 'LAFAYETTE']\n",
    "wi = towers_df.loc[towers_df['LOCCITY'] == 'WILSON']\n",
    "ny = towers_df.loc[towers_df['LOCCITY'] == 'NEW YORK']\n",
    "cl = towers_df.loc[towers_df['LOCCITY'] == 'CLEVELAND']\n",
    "se = towers_df.loc[towers_df['LOCCITY'] == 'SEATTLE']\n",
    "ho = towers_df.loc[towers_df['LOCCITY'] == 'HOUSTON']\n",
    "\n",
    "con_df = pd.concat([la, sf, fc, at, kc, lf, wi, ny, cl, se, ho], axis = 'index', join = 'inner')\n",
    "con_df.head()"
   ]
  },
  {
   "cell_type": "code",
   "execution_count": 67,
   "metadata": {},
   "outputs": [],
   "source": [
    "con_df[\"LAT_DMS\"] = con_df[\"LAT_DMS\"].str.replace(',', ' ')\n",
    "con_df[\"LON_DMS\"] = con_df[\"LON_DMS\"].str.replace(',', ' ')\n",
    "lat = con_df['LAT_DMS'].str.split(\" \", n=2,expand=True)\n",
    "con_df[\"lat_d\"] = lat[0]\n",
    "con_df[\"lat_m\"] = lat[1]\n",
    "con_df[\"lat_s\"] = lat[2]\n",
    "lon = con_df['LON_DMS'].str.split(\" \", n=2,expand=True)\n",
    "con_df[\"lon_d\"] = lon[0]\n",
    "con_df[\"lon_m\"] = lon[1]\n",
    "con_df[\"lon_s\"] = lon[2]\n",
    "con_df.drop(columns=[\"LAT_DMS\", \"LON_DMS\"], inplace=True)"
   ]
  },
  {
   "cell_type": "code",
   "execution_count": 68,
   "metadata": {},
   "outputs": [],
   "source": [
    "con_df[\"lat_d\"] = con_df[\"lat_d\"].astype('float64')\n",
    "con_df[\"lat_m\"] = con_df[\"lat_m\"].astype('float64')\n",
    "con_df[\"lat_s\"] = con_df[\"lat_s\"].astype('float64')\n",
    "con_df[\"lon_d\"] = con_df[\"lon_d\"].astype('float64')\n",
    "con_df[\"lon_m\"] = con_df[\"lon_m\"].astype('float64')\n",
    "con_df[\"lon_s\"] = con_df[\"lon_s\"].astype('float64')"
   ]
  },
  {
   "cell_type": "code",
   "execution_count": 69,
   "metadata": {},
   "outputs": [
    {
     "data": {
      "text/html": [
       "<div>\n",
       "<style scoped>\n",
       "    .dataframe tbody tr th:only-of-type {\n",
       "        vertical-align: middle;\n",
       "    }\n",
       "\n",
       "    .dataframe tbody tr th {\n",
       "        vertical-align: top;\n",
       "    }\n",
       "\n",
       "    .dataframe thead th {\n",
       "        text-align: right;\n",
       "    }\n",
       "</style>\n",
       "<table border=\"1\" class=\"dataframe\">\n",
       "  <thead>\n",
       "    <tr style=\"text-align: right;\">\n",
       "      <th></th>\n",
       "      <th>LATDIR</th>\n",
       "      <th>LONDIR</th>\n",
       "      <th>LOCCITY</th>\n",
       "      <th>LOCCOUNTY</th>\n",
       "      <th>LOCSTATE</th>\n",
       "      <th>lat_d</th>\n",
       "      <th>lat_m</th>\n",
       "      <th>lat_s</th>\n",
       "      <th>lon_d</th>\n",
       "      <th>lon_m</th>\n",
       "      <th>lon_s</th>\n",
       "      <th>latitude</th>\n",
       "      <th>longitude</th>\n",
       "    </tr>\n",
       "  </thead>\n",
       "  <tbody>\n",
       "    <tr>\n",
       "      <th>10958</th>\n",
       "      <td>N</td>\n",
       "      <td>W</td>\n",
       "      <td>LOS ANGELES</td>\n",
       "      <td>LOS ANGELES</td>\n",
       "      <td>CA</td>\n",
       "      <td>34.0</td>\n",
       "      <td>5.0</td>\n",
       "      <td>29.0</td>\n",
       "      <td>118.0</td>\n",
       "      <td>50.0</td>\n",
       "      <td>12.0</td>\n",
       "      <td>34.091389</td>\n",
       "      <td>-118.836667</td>\n",
       "    </tr>\n",
       "    <tr>\n",
       "      <th>11416</th>\n",
       "      <td>N</td>\n",
       "      <td>W</td>\n",
       "      <td>LOS ANGELES</td>\n",
       "      <td>LOS ANGELES</td>\n",
       "      <td>CA</td>\n",
       "      <td>34.0</td>\n",
       "      <td>23.0</td>\n",
       "      <td>11.0</td>\n",
       "      <td>118.0</td>\n",
       "      <td>19.0</td>\n",
       "      <td>47.0</td>\n",
       "      <td>34.386389</td>\n",
       "      <td>-118.329722</td>\n",
       "    </tr>\n",
       "    <tr>\n",
       "      <th>11491</th>\n",
       "      <td>N</td>\n",
       "      <td>W</td>\n",
       "      <td>LOS ANGELES</td>\n",
       "      <td>LOS ANGELES</td>\n",
       "      <td>CA</td>\n",
       "      <td>34.0</td>\n",
       "      <td>4.0</td>\n",
       "      <td>35.0</td>\n",
       "      <td>118.0</td>\n",
       "      <td>28.0</td>\n",
       "      <td>8.0</td>\n",
       "      <td>34.076389</td>\n",
       "      <td>-118.468889</td>\n",
       "    </tr>\n",
       "    <tr>\n",
       "      <th>6165</th>\n",
       "      <td>N</td>\n",
       "      <td>W</td>\n",
       "      <td>SAN FRANCISCO</td>\n",
       "      <td>SAN FRANCISCO</td>\n",
       "      <td>CA</td>\n",
       "      <td>37.0</td>\n",
       "      <td>46.0</td>\n",
       "      <td>55.0</td>\n",
       "      <td>122.0</td>\n",
       "      <td>28.0</td>\n",
       "      <td>28.0</td>\n",
       "      <td>37.781944</td>\n",
       "      <td>-122.474444</td>\n",
       "    </tr>\n",
       "    <tr>\n",
       "      <th>6169</th>\n",
       "      <td>N</td>\n",
       "      <td>W</td>\n",
       "      <td>SAN FRANCISCO</td>\n",
       "      <td>SAN FRANCISCO</td>\n",
       "      <td>CA</td>\n",
       "      <td>37.0</td>\n",
       "      <td>46.0</td>\n",
       "      <td>8.0</td>\n",
       "      <td>122.0</td>\n",
       "      <td>24.0</td>\n",
       "      <td>19.0</td>\n",
       "      <td>37.768889</td>\n",
       "      <td>-122.405278</td>\n",
       "    </tr>\n",
       "  </tbody>\n",
       "</table>\n",
       "</div>"
      ],
      "text/plain": [
       "      LATDIR LONDIR        LOCCITY      LOCCOUNTY LOCSTATE  lat_d  lat_m  \\\n",
       "10958      N      W    LOS ANGELES    LOS ANGELES       CA   34.0    5.0   \n",
       "11416      N      W    LOS ANGELES    LOS ANGELES       CA   34.0   23.0   \n",
       "11491      N      W    LOS ANGELES    LOS ANGELES       CA   34.0    4.0   \n",
       "6165       N      W  SAN FRANCISCO  SAN FRANCISCO       CA   37.0   46.0   \n",
       "6169       N      W  SAN FRANCISCO  SAN FRANCISCO       CA   37.0   46.0   \n",
       "\n",
       "       lat_s  lon_d  lon_m  lon_s   latitude   longitude  \n",
       "10958   29.0  118.0   50.0   12.0  34.091389 -118.836667  \n",
       "11416   11.0  118.0   19.0   47.0  34.386389 -118.329722  \n",
       "11491   35.0  118.0   28.0    8.0  34.076389 -118.468889  \n",
       "6165    55.0  122.0   28.0   28.0  37.781944 -122.474444  \n",
       "6169     8.0  122.0   24.0   19.0  37.768889 -122.405278  "
      ]
     },
     "execution_count": 69,
     "metadata": {},
     "output_type": "execute_result"
    }
   ],
   "source": [
    "latd = con_df[\"lat_d\"]\n",
    "latm = con_df[\"lat_m\"]\n",
    "lats = con_df[\"lat_s\"]\n",
    "lond = con_df[\"lon_d\"]\n",
    "lonm = con_df[\"lon_m\"]\n",
    "lons = con_df[\"lon_s\"]\n",
    "\n",
    "for column in con_df:\n",
    "    con_df['latitude'] = latd + (latm/60) + (lats/3600)\n",
    "    con_df['longitude'] = -1*(lond + (lonm/60) + (lons/3600))\n",
    "    \n",
    "con_df.head()"
   ]
  },
  {
   "cell_type": "code",
   "execution_count": 72,
   "metadata": {},
   "outputs": [
    {
     "data": {
      "application/vnd.plotly.v1+json": {
       "config": {
        "plotlyServerURL": "https://plot.ly"
       },
       "data": [
        {
         "lat": [
          34.09138888888889,
          34.38638888888889,
          34.07638888888889,
          37.78194444444444,
          37.76888888888889,
          37.735,
          37.78138888888889,
          37.76611111111111,
          37.77583333333333,
          37.71361111111111,
          37.781666666666666,
          37.75083333333333,
          37.60888888888889,
          37.72527777777778,
          37.74666666666667,
          37.79361111111111,
          37.72416666666667,
          37.76277777777778,
          37.78638888888889,
          37.794444444444444,
          37.79055555555556,
          37.7875,
          37.8075,
          37.78361111111111,
          40.52194444444444,
          40.58305555555556,
          40.573888888888895,
          40.49333333333333,
          40.8675,
          40.18138888888889,
          40.19888888888889,
          40.261944444444445,
          39.89861111111111,
          33.297777777777775,
          33.778888888888886,
          33.90694444444444,
          45.01444444444444,
          31.844166666666666,
          40.24444444444445,
          33.135555555555555,
          39.51722222222222,
          39.32944444444445,
          39.10944444444445,
          39.23166666666667,
          39.163888888888884,
          39.027499999999996,
          39.10916666666667,
          32.93222222222222,
          45.23722222222222,
          30.190555555555555,
          30.209166666666665,
          30.191666666666666,
          30.221666666666664,
          30.279722222222222,
          30.147777777777776,
          30.224444444444444,
          30.161944444444444,
          30.168333333333333,
          30.249722222222225,
          30.21972222222222,
          30.17527777777778,
          30.144166666666667,
          30.145,
          34.686388888888885,
          44.45583333333334,
          37.900277777777774,
          40.47527777777778,
          40.378055555555555,
          40.37638888888889,
          36.509166666666665,
          36.50944444444445,
          34.69361111111111,
          40.496944444444445,
          40.468333333333334,
          40.32055555555556,
          40.338055555555556,
          40.52111111111111,
          45.23722222222222,
          34.151666666666664,
          43.29888888888889,
          38.849722222222226,
          38.849722222222226,
          38.927499999999995,
          35.766666666666666,
          35.69027777777777,
          35.845,
          35.67055555555555,
          43.299166666666665,
          34.20055555555556,
          43.573055555555555,
          43.494166666666665,
          38.849722222222226,
          35.73972222222222,
          35.65611111111111,
          35.75861111111111,
          40.73583333333333,
          43.861666666666665,
          33.72666666666667,
          41.552499999999995,
          41.48888888888889,
          33.72666666666667,
          33.75555555555555,
          35.20055555555556,
          35.13055555555555,
          35.000277777777775,
          30.342777777777776,
          30.3275,
          38.629444444444445,
          41.49611111111111,
          41.529444444444444,
          41.452222222222225,
          41.47694444444445,
          41.50694444444444,
          41.54222222222222,
          41.56944444444445,
          41.48833333333334,
          36.34666666666667,
          35.13055555555555,
          34.565555555555555,
          34.56361111111111,
          35.20111111111111,
          35.14666666666667,
          30.41444444444444,
          43.98638888888889,
          34.566111111111105,
          34.01277777777778,
          35.736666666666665,
          47.668055555555554,
          47.776944444444446,
          47.612500000000004,
          47.63944444444444,
          47.697222222222216,
          33.92972222222222,
          37.36638888888889,
          33.87833333333333,
          37.34305555555556,
          29.011666666666667,
          29.814444444444444,
          29.623333333333335,
          29.638055555555557,
          30.052500000000002,
          29.793333333333337,
          29.748333333333335
         ],
         "lon": [
          -118.83666666666666,
          -118.32972222222222,
          -118.46888888888888,
          -122.47444444444444,
          -122.40527777777778,
          -122.4075,
          -122.42055555555557,
          -122.42166666666667,
          -122.3913888888889,
          -122.47194444444445,
          -122.40194444444445,
          -122.40333333333334,
          -122.38805555555557,
          -122.43388888888889,
          -122.42027777777778,
          -122.39833333333334,
          -122.4,
          -122.48416666666667,
          -122.39250000000001,
          -122.43555555555555,
          -122.40583333333333,
          -122.39555555555556,
          -122.47611111111111,
          -122.40833333333335,
          -105.14333333333335,
          -105.07833333333333,
          -105.11722222222221,
          -105.18166666666667,
          -105.64333333333335,
          -86.09138888888889,
          -86.01055555555556,
          -89.22416666666666,
          -92.47888888888889,
          -83.92750000000001,
          -84.38583333333334,
          -84.34916666666666,
          -84.03888888888889,
          -92.70694444444445,
          -89.24861111111112,
          -94.1613888888889,
          -94.79138888888889,
          -94.58194444444445,
          -94.78416666666666,
          -94.73416666666667,
          -94.81611111111111,
          -94.515,
          -94.83416666666666,
          -85.39750000000001,
          -123.11611111111111,
          -92.07972222222222,
          -92.04194444444444,
          -92.01694444444445,
          -91.98861111111111,
          -92.02111111111111,
          -92.09777777777778,
          -92.01583333333333,
          -92.045,
          -92.01833333333333,
          -92.01055555555556,
          -92.06611111111111,
          -92.07472222222222,
          -92.03527777777778,
          -92.07972222222222,
          -85.19472222222223,
          -94.41083333333334,
          -122.08611111111111,
          -87.00027777777778,
          -86.91861111111112,
          -86.81611111111111,
          -85.98972222222223,
          -85.98833333333333,
          -85.26972222222223,
          -86.93388888888889,
          -87.04583333333333,
          -86.74972222222222,
          -86.96888888888888,
          -86.76138888888889,
          -123.11611111111111,
          -97.4713888888889,
          -78.82416666666666,
          -98.34166666666667,
          -98.34166666666667,
          -98.47638888888889,
          -77.87777777777777,
          -77.93833333333333,
          -77.97027777777778,
          -77.80638888888889,
          -78.82416666666666,
          -97.42527777777778,
          -110.81555555555555,
          -110.95472222222223,
          -98.34166666666667,
          -77.86,
          -77.81805555555555,
          -78.00722222222223,
          -73.98833333333333,
          -87.77222222222223,
          -90.72888888888889,
          -81.55277777777778,
          -81.66361111111112,
          -90.72888888888889,
          -90.71944444444445,
          -84.88277777777778,
          -84.86194444444443,
          -84.9225,
          -95.12527777777777,
          -95.30166666666666,
          -94.58944444444444,
          -81.68111111111112,
          -81.63944444444445,
          -81.72527777777778,
          -81.66305555555556,
          -81.68972222222223,
          -81.61638888888888,
          -81.55694444444444,
          -81.72888888888889,
          -96.42527777777778,
          -84.86194444444443,
          -83.77805555555555,
          -83.64055555555557,
          -84.88333333333334,
          -84.90777777777778,
          -94.9088888888889,
          -87.76472222222222,
          -83.7775,
          -86.56722222222221,
          -80.64750000000001,
          -122.38055555555555,
          -122.32527777777777,
          -122.29527777777777,
          -122.39916666666667,
          -122.31805555555555,
          -89.01861111111111,
          -91.92,
          -88.98472222222222,
          -91.91805555555555,
          -95.4063888888889,
          -95.14416666666668,
          -95.2325,
          -95.325,
          -95.59055555555555,
          -95.525,
          -95.35305555555556
         ],
         "mode": "markers",
         "text": [
          "LOS ANGELES CA CELLTOWER",
          "LOS ANGELES CA CELLTOWER",
          "LOS ANGELES CA CELLTOWER",
          "SAN FRANCISCO CA CELLTOWER",
          "SAN FRANCISCO CA CELLTOWER",
          "SAN FRANCISCO CA CELLTOWER",
          "SAN FRANCISCO CA CELLTOWER",
          "SAN FRANCISCO CA CELLTOWER",
          "SAN FRANCISCO CA CELLTOWER",
          "SAN FRANCISCO CA CELLTOWER",
          "SAN FRANCISCO CA CELLTOWER",
          "SAN FRANCISCO CA CELLTOWER",
          "SAN FRANCISCO CA CELLTOWER",
          "SAN FRANCISCO CA CELLTOWER",
          "SAN FRANCISCO CA CELLTOWER",
          "SAN FRANCISCO CA CELLTOWER",
          "SAN FRANCISCO CA CELLTOWER",
          "SAN FRANCISCO CA CELLTOWER",
          "SAN FRANCISCO CA CELLTOWER",
          "SAN FRANCISCO CA CELLTOWER",
          "SAN FRANCISCO CA CELLTOWER",
          "SAN FRANCISCO CA CELLTOWER",
          "SAN FRANCISCO CA CELLTOWER",
          "SAN FRANCISCO CA CELLTOWER",
          "FORT COLLINS CO CELLTOWER",
          "FORT COLLINS CO CELLTOWER",
          "FORT COLLINS CO CELLTOWER",
          "FORT COLLINS CO CELLTOWER",
          "FORT COLLINS CO CELLTOWER",
          "ATLANTA IN CELLTOWER",
          "ATLANTA IN CELLTOWER",
          "ATLANTA IL CELLTOWER",
          "ATLANTA MO CELLTOWER",
          "ATLANTA GA CELLTOWER",
          "ATLANTA GA CELLTOWER",
          "ATLANTA GA CELLTOWER",
          "ATLANTA MI CELLTOWER",
          "ATLANTA LA CELLTOWER",
          "ATLANTA IL CELLTOWER",
          "ATLANTA TX CELLTOWER",
          "KANSAS CITY MO CELLTOWER",
          "KANSAS CITY MO CELLTOWER",
          "KANSAS CITY KS CELLTOWER",
          "KANSAS CITY MO CELLTOWER",
          "KANSAS CITY KS CELLTOWER",
          "KANSAS CITY MO CELLTOWER",
          "KANSAS CITY KS CELLTOWER",
          "LAFAYETTE AL CELLTOWER",
          "LAFAYETTE OR CELLTOWER",
          "LAFAYETTE LA CELLTOWER",
          "LAFAYETTE LA CELLTOWER",
          "LAFAYETTE LA CELLTOWER",
          "LAFAYETTE LA CELLTOWER",
          "LAFAYETTE LA CELLTOWER",
          "LAFAYETTE LA CELLTOWER",
          "LAFAYETTE LA CELLTOWER",
          "LAFAYETTE LA CELLTOWER",
          "LAFAYETTE LA CELLTOWER",
          "LAFAYETTE LA CELLTOWER",
          "LAFAYETTE LA CELLTOWER",
          "LAFAYETTE LA CELLTOWER",
          "LAFAYETTE LA CELLTOWER",
          "LAFAYETTE LA CELLTOWER",
          "LAFAYETTE GA CELLTOWER",
          "LAFAYETTE MN CELLTOWER",
          "LAFAYETTE CA CELLTOWER",
          "LAFAYETTE IN CELLTOWER",
          "LAFAYETTE IN CELLTOWER",
          "LAFAYETTE IN CELLTOWER",
          "LAFAYETTE TN CELLTOWER",
          "LAFAYETTE TN CELLTOWER",
          "LAFAYETTE GA CELLTOWER",
          "LAFAYETTE IN CELLTOWER",
          "LAFAYETTE IN CELLTOWER",
          "LAFAYETTE IN CELLTOWER",
          "LAFAYETTE IN CELLTOWER",
          "LAFAYETTE IN CELLTOWER",
          "LAFAYETTE OR CELLTOWER",
          "WILSON OK CELLTOWER",
          "WILSON NY CELLTOWER",
          "WILSON KS CELLTOWER",
          "WILSON KS CELLTOWER",
          "WILSON KS CELLTOWER",
          "WILSON NC CELLTOWER",
          "WILSON NC CELLTOWER",
          "WILSON NC CELLTOWER",
          "WILSON NC CELLTOWER",
          "WILSON NY CELLTOWER",
          "WILSON OK CELLTOWER",
          "WILSON WY CELLTOWER",
          "WILSON WY CELLTOWER",
          "WILSON KS CELLTOWER",
          "WILSON NC CELLTOWER",
          "WILSON NC CELLTOWER",
          "WILSON NC CELLTOWER",
          "NEW YORK NY CELLTOWER",
          "CLEVELAND WI CELLTOWER",
          "CLEVELAND MS CELLTOWER",
          "CLEVELAND OH CELLTOWER",
          "CLEVELAND OH CELLTOWER",
          "CLEVELAND MS CELLTOWER",
          "CLEVELAND MS CELLTOWER",
          "CLEVELAND TN CELLTOWER",
          "CLEVELAND TN CELLTOWER",
          "CLEVELAND TN CELLTOWER",
          "CLEVELAND TX CELLTOWER",
          "CLEVELAND TX CELLTOWER",
          "CLEVELAND MO CELLTOWER",
          "CLEVELAND OH CELLTOWER",
          "CLEVELAND OH CELLTOWER",
          "CLEVELAND OH CELLTOWER",
          "CLEVELAND OH CELLTOWER",
          "CLEVELAND OH CELLTOWER",
          "CLEVELAND OH CELLTOWER",
          "CLEVELAND OH CELLTOWER",
          "CLEVELAND OH CELLTOWER",
          "CLEVELAND OK CELLTOWER",
          "CLEVELAND TN CELLTOWER",
          "CLEVELAND GA CELLTOWER",
          "CLEVELAND GA CELLTOWER",
          "CLEVELAND TN CELLTOWER",
          "CLEVELAND TN CELLTOWER",
          "CLEVELAND TX CELLTOWER",
          "CLEVELAND WI CELLTOWER",
          "CLEVELAND GA CELLTOWER",
          "CLEVELAND AL CELLTOWER",
          "CLEVELAND NC CELLTOWER",
          "SEATTLE WA CELLTOWER",
          "SEATTLE WA CELLTOWER",
          "SEATTLE WA CELLTOWER",
          "SEATTLE WA CELLTOWER",
          "SEATTLE WA CELLTOWER",
          "HOUSTON MS CELLTOWER",
          "HOUSTON MO CELLTOWER",
          "HOUSTON MS CELLTOWER",
          "HOUSTON MO CELLTOWER",
          "HOUSTON TX CELLTOWER",
          "HOUSTON TX CELLTOWER",
          "HOUSTON TX CELLTOWER",
          "HOUSTON TX CELLTOWER",
          "HOUSTON TX CELLTOWER",
          "HOUSTON TX CELLTOWER",
          "HOUSTON TX CELLTOWER"
         ],
         "type": "scattergeo"
        }
       ],
       "layout": {
        "autosize": true,
        "geo": {
         "scope": "usa"
        },
        "template": {
         "data": {
          "bar": [
           {
            "error_x": {
             "color": "#2a3f5f"
            },
            "error_y": {
             "color": "#2a3f5f"
            },
            "marker": {
             "line": {
              "color": "#E5ECF6",
              "width": 0.5
             }
            },
            "type": "bar"
           }
          ],
          "barpolar": [
           {
            "marker": {
             "line": {
              "color": "#E5ECF6",
              "width": 0.5
             }
            },
            "type": "barpolar"
           }
          ],
          "carpet": [
           {
            "aaxis": {
             "endlinecolor": "#2a3f5f",
             "gridcolor": "white",
             "linecolor": "white",
             "minorgridcolor": "white",
             "startlinecolor": "#2a3f5f"
            },
            "baxis": {
             "endlinecolor": "#2a3f5f",
             "gridcolor": "white",
             "linecolor": "white",
             "minorgridcolor": "white",
             "startlinecolor": "#2a3f5f"
            },
            "type": "carpet"
           }
          ],
          "choropleth": [
           {
            "colorbar": {
             "outlinewidth": 0,
             "ticks": ""
            },
            "type": "choropleth"
           }
          ],
          "contour": [
           {
            "colorbar": {
             "outlinewidth": 0,
             "ticks": ""
            },
            "colorscale": [
             [
              0,
              "#0d0887"
             ],
             [
              0.1111111111111111,
              "#46039f"
             ],
             [
              0.2222222222222222,
              "#7201a8"
             ],
             [
              0.3333333333333333,
              "#9c179e"
             ],
             [
              0.4444444444444444,
              "#bd3786"
             ],
             [
              0.5555555555555556,
              "#d8576b"
             ],
             [
              0.6666666666666666,
              "#ed7953"
             ],
             [
              0.7777777777777778,
              "#fb9f3a"
             ],
             [
              0.8888888888888888,
              "#fdca26"
             ],
             [
              1,
              "#f0f921"
             ]
            ],
            "type": "contour"
           }
          ],
          "contourcarpet": [
           {
            "colorbar": {
             "outlinewidth": 0,
             "ticks": ""
            },
            "type": "contourcarpet"
           }
          ],
          "heatmap": [
           {
            "colorbar": {
             "outlinewidth": 0,
             "ticks": ""
            },
            "colorscale": [
             [
              0,
              "#0d0887"
             ],
             [
              0.1111111111111111,
              "#46039f"
             ],
             [
              0.2222222222222222,
              "#7201a8"
             ],
             [
              0.3333333333333333,
              "#9c179e"
             ],
             [
              0.4444444444444444,
              "#bd3786"
             ],
             [
              0.5555555555555556,
              "#d8576b"
             ],
             [
              0.6666666666666666,
              "#ed7953"
             ],
             [
              0.7777777777777778,
              "#fb9f3a"
             ],
             [
              0.8888888888888888,
              "#fdca26"
             ],
             [
              1,
              "#f0f921"
             ]
            ],
            "type": "heatmap"
           }
          ],
          "heatmapgl": [
           {
            "colorbar": {
             "outlinewidth": 0,
             "ticks": ""
            },
            "colorscale": [
             [
              0,
              "#0d0887"
             ],
             [
              0.1111111111111111,
              "#46039f"
             ],
             [
              0.2222222222222222,
              "#7201a8"
             ],
             [
              0.3333333333333333,
              "#9c179e"
             ],
             [
              0.4444444444444444,
              "#bd3786"
             ],
             [
              0.5555555555555556,
              "#d8576b"
             ],
             [
              0.6666666666666666,
              "#ed7953"
             ],
             [
              0.7777777777777778,
              "#fb9f3a"
             ],
             [
              0.8888888888888888,
              "#fdca26"
             ],
             [
              1,
              "#f0f921"
             ]
            ],
            "type": "heatmapgl"
           }
          ],
          "histogram": [
           {
            "marker": {
             "colorbar": {
              "outlinewidth": 0,
              "ticks": ""
             }
            },
            "type": "histogram"
           }
          ],
          "histogram2d": [
           {
            "colorbar": {
             "outlinewidth": 0,
             "ticks": ""
            },
            "colorscale": [
             [
              0,
              "#0d0887"
             ],
             [
              0.1111111111111111,
              "#46039f"
             ],
             [
              0.2222222222222222,
              "#7201a8"
             ],
             [
              0.3333333333333333,
              "#9c179e"
             ],
             [
              0.4444444444444444,
              "#bd3786"
             ],
             [
              0.5555555555555556,
              "#d8576b"
             ],
             [
              0.6666666666666666,
              "#ed7953"
             ],
             [
              0.7777777777777778,
              "#fb9f3a"
             ],
             [
              0.8888888888888888,
              "#fdca26"
             ],
             [
              1,
              "#f0f921"
             ]
            ],
            "type": "histogram2d"
           }
          ],
          "histogram2dcontour": [
           {
            "colorbar": {
             "outlinewidth": 0,
             "ticks": ""
            },
            "colorscale": [
             [
              0,
              "#0d0887"
             ],
             [
              0.1111111111111111,
              "#46039f"
             ],
             [
              0.2222222222222222,
              "#7201a8"
             ],
             [
              0.3333333333333333,
              "#9c179e"
             ],
             [
              0.4444444444444444,
              "#bd3786"
             ],
             [
              0.5555555555555556,
              "#d8576b"
             ],
             [
              0.6666666666666666,
              "#ed7953"
             ],
             [
              0.7777777777777778,
              "#fb9f3a"
             ],
             [
              0.8888888888888888,
              "#fdca26"
             ],
             [
              1,
              "#f0f921"
             ]
            ],
            "type": "histogram2dcontour"
           }
          ],
          "mesh3d": [
           {
            "colorbar": {
             "outlinewidth": 0,
             "ticks": ""
            },
            "type": "mesh3d"
           }
          ],
          "parcoords": [
           {
            "line": {
             "colorbar": {
              "outlinewidth": 0,
              "ticks": ""
             }
            },
            "type": "parcoords"
           }
          ],
          "pie": [
           {
            "automargin": true,
            "type": "pie"
           }
          ],
          "scatter": [
           {
            "marker": {
             "colorbar": {
              "outlinewidth": 0,
              "ticks": ""
             }
            },
            "type": "scatter"
           }
          ],
          "scatter3d": [
           {
            "line": {
             "colorbar": {
              "outlinewidth": 0,
              "ticks": ""
             }
            },
            "marker": {
             "colorbar": {
              "outlinewidth": 0,
              "ticks": ""
             }
            },
            "type": "scatter3d"
           }
          ],
          "scattercarpet": [
           {
            "marker": {
             "colorbar": {
              "outlinewidth": 0,
              "ticks": ""
             }
            },
            "type": "scattercarpet"
           }
          ],
          "scattergeo": [
           {
            "marker": {
             "colorbar": {
              "outlinewidth": 0,
              "ticks": ""
             }
            },
            "type": "scattergeo"
           }
          ],
          "scattergl": [
           {
            "marker": {
             "colorbar": {
              "outlinewidth": 0,
              "ticks": ""
             }
            },
            "type": "scattergl"
           }
          ],
          "scattermapbox": [
           {
            "marker": {
             "colorbar": {
              "outlinewidth": 0,
              "ticks": ""
             }
            },
            "type": "scattermapbox"
           }
          ],
          "scatterpolar": [
           {
            "marker": {
             "colorbar": {
              "outlinewidth": 0,
              "ticks": ""
             }
            },
            "type": "scatterpolar"
           }
          ],
          "scatterpolargl": [
           {
            "marker": {
             "colorbar": {
              "outlinewidth": 0,
              "ticks": ""
             }
            },
            "type": "scatterpolargl"
           }
          ],
          "scatterternary": [
           {
            "marker": {
             "colorbar": {
              "outlinewidth": 0,
              "ticks": ""
             }
            },
            "type": "scatterternary"
           }
          ],
          "surface": [
           {
            "colorbar": {
             "outlinewidth": 0,
             "ticks": ""
            },
            "colorscale": [
             [
              0,
              "#0d0887"
             ],
             [
              0.1111111111111111,
              "#46039f"
             ],
             [
              0.2222222222222222,
              "#7201a8"
             ],
             [
              0.3333333333333333,
              "#9c179e"
             ],
             [
              0.4444444444444444,
              "#bd3786"
             ],
             [
              0.5555555555555556,
              "#d8576b"
             ],
             [
              0.6666666666666666,
              "#ed7953"
             ],
             [
              0.7777777777777778,
              "#fb9f3a"
             ],
             [
              0.8888888888888888,
              "#fdca26"
             ],
             [
              1,
              "#f0f921"
             ]
            ],
            "type": "surface"
           }
          ],
          "table": [
           {
            "cells": {
             "fill": {
              "color": "#EBF0F8"
             },
             "line": {
              "color": "white"
             }
            },
            "header": {
             "fill": {
              "color": "#C8D4E3"
             },
             "line": {
              "color": "white"
             }
            },
            "type": "table"
           }
          ]
         },
         "layout": {
          "annotationdefaults": {
           "arrowcolor": "#2a3f5f",
           "arrowhead": 0,
           "arrowwidth": 1
          },
          "coloraxis": {
           "colorbar": {
            "outlinewidth": 0,
            "ticks": ""
           }
          },
          "colorscale": {
           "diverging": [
            [
             0,
             "#8e0152"
            ],
            [
             0.1,
             "#c51b7d"
            ],
            [
             0.2,
             "#de77ae"
            ],
            [
             0.3,
             "#f1b6da"
            ],
            [
             0.4,
             "#fde0ef"
            ],
            [
             0.5,
             "#f7f7f7"
            ],
            [
             0.6,
             "#e6f5d0"
            ],
            [
             0.7,
             "#b8e186"
            ],
            [
             0.8,
             "#7fbc41"
            ],
            [
             0.9,
             "#4d9221"
            ],
            [
             1,
             "#276419"
            ]
           ],
           "sequential": [
            [
             0,
             "#0d0887"
            ],
            [
             0.1111111111111111,
             "#46039f"
            ],
            [
             0.2222222222222222,
             "#7201a8"
            ],
            [
             0.3333333333333333,
             "#9c179e"
            ],
            [
             0.4444444444444444,
             "#bd3786"
            ],
            [
             0.5555555555555556,
             "#d8576b"
            ],
            [
             0.6666666666666666,
             "#ed7953"
            ],
            [
             0.7777777777777778,
             "#fb9f3a"
            ],
            [
             0.8888888888888888,
             "#fdca26"
            ],
            [
             1,
             "#f0f921"
            ]
           ],
           "sequentialminus": [
            [
             0,
             "#0d0887"
            ],
            [
             0.1111111111111111,
             "#46039f"
            ],
            [
             0.2222222222222222,
             "#7201a8"
            ],
            [
             0.3333333333333333,
             "#9c179e"
            ],
            [
             0.4444444444444444,
             "#bd3786"
            ],
            [
             0.5555555555555556,
             "#d8576b"
            ],
            [
             0.6666666666666666,
             "#ed7953"
            ],
            [
             0.7777777777777778,
             "#fb9f3a"
            ],
            [
             0.8888888888888888,
             "#fdca26"
            ],
            [
             1,
             "#f0f921"
            ]
           ]
          },
          "colorway": [
           "#636efa",
           "#EF553B",
           "#00cc96",
           "#ab63fa",
           "#FFA15A",
           "#19d3f3",
           "#FF6692",
           "#B6E880",
           "#FF97FF",
           "#FECB52"
          ],
          "font": {
           "color": "#2a3f5f"
          },
          "geo": {
           "bgcolor": "white",
           "lakecolor": "white",
           "landcolor": "#E5ECF6",
           "showlakes": true,
           "showland": true,
           "subunitcolor": "white"
          },
          "hoverlabel": {
           "align": "left"
          },
          "hovermode": "closest",
          "mapbox": {
           "style": "light"
          },
          "paper_bgcolor": "white",
          "plot_bgcolor": "#E5ECF6",
          "polar": {
           "angularaxis": {
            "gridcolor": "white",
            "linecolor": "white",
            "ticks": ""
           },
           "bgcolor": "#E5ECF6",
           "radialaxis": {
            "gridcolor": "white",
            "linecolor": "white",
            "ticks": ""
           }
          },
          "scene": {
           "xaxis": {
            "backgroundcolor": "#E5ECF6",
            "gridcolor": "white",
            "gridwidth": 2,
            "linecolor": "white",
            "showbackground": true,
            "ticks": "",
            "zerolinecolor": "white"
           },
           "yaxis": {
            "backgroundcolor": "#E5ECF6",
            "gridcolor": "white",
            "gridwidth": 2,
            "linecolor": "white",
            "showbackground": true,
            "ticks": "",
            "zerolinecolor": "white"
           },
           "zaxis": {
            "backgroundcolor": "#E5ECF6",
            "gridcolor": "white",
            "gridwidth": 2,
            "linecolor": "white",
            "showbackground": true,
            "ticks": "",
            "zerolinecolor": "white"
           }
          },
          "shapedefaults": {
           "line": {
            "color": "#2a3f5f"
           }
          },
          "ternary": {
           "aaxis": {
            "gridcolor": "white",
            "linecolor": "white",
            "ticks": ""
           },
           "baxis": {
            "gridcolor": "white",
            "linecolor": "white",
            "ticks": ""
           },
           "bgcolor": "#E5ECF6",
           "caxis": {
            "gridcolor": "white",
            "linecolor": "white",
            "ticks": ""
           }
          },
          "title": {
           "x": 0.05
          },
          "xaxis": {
           "automargin": true,
           "gridcolor": "white",
           "linecolor": "white",
           "ticks": "",
           "title": {
            "standoff": 15
           },
           "zerolinecolor": "white",
           "zerolinewidth": 2
          },
          "yaxis": {
           "automargin": true,
           "gridcolor": "white",
           "linecolor": "white",
           "ticks": "",
           "title": {
            "standoff": 15
           },
           "zerolinecolor": "white",
           "zerolinewidth": 2
          }
         }
        },
        "title": {
         "text": "Locations of Cell Towers in the USA"
        }
       }
      },
      "image/png": "[encoded data removed]",
      "text/html": [
       "<div>                            <div id=\"af883c74-567a-4e6d-9d60-416c185e84b2\" class=\"plotly-graph-div\" style=\"height:525px; width:100%;\"></div>            <script type=\"text/javascript\">                require([\"plotly\"], function(Plotly) {                    window.PLOTLYENV=window.PLOTLYENV || {};                                    if (document.getElementById(\"af883c74-567a-4e6d-9d60-416c185e84b2\")) {                    Plotly.newPlot(                        \"af883c74-567a-4e6d-9d60-416c185e84b2\",                        [{\"lat\": [34.09138888888889, 34.38638888888889, 34.07638888888889, 37.78194444444444, 37.76888888888889, 37.735, 37.78138888888889, 37.76611111111111, 37.77583333333333, 37.71361111111111, 37.781666666666666, 37.75083333333333, 37.60888888888889, 37.72527777777778, 37.74666666666667, 37.79361111111111, 37.72416666666667, 37.76277777777778, 37.78638888888889, 37.794444444444444, 37.79055555555556, 37.7875, 37.8075, 37.78361111111111, 40.52194444444444, 40.58305555555556, 40.573888888888895, 40.49333333333333, 40.8675, 40.18138888888889, 40.19888888888889, 40.261944444444445, 39.89861111111111, 33.297777777777775, 33.778888888888886, 33.90694444444444, 45.01444444444444, 31.844166666666666, 40.24444444444445, 33.135555555555555, 39.51722222222222, 39.32944444444445, 39.10944444444445, 39.23166666666667, 39.163888888888884, 39.027499999999996, 39.10916666666667, 32.93222222222222, 45.23722222222222, 30.190555555555555, 30.209166666666665, 30.191666666666666, 30.221666666666664, 30.279722222222222, 30.147777777777776, 30.224444444444444, 30.161944444444444, 30.168333333333333, 30.249722222222225, 30.21972222222222, 30.17527777777778, 30.144166666666667, 30.145, 34.686388888888885, 44.45583333333334, 37.900277777777774, 40.47527777777778, 40.378055555555555, 40.37638888888889, 36.509166666666665, 36.50944444444445, 34.69361111111111, 40.496944444444445, 40.468333333333334, 40.32055555555556, 40.338055555555556, 40.52111111111111, 45.23722222222222, 34.151666666666664, 43.29888888888889, 38.849722222222226, 38.849722222222226, 38.927499999999995, 35.766666666666666, 35.69027777777777, 35.845, 35.67055555555555, 43.299166666666665, 34.20055555555556, 43.573055555555555, 43.494166666666665, 38.849722222222226, 35.73972222222222, 35.65611111111111, 35.75861111111111, 40.73583333333333, 43.861666666666665, 33.72666666666667, 41.552499999999995, 41.48888888888889, 33.72666666666667, 33.75555555555555, 35.20055555555556, 35.13055555555555, 35.000277777777775, 30.342777777777776, 30.3275, 38.629444444444445, 41.49611111111111, 41.529444444444444, 41.452222222222225, 41.47694444444445, 41.50694444444444, 41.54222222222222, 41.56944444444445, 41.48833333333334, 36.34666666666667, 35.13055555555555, 34.565555555555555, 34.56361111111111, 35.20111111111111, 35.14666666666667, 30.41444444444444, 43.98638888888889, 34.566111111111105, 34.01277777777778, 35.736666666666665, 47.668055555555554, 47.776944444444446, 47.612500000000004, 47.63944444444444, 47.697222222222216, 33.92972222222222, 37.36638888888889, 33.87833333333333, 37.34305555555556, 29.011666666666667, 29.814444444444444, 29.623333333333335, 29.638055555555557, 30.052500000000002, 29.793333333333337, 29.748333333333335], \"lon\": [-118.83666666666666, -118.32972222222222, -118.46888888888888, -122.47444444444444, -122.40527777777778, -122.4075, -122.42055555555557, -122.42166666666667, -122.3913888888889, -122.47194444444445, -122.40194444444445, -122.40333333333334, -122.38805555555557, -122.43388888888889, -122.42027777777778, -122.39833333333334, -122.4, -122.48416666666667, -122.39250000000001, -122.43555555555555, -122.40583333333333, -122.39555555555556, -122.47611111111111, -122.40833333333335, -105.14333333333335, -105.07833333333333, -105.11722222222221, -105.18166666666667, -105.64333333333335, -86.09138888888889, -86.01055555555556, -89.22416666666666, -92.47888888888889, -83.92750000000001, -84.38583333333334, -84.34916666666666, -84.03888888888889, -92.70694444444445, -89.24861111111112, -94.1613888888889, -94.79138888888889, -94.58194444444445, -94.78416666666666, -94.73416666666667, -94.81611111111111, -94.515, -94.83416666666666, -85.39750000000001, -123.11611111111111, -92.07972222222222, -92.04194444444444, -92.01694444444445, -91.98861111111111, -92.02111111111111, -92.09777777777778, -92.01583333333333, -92.045, -92.01833333333333, -92.01055555555556, -92.06611111111111, -92.07472222222222, -92.03527777777778, -92.07972222222222, -85.19472222222223, -94.41083333333334, -122.08611111111111, -87.00027777777778, -86.91861111111112, -86.81611111111111, -85.98972222222223, -85.98833333333333, -85.26972222222223, -86.93388888888889, -87.04583333333333, -86.74972222222222, -86.96888888888888, -86.76138888888889, -123.11611111111111, -97.4713888888889, -78.82416666666666, -98.34166666666667, -98.34166666666667, -98.47638888888889, -77.87777777777777, -77.93833333333333, -77.97027777777778, -77.80638888888889, -78.82416666666666, -97.42527777777778, -110.81555555555555, -110.95472222222223, -98.34166666666667, -77.86, -77.81805555555555, -78.00722222222223, -73.98833333333333, -87.77222222222223, -90.72888888888889, -81.55277777777778, -81.66361111111112, -90.72888888888889, -90.71944444444445, -84.88277777777778, -84.86194444444443, -84.9225, -95.12527777777777, -95.30166666666666, -94.58944444444444, -81.68111111111112, -81.63944444444445, -81.72527777777778, -81.66305555555556, -81.68972222222223, -81.61638888888888, -81.55694444444444, -81.72888888888889, -96.42527777777778, -84.86194444444443, -83.77805555555555, -83.64055555555557, -84.88333333333334, -84.90777777777778, -94.9088888888889, -87.76472222222222, -83.7775, -86.56722222222221, -80.64750000000001, -122.38055555555555, -122.32527777777777, -122.29527777777777, -122.39916666666667, -122.31805555555555, -89.01861111111111, -91.92, -88.98472222222222, -91.91805555555555, -95.4063888888889, -95.14416666666668, -95.2325, -95.325, -95.59055555555555, -95.525, -95.35305555555556], \"mode\": \"markers\", \"text\": [\"LOS ANGELES CA CELLTOWER\", \"LOS ANGELES CA CELLTOWER\", \"LOS ANGELES CA CELLTOWER\", \"SAN FRANCISCO CA CELLTOWER\", \"SAN FRANCISCO CA CELLTOWER\", \"SAN FRANCISCO CA CELLTOWER\", \"SAN FRANCISCO CA CELLTOWER\", \"SAN FRANCISCO CA CELLTOWER\", \"SAN FRANCISCO CA CELLTOWER\", \"SAN FRANCISCO CA CELLTOWER\", \"SAN FRANCISCO CA CELLTOWER\", \"SAN FRANCISCO CA CELLTOWER\", \"SAN FRANCISCO CA CELLTOWER\", \"SAN FRANCISCO CA CELLTOWER\", \"SAN FRANCISCO CA CELLTOWER\", \"SAN FRANCISCO CA CELLTOWER\", \"SAN FRANCISCO CA CELLTOWER\", \"SAN FRANCISCO CA CELLTOWER\", \"SAN FRANCISCO CA CELLTOWER\", \"SAN FRANCISCO CA CELLTOWER\", \"SAN FRANCISCO CA CELLTOWER\", \"SAN FRANCISCO CA CELLTOWER\", \"SAN FRANCISCO CA CELLTOWER\", \"SAN FRANCISCO CA CELLTOWER\", \"FORT COLLINS CO CELLTOWER\", \"FORT COLLINS CO CELLTOWER\", \"FORT COLLINS CO CELLTOWER\", \"FORT COLLINS CO CELLTOWER\", \"FORT COLLINS CO CELLTOWER\", \"ATLANTA IN CELLTOWER\", \"ATLANTA IN CELLTOWER\", \"ATLANTA IL CELLTOWER\", \"ATLANTA MO CELLTOWER\", \"ATLANTA GA CELLTOWER\", \"ATLANTA GA CELLTOWER\", \"ATLANTA GA CELLTOWER\", \"ATLANTA MI CELLTOWER\", \"ATLANTA LA CELLTOWER\", \"ATLANTA IL CELLTOWER\", \"ATLANTA TX CELLTOWER\", \"KANSAS CITY MO CELLTOWER\", \"KANSAS CITY MO CELLTOWER\", \"KANSAS CITY KS CELLTOWER\", \"KANSAS CITY MO CELLTOWER\", \"KANSAS CITY KS CELLTOWER\", \"KANSAS CITY MO CELLTOWER\", \"KANSAS CITY KS CELLTOWER\", \"LAFAYETTE AL CELLTOWER\", \"LAFAYETTE OR CELLTOWER\", \"LAFAYETTE LA CELLTOWER\", \"LAFAYETTE LA CELLTOWER\", \"LAFAYETTE LA CELLTOWER\", \"LAFAYETTE LA CELLTOWER\", \"LAFAYETTE LA CELLTOWER\", \"LAFAYETTE LA CELLTOWER\", \"LAFAYETTE LA CELLTOWER\", \"LAFAYETTE LA CELLTOWER\", \"LAFAYETTE LA CELLTOWER\", \"LAFAYETTE LA CELLTOWER\", \"LAFAYETTE LA CELLTOWER\", \"LAFAYETTE LA CELLTOWER\", \"LAFAYETTE LA CELLTOWER\", \"LAFAYETTE LA CELLTOWER\", \"LAFAYETTE GA CELLTOWER\", \"LAFAYETTE MN CELLTOWER\", \"LAFAYETTE CA CELLTOWER\", \"LAFAYETTE IN CELLTOWER\", \"LAFAYETTE IN CELLTOWER\", \"LAFAYETTE IN CELLTOWER\", \"LAFAYETTE TN CELLTOWER\", \"LAFAYETTE TN CELLTOWER\", \"LAFAYETTE GA CELLTOWER\", \"LAFAYETTE IN CELLTOWER\", \"LAFAYETTE IN CELLTOWER\", \"LAFAYETTE IN CELLTOWER\", \"LAFAYETTE IN CELLTOWER\", \"LAFAYETTE IN CELLTOWER\", \"LAFAYETTE OR CELLTOWER\", \"WILSON OK CELLTOWER\", \"WILSON NY CELLTOWER\", \"WILSON KS CELLTOWER\", \"WILSON KS CELLTOWER\", \"WILSON KS CELLTOWER\", \"WILSON NC CELLTOWER\", \"WILSON NC CELLTOWER\", \"WILSON NC CELLTOWER\", \"WILSON NC CELLTOWER\", \"WILSON NY CELLTOWER\", \"WILSON OK CELLTOWER\", \"WILSON WY CELLTOWER\", \"WILSON WY CELLTOWER\", \"WILSON KS CELLTOWER\", \"WILSON NC CELLTOWER\", \"WILSON NC CELLTOWER\", \"WILSON NC CELLTOWER\", \"NEW YORK NY CELLTOWER\", \"CLEVELAND WI CELLTOWER\", \"CLEVELAND MS CELLTOWER\", \"CLEVELAND OH CELLTOWER\", \"CLEVELAND OH CELLTOWER\", \"CLEVELAND MS CELLTOWER\", \"CLEVELAND MS CELLTOWER\", \"CLEVELAND TN CELLTOWER\", \"CLEVELAND TN CELLTOWER\", \"CLEVELAND TN CELLTOWER\", \"CLEVELAND TX CELLTOWER\", \"CLEVELAND TX CELLTOWER\", \"CLEVELAND MO CELLTOWER\", \"CLEVELAND OH CELLTOWER\", \"CLEVELAND OH CELLTOWER\", \"CLEVELAND OH CELLTOWER\", \"CLEVELAND OH CELLTOWER\", \"CLEVELAND OH CELLTOWER\", \"CLEVELAND OH CELLTOWER\", \"CLEVELAND OH CELLTOWER\", \"CLEVELAND OH CELLTOWER\", \"CLEVELAND OK CELLTOWER\", \"CLEVELAND TN CELLTOWER\", \"CLEVELAND GA CELLTOWER\", \"CLEVELAND GA CELLTOWER\", \"CLEVELAND TN CELLTOWER\", \"CLEVELAND TN CELLTOWER\", \"CLEVELAND TX CELLTOWER\", \"CLEVELAND WI CELLTOWER\", \"CLEVELAND GA CELLTOWER\", \"CLEVELAND AL CELLTOWER\", \"CLEVELAND NC CELLTOWER\", \"SEATTLE WA CELLTOWER\", \"SEATTLE WA CELLTOWER\", \"SEATTLE WA CELLTOWER\", \"SEATTLE WA CELLTOWER\", \"SEATTLE WA CELLTOWER\", \"HOUSTON MS CELLTOWER\", \"HOUSTON MO CELLTOWER\", \"HOUSTON MS CELLTOWER\", \"HOUSTON MO CELLTOWER\", \"HOUSTON TX CELLTOWER\", \"HOUSTON TX CELLTOWER\", \"HOUSTON TX CELLTOWER\", \"HOUSTON TX CELLTOWER\", \"HOUSTON TX CELLTOWER\", \"HOUSTON TX CELLTOWER\", \"HOUSTON TX CELLTOWER\"], \"type\": \"scattergeo\"}],                        {\"geo\": {\"scope\": \"usa\"}, \"template\": {\"data\": {\"bar\": [{\"error_x\": {\"color\": \"#2a3f5f\"}, \"error_y\": {\"color\": \"#2a3f5f\"}, \"marker\": {\"line\": {\"color\": \"#E5ECF6\", \"width\": 0.5}}, \"type\": \"bar\"}], \"barpolar\": [{\"marker\": {\"line\": {\"color\": \"#E5ECF6\", \"width\": 0.5}}, \"type\": \"barpolar\"}], \"carpet\": [{\"aaxis\": {\"endlinecolor\": \"#2a3f5f\", \"gridcolor\": \"white\", \"linecolor\": \"white\", \"minorgridcolor\": \"white\", \"startlinecolor\": \"#2a3f5f\"}, \"baxis\": {\"endlinecolor\": \"#2a3f5f\", \"gridcolor\": \"white\", \"linecolor\": \"white\", \"minorgridcolor\": \"white\", \"startlinecolor\": \"#2a3f5f\"}, \"type\": \"carpet\"}], \"choropleth\": [{\"colorbar\": {\"outlinewidth\": 0, \"ticks\": \"\"}, \"type\": \"choropleth\"}], \"contour\": [{\"colorbar\": {\"outlinewidth\": 0, \"ticks\": \"\"}, \"colorscale\": [[0.0, \"#0d0887\"], [0.1111111111111111, \"#46039f\"], [0.2222222222222222, \"#7201a8\"], [0.3333333333333333, \"#9c179e\"], [0.4444444444444444, \"#bd3786\"], [0.5555555555555556, \"#d8576b\"], [0.6666666666666666, \"#ed7953\"], [0.7777777777777778, \"#fb9f3a\"], [0.8888888888888888, \"#fdca26\"], [1.0, \"#f0f921\"]], \"type\": \"contour\"}], \"contourcarpet\": [{\"colorbar\": {\"outlinewidth\": 0, \"ticks\": \"\"}, \"type\": \"contourcarpet\"}], \"heatmap\": [{\"colorbar\": {\"outlinewidth\": 0, \"ticks\": \"\"}, \"colorscale\": [[0.0, \"#0d0887\"], [0.1111111111111111, \"#46039f\"], [0.2222222222222222, \"#7201a8\"], [0.3333333333333333, \"#9c179e\"], [0.4444444444444444, \"#bd3786\"], [0.5555555555555556, \"#d8576b\"], [0.6666666666666666, \"#ed7953\"], [0.7777777777777778, \"#fb9f3a\"], [0.8888888888888888, \"#fdca26\"], [1.0, \"#f0f921\"]], \"type\": \"heatmap\"}], \"heatmapgl\": [{\"colorbar\": {\"outlinewidth\": 0, \"ticks\": \"\"}, \"colorscale\": [[0.0, \"#0d0887\"], [0.1111111111111111, \"#46039f\"], [0.2222222222222222, \"#7201a8\"], [0.3333333333333333, \"#9c179e\"], [0.4444444444444444, \"#bd3786\"], [0.5555555555555556, \"#d8576b\"], [0.6666666666666666, \"#ed7953\"], [0.7777777777777778, \"#fb9f3a\"], [0.8888888888888888, \"#fdca26\"], [1.0, \"#f0f921\"]], \"type\": \"heatmapgl\"}], \"histogram\": [{\"marker\": {\"colorbar\": {\"outlinewidth\": 0, \"ticks\": \"\"}}, \"type\": \"histogram\"}], \"histogram2d\": [{\"colorbar\": {\"outlinewidth\": 0, \"ticks\": \"\"}, \"colorscale\": [[0.0, \"#0d0887\"], [0.1111111111111111, \"#46039f\"], [0.2222222222222222, \"#7201a8\"], [0.3333333333333333, \"#9c179e\"], [0.4444444444444444, \"#bd3786\"], [0.5555555555555556, \"#d8576b\"], [0.6666666666666666, \"#ed7953\"], [0.7777777777777778, \"#fb9f3a\"], [0.8888888888888888, \"#fdca26\"], [1.0, \"#f0f921\"]], \"type\": \"histogram2d\"}], \"histogram2dcontour\": [{\"colorbar\": {\"outlinewidth\": 0, \"ticks\": \"\"}, \"colorscale\": [[0.0, \"#0d0887\"], [0.1111111111111111, \"#46039f\"], [0.2222222222222222, \"#7201a8\"], [0.3333333333333333, \"#9c179e\"], [0.4444444444444444, \"#bd3786\"], [0.5555555555555556, \"#d8576b\"], [0.6666666666666666, \"#ed7953\"], [0.7777777777777778, \"#fb9f3a\"], [0.8888888888888888, \"#fdca26\"], [1.0, \"#f0f921\"]], \"type\": \"histogram2dcontour\"}], \"mesh3d\": [{\"colorbar\": {\"outlinewidth\": 0, \"ticks\": \"\"}, \"type\": \"mesh3d\"}], \"parcoords\": [{\"line\": {\"colorbar\": {\"outlinewidth\": 0, \"ticks\": \"\"}}, \"type\": \"parcoords\"}], \"pie\": [{\"automargin\": true, \"type\": \"pie\"}], \"scatter\": [{\"marker\": {\"colorbar\": {\"outlinewidth\": 0, \"ticks\": \"\"}}, \"type\": \"scatter\"}], \"scatter3d\": [{\"line\": {\"colorbar\": {\"outlinewidth\": 0, \"ticks\": \"\"}}, \"marker\": {\"colorbar\": {\"outlinewidth\": 0, \"ticks\": \"\"}}, \"type\": \"scatter3d\"}], \"scattercarpet\": [{\"marker\": {\"colorbar\": {\"outlinewidth\": 0, \"ticks\": \"\"}}, \"type\": \"scattercarpet\"}], \"scattergeo\": [{\"marker\": {\"colorbar\": {\"outlinewidth\": 0, \"ticks\": \"\"}}, \"type\": \"scattergeo\"}], \"scattergl\": [{\"marker\": {\"colorbar\": {\"outlinewidth\": 0, \"ticks\": \"\"}}, \"type\": \"scattergl\"}], \"scattermapbox\": [{\"marker\": {\"colorbar\": {\"outlinewidth\": 0, \"ticks\": \"\"}}, \"type\": \"scattermapbox\"}], \"scatterpolar\": [{\"marker\": {\"colorbar\": {\"outlinewidth\": 0, \"ticks\": \"\"}}, \"type\": \"scatterpolar\"}], \"scatterpolargl\": [{\"marker\": {\"colorbar\": {\"outlinewidth\": 0, \"ticks\": \"\"}}, \"type\": \"scatterpolargl\"}], \"scatterternary\": [{\"marker\": {\"colorbar\": {\"outlinewidth\": 0, \"ticks\": \"\"}}, \"type\": \"scatterternary\"}], \"surface\": [{\"colorbar\": {\"outlinewidth\": 0, \"ticks\": \"\"}, \"colorscale\": [[0.0, \"#0d0887\"], [0.1111111111111111, \"#46039f\"], [0.2222222222222222, \"#7201a8\"], [0.3333333333333333, \"#9c179e\"], [0.4444444444444444, \"#bd3786\"], [0.5555555555555556, \"#d8576b\"], [0.6666666666666666, \"#ed7953\"], [0.7777777777777778, \"#fb9f3a\"], [0.8888888888888888, \"#fdca26\"], [1.0, \"#f0f921\"]], \"type\": \"surface\"}], \"table\": [{\"cells\": {\"fill\": {\"color\": \"#EBF0F8\"}, \"line\": {\"color\": \"white\"}}, \"header\": {\"fill\": {\"color\": \"#C8D4E3\"}, \"line\": {\"color\": \"white\"}}, \"type\": \"table\"}]}, \"layout\": {\"annotationdefaults\": {\"arrowcolor\": \"#2a3f5f\", \"arrowhead\": 0, \"arrowwidth\": 1}, \"coloraxis\": {\"colorbar\": {\"outlinewidth\": 0, \"ticks\": \"\"}}, \"colorscale\": {\"diverging\": [[0, \"#8e0152\"], [0.1, \"#c51b7d\"], [0.2, \"#de77ae\"], [0.3, \"#f1b6da\"], [0.4, \"#fde0ef\"], [0.5, \"#f7f7f7\"], [0.6, \"#e6f5d0\"], [0.7, \"#b8e186\"], [0.8, \"#7fbc41\"], [0.9, \"#4d9221\"], [1, \"#276419\"]], \"sequential\": [[0.0, \"#0d0887\"], [0.1111111111111111, \"#46039f\"], [0.2222222222222222, \"#7201a8\"], [0.3333333333333333, \"#9c179e\"], [0.4444444444444444, \"#bd3786\"], [0.5555555555555556, \"#d8576b\"], [0.6666666666666666, \"#ed7953\"], [0.7777777777777778, \"#fb9f3a\"], [0.8888888888888888, \"#fdca26\"], [1.0, \"#f0f921\"]], \"sequentialminus\": [[0.0, \"#0d0887\"], [0.1111111111111111, \"#46039f\"], [0.2222222222222222, \"#7201a8\"], [0.3333333333333333, \"#9c179e\"], [0.4444444444444444, \"#bd3786\"], [0.5555555555555556, \"#d8576b\"], [0.6666666666666666, \"#ed7953\"], [0.7777777777777778, \"#fb9f3a\"], [0.8888888888888888, \"#fdca26\"], [1.0, \"#f0f921\"]]}, \"colorway\": [\"#636efa\", \"#EF553B\", \"#00cc96\", \"#ab63fa\", \"#FFA15A\", \"#19d3f3\", \"#FF6692\", \"#B6E880\", \"#FF97FF\", \"#FECB52\"], \"font\": {\"color\": \"#2a3f5f\"}, \"geo\": {\"bgcolor\": \"white\", \"lakecolor\": \"white\", \"landcolor\": \"#E5ECF6\", \"showlakes\": true, \"showland\": true, \"subunitcolor\": \"white\"}, \"hoverlabel\": {\"align\": \"left\"}, \"hovermode\": \"closest\", \"mapbox\": {\"style\": \"light\"}, \"paper_bgcolor\": \"white\", \"plot_bgcolor\": \"#E5ECF6\", \"polar\": {\"angularaxis\": {\"gridcolor\": \"white\", \"linecolor\": \"white\", \"ticks\": \"\"}, \"bgcolor\": \"#E5ECF6\", \"radialaxis\": {\"gridcolor\": \"white\", \"linecolor\": \"white\", \"ticks\": \"\"}}, \"scene\": {\"xaxis\": {\"backgroundcolor\": \"#E5ECF6\", \"gridcolor\": \"white\", \"gridwidth\": 2, \"linecolor\": \"white\", \"showbackground\": true, \"ticks\": \"\", \"zerolinecolor\": \"white\"}, \"yaxis\": {\"backgroundcolor\": \"#E5ECF6\", \"gridcolor\": \"white\", \"gridwidth\": 2, \"linecolor\": \"white\", \"showbackground\": true, \"ticks\": \"\", \"zerolinecolor\": \"white\"}, \"zaxis\": {\"backgroundcolor\": \"#E5ECF6\", \"gridcolor\": \"white\", \"gridwidth\": 2, \"linecolor\": \"white\", \"showbackground\": true, \"ticks\": \"\", \"zerolinecolor\": \"white\"}}, \"shapedefaults\": {\"line\": {\"color\": \"#2a3f5f\"}}, \"ternary\": {\"aaxis\": {\"gridcolor\": \"white\", \"linecolor\": \"white\", \"ticks\": \"\"}, \"baxis\": {\"gridcolor\": \"white\", \"linecolor\": \"white\", \"ticks\": \"\"}, \"bgcolor\": \"#E5ECF6\", \"caxis\": {\"gridcolor\": \"white\", \"linecolor\": \"white\", \"ticks\": \"\"}}, \"title\": {\"x\": 0.05}, \"xaxis\": {\"automargin\": true, \"gridcolor\": \"white\", \"linecolor\": \"white\", \"ticks\": \"\", \"title\": {\"standoff\": 15}, \"zerolinecolor\": \"white\", \"zerolinewidth\": 2}, \"yaxis\": {\"automargin\": true, \"gridcolor\": \"white\", \"linecolor\": \"white\", \"ticks\": \"\", \"title\": {\"standoff\": 15}, \"zerolinecolor\": \"white\", \"zerolinewidth\": 2}}}, \"title\": {\"text\": \"Locations of Cell Towers in the USA\"}},                        {\"responsive\": true}                    ).then(function(){\n",
       "                            \n",
       "var gd = document.getElementById('af883c74-567a-4e6d-9d60-416c185e84b2');\n",
       "var x = new MutationObserver(function (mutations, observer) {{\n",
       "        var display = window.getComputedStyle(gd).display;\n",
       "        if (!display || display === 'none') {{\n",
       "            console.log([gd, 'removed!']);\n",
       "            Plotly.purge(gd);\n",
       "            observer.disconnect();\n",
       "        }}\n",
       "}});\n",
       "\n",
       "// Listen for the removal of the full notebook cells\n",
       "var notebookContainer = gd.closest('#notebook-container');\n",
       "if (notebookContainer) {{\n",
       "    x.observe(notebookContainer, {childList: true});\n",
       "}}\n",
       "\n",
       "// Listen for the clearing of the current output cell\n",
       "var outputEl = gd.closest('.output');\n",
       "if (outputEl) {{\n",
       "    x.observe(outputEl, {childList: true});\n",
       "}}\n",
       "\n",
       "                        })                };                });            </script>        </div>"
      ]
     },
     "metadata": {},
     "output_type": "display_data"
    }
   ],
   "source": [
    "df = pd.read_csv('https://raw.githubusercontent.com/plotly/datasets/master/2011_february_us_airport_traffic.csv')\n",
    "con_df['text'] = con_df['LOCCITY'] + ' ' + con_df['LOCSTATE'] + ' ' + 'CELLTOWER'\n",
    "\n",
    "fig = go.Figure(data=go.Scattergeo(\n",
    "        lon = con_df['longitude'],\n",
    "        lat = con_df['latitude'],\n",
    "        text = con_df['text'],\n",
    "        mode = 'markers',\n",
    "        ))\n",
    "\n",
    "fig.update_layout(\n",
    "        title = 'Locations of Cell Towers in the USA',\n",
    "        geo_scope='usa',\n",
    "    )\n",
    "fig.show()"
   ]
  },
  {
   "cell_type": "code",
   "execution_count": null,
   "metadata": {},
   "outputs": [],
   "source": []
  }
 ],
 "metadata": {
  "kernelspec": {
   "display_name": "Python 3",
   "language": "python",
   "name": "python3"
  },
  "language_info": {
   "codemirror_mode": {
    "name": "ipython",
    "version": 3
   },
   "file_extension": ".py",
   "mimetype": "text/x-python",
   "name": "python",
   "nbconvert_exporter": "python",
   "pygments_lexer": "ipython3",
   "version": "3.7.7"
  }
 },
 "nbformat": 4,
 "nbformat_minor": 4
}
